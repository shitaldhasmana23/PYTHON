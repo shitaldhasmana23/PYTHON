{
 "cells": [
  {
   "cell_type": "code",
   "execution_count": 1,
   "id": "33cb3c41-33d4-437b-8ab7-2a75b215a67a",
   "metadata": {},
   "outputs": [],
   "source": [
    "# UNIT 3 \n",
    "#EXCEPTIONS INPUTS OUTPUTS"
   ]
  },
  {
   "cell_type": "code",
   "execution_count": 3,
   "id": "27cfc12b-4c01-4738-afcf-f37a4c8725d3",
   "metadata": {},
   "outputs": [
    {
     "name": "stdout",
     "output_type": "stream",
     "text": [
      "For n = 1000000 \n",
      "Execution time is 95450.0 microseconds\n"
     ]
    }
   ],
   "source": [
    "# SIMPLE EXECUTION TIME MANAGEMENT \n",
    "\n",
    "import time\n",
    "n = 1000000\n",
    "\n",
    "def testfn(n):\n",
    "    for i in range(0, n):\n",
    "        a = i * 10\n",
    "\n",
    "#Measure execution time of testfn\n",
    "\n",
    "start_time = time.time() * 1000000  # Start timer in microseconds\n",
    "testfn(n)\n",
    "end_time = time.time() * 1000000  # End timer\n",
    "print(f\"For n = {n} \\nExecution time is {end_time - start_time} microseconds\")"
   ]
  },
  {
   "cell_type": "code",
   "execution_count": 5,
   "id": "f54cf4ce-9b59-4f54-97dc-321f1fe8585d",
   "metadata": {},
   "outputs": [
    {
     "name": "stdout",
     "output_type": "stream",
     "text": [
      "For n = 1000000 \n",
      "Execution time is 109848.75 microseconds\n",
      "For n = 1000000 \n",
      "Execution time is 93826.5 microseconds\n"
     ]
    }
   ],
   "source": [
    "# USING WRAPPER FUNCTION \n",
    "\n",
    "start_time = time.time() * 1000000  # Start timer in microseconds\n",
    "testfn(n)\n",
    "end_time = time.time() * 1000000  # End timer\n",
    "print(f\"For n = {n} \\nExecution time is {end_time - start_time} microseconds\")\n",
    "\n",
    "def wrapper(func, *args, **kwargs):\n",
    "    def wrapped(*args, **kwargs):\n",
    "        start_time = time.time() * 1000000\n",
    "        func(*args, **kwargs)  # Call the original function\n",
    "        end_time = time.time() * 1000000\n",
    "        print(f\"For n = {n} \\nExecution time is {end_time - start_time} microseconds\")\n",
    "    return wrapped\n",
    "\n",
    "n = 1000000\n",
    "wrapped_fn = wrapper(testfn, n)\n",
    "wrapped_fn(n)\n",
    "\n"
   ]
  },
  {
   "cell_type": "code",
   "execution_count": 7,
   "id": "75d876dd-bdfd-4d4b-814b-90be99f74b79",
   "metadata": {},
   "outputs": [
    {
     "name": "stdout",
     "output_type": "stream",
     "text": [
      "For n = 1000000 \n",
      "Execution time is 5053025.25 microseconds\n",
      "For n = 1000000 \n",
      "Execution time is 62839.0 microseconds\n"
     ]
    }
   ],
   "source": [
    "#  USING DECORATOR\n",
    "\n",
    "import time\n",
    "\n",
    "# Wrapper function to measure execution time\n",
    "\n",
    "def wrapper(func, *args, **kwargs):\n",
    "    def wrapped(*args, **kwargs):\n",
    "        start_time = time.time() * 1000000\n",
    "        func(*args, **kwargs)\n",
    "        end_time = time.time() * 1000000\n",
    "        print(f\"For n = {n} \\nExecution time is {end_time - start_time} microseconds\")\n",
    "    return wrapped\n",
    "\n",
    "@wrapper  # Apply the wrapper as a decorator\n",
    "def testfn(n):\n",
    "    for i in range(0, n):\n",
    "        a = i * 10\n",
    "\n",
    "@wrapper\n",
    "def random1(n):\n",
    "    n**n\n",
    "\n",
    "n = 1000000\n",
    "random1(n)\n",
    "testfn(n)"
   ]
  },
  {
   "cell_type": "code",
   "execution_count": 9,
   "id": "662e3ea6-20af-4932-91df-6ca78ca22d51",
   "metadata": {},
   "outputs": [
    {
     "name": "stdout",
     "output_type": "stream",
     "text": [
      "Execution time: 93799.75 microseconds\n",
      "Done!\n",
      "Done!\n"
     ]
    }
   ],
   "source": [
    "# STRIPPING A DECORATOR \n",
    "\n",
    "import time\n",
    "\n",
    "def wrapper(func):\n",
    "    def wrapped(*args, **kwargs):\n",
    "        start_time = time.time() * 1000000\n",
    "        result = func(*args, **kwargs)\n",
    "        end_time = time.time() * 1000000\n",
    "        print(f\"Execution time: {end_time - start_time} microseconds\")\n",
    "        return result\n",
    "    wrapped.wrapped = func  # Store the original function # here it is wrapped.dunder(wrapped)\n",
    "    return wrapped\n",
    "\n",
    "@wrapper\n",
    "def testfn(n):\n",
    "    for i in range(n):\n",
    "        a = i * 10\n",
    "    return \"Done!\"\n",
    "\n",
    "n = 1000000\n",
    "print(testfn(n))  # Calls the decorated function\n",
    "\n",
    "#If you want to strip the decorator:\n",
    "\n",
    "original_testfn = testfn.wrapped #.dunder(wrapped)\n",
    "print(original_testfn(n))  # Calls the original function without timing\n"
   ]
  },
  {
   "cell_type": "code",
   "execution_count": 17,
   "id": "33e700de-1686-4a80-b77d-3d79ef3b3199",
   "metadata": {},
   "outputs": [
    {
     "name": "stdout",
     "output_type": "stream",
     "text": [
      "Calling wrapped with arguments (1000,)\n",
      "Execution time: 0.0 microseconds\n",
      "Done!\n"
     ]
    }
   ],
   "source": [
    "# CHAINING MULTIPLE DECORATORS\n",
    "\n",
    "import time\n",
    "\n",
    "def logger(func):\n",
    "    def wrapped(*args, **kwargs):\n",
    "        print(f\"Calling {func.__name__} with arguments {args}\")  # Use __name__ for function name\n",
    "        return func(*args, **kwargs)\n",
    "    return wrapped\n",
    "\n",
    "def timer(func):\n",
    "    def wrapped(*args, **kwargs):\n",
    "        start_time = time.time() * 1000000  # Start time in microseconds\n",
    "        result = func(*args, **kwargs)  # Call the original function\n",
    "        end_time = time.time() * 1000000  # End time in microseconds\n",
    "        print(f\"Execution time: {end_time - start_time} microseconds\")\n",
    "        return result\n",
    "    return wrapped\n",
    "\n",
    "@logger\n",
    "@timer  # Note: timer is applied first, then logger\n",
    "def testfn(n):\n",
    "    for i in range(n):\n",
    "        a = i * 10\n",
    "    return \"Done!\"\n",
    "\n",
    "print(testfn(1000))  # Call the decorated function\n"
   ]
  },
  {
   "cell_type": "code",
   "execution_count": 21,
   "id": "a91d7bf7-b606-4d7f-a1a7-480a071e8d2d",
   "metadata": {},
   "outputs": [
    {
     "name": "stdout",
     "output_type": "stream",
     "text": [
      "Method my_method called with args: (5,)\n",
      "Processing 5\n",
      "50\n"
     ]
    }
   ],
   "source": [
    "# DECORATING CLASS METHODS\n",
    "\n",
    "def logger(func):\n",
    "    def wrapped(self, *args, **kwargs):\n",
    "        print(f\"Method {func.__name__} called with args: {args}\")  # Corrected to use __name__\n",
    "        return func(self, *args, **kwargs)\n",
    "    return wrapped\n",
    "\n",
    "class MyClass:\n",
    "    @logger\n",
    "    def my_method(self, x):\n",
    "        print(f\"Processing {x}\")\n",
    "        return x * 10\n",
    "\n",
    "# Create an instance of MyClass and call the method\n",
    "obj = MyClass()\n",
    "print(obj.my_method(5))  # Calls the decorated method\n"
   ]
  },
  {
   "cell_type": "code",
   "execution_count": 23,
   "id": "90226349-e523-4bfc-bdcd-12e376cb73cd",
   "metadata": {},
   "outputs": [],
   "source": [
    "# DECORATORS WITH ARGUMENTS\n",
    "\n",
    "def repeat(times):\n",
    "    def decorator(func):\n",
    "        def wrapped(*args, **kwargs):\n",
    "            for _ in range(times):\n",
    "                func(*args, **kwargs)\n",
    "        return wrapped\n",
    "    return decorator\n",
    "\n",
    "@repeat(3) \n",
    "def say_hello():\n",
    "    print(\"Hello!\")"
   ]
  },
  {
   "cell_type": "code",
   "execution_count": 29,
   "id": "0469d7f8-fc79-4450-9537-c9bad19ec033",
   "metadata": {},
   "outputs": [],
   "source": [
    "#CLASS DECORATORS\n",
    "\n",
    "class DecoratorClass:\n",
    "    def __init__(self, func):\n",
    "        self.func = func\n",
    "        self.call_count = 0\n",
    "    \n",
    "    def __call__(self, *args, **kwargs):\n",
    "        self.call_count += 1\n",
    "        print(f\"Call {self.call_count} of {self.func.__name__}\")  # Correct to use __name__\n",
    "        return self.func(*args, **kwargs)\n",
    "\n",
    "@DecoratorClass\n",
    "def say_hello():\n",
    "    print(\"Hello!\")"
   ]
  },
  {
   "cell_type": "code",
   "execution_count": 33,
   "id": "a5e40028-8f3b-42bc-be55-c584509cab43",
   "metadata": {},
   "outputs": [
    {
     "name": "stdout",
     "output_type": "stream",
     "text": [
      "5\n",
      "10\n"
     ]
    }
   ],
   "source": [
    "# BUILT-IN PYTHON DECORATORS \n",
    "\n",
    "class Circle:\n",
    "    def __init__(self, radius):  # Corrected to __init__\n",
    "        self._radius = radius\n",
    "\n",
    "    @property\n",
    "    def radius(self):\n",
    "        return self._radius\n",
    "\n",
    "    @radius.setter\n",
    "    def radius(self, value):\n",
    "        if value > 0:\n",
    "            self._radius = value\n",
    "        else:\n",
    "            raise ValueError(\"Radius must be positive\")\n",
    "\n",
    "# Create an instance of Circle\n",
    "circle = Circle(5)\n",
    "\n",
    "# Using the getter to access the radius\n",
    "print(circle.radius)  # Getter, should print 5\n",
    "\n",
    "# Using the setter to update the radius\n",
    "circle.radius = 10  # Setter, will change the radius to 10\n",
    "print(circle.radius)  # Getter, should print 10\n",
    "\n",
    "# This will raise an exception since negative radius is not allowed\n",
    "# circle.radius = -5  # Uncommenting this will raise a ValueError\n"
   ]
  },
  {
   "cell_type": "code",
   "execution_count": 35,
   "id": "a88d858d-9bdc-49fc-8f8c-f3b0b3503b45",
   "metadata": {},
   "outputs": [
    {
     "name": "stdout",
     "output_type": "stream",
     "text": [
      "Age must be at least 18!\n"
     ]
    }
   ],
   "source": [
    "# RAISE \n",
    "\n",
    "def check_age(age):\n",
    "    if age < 18:\n",
    "        raise ValueError(\"Age must be at least 18!\")\n",
    "    return \"Age is valid.\"\n",
    "\n",
    "try:\n",
    "    check_age(16)\n",
    "except ValueError as e:\n",
    "    print(e)\n"
   ]
  },
  {
   "cell_type": "code",
   "execution_count": 41,
   "id": "b07a83e5-c1f8-494b-8c15-cc63bc0e6151",
   "metadata": {},
   "outputs": [
    {
     "name": "stdout",
     "output_type": "stream",
     "text": [
      "Hello, this is a test.\n"
     ]
    }
   ],
   "source": [
    "# HANDLING FILES (INPUT AND OUTPUT IN PYTHON)\n",
    "\n",
    "# WRITING DATA TO A FILE\n",
    "\n",
    "file = open(\"example.txt\", \"w\")\n",
    "file.write(\"Hello, this is a test.\")\n",
    "file.close()\n",
    "\n",
    "#READING DATA FROM A FILE \n",
    "\n",
    "file = open(\"example.txt\", \"r\")\n",
    "content = file.read()\n",
    "print(content)\n",
    "file.close()"
   ]
  },
  {
   "cell_type": "code",
   "execution_count": 45,
   "id": "14e9e25f-e0fd-473a-8ddd-dddd4f96a54d",
   "metadata": {},
   "outputs": [
    {
     "name": "stdout",
     "output_type": "stream",
     "text": [
      "Hello, this is a test.\n"
     ]
    }
   ],
   "source": [
    "# READING AND WRITING WITHOUT with\n",
    "\n",
    "# Opening a file for reading (without 'with')\n",
    "file = open('example.txt', 'r')\n",
    "content = file.read()  # Reading the entire file content\n",
    "print(content)  # Displaying the content\n",
    "file.close()  # Closing the file manually\n",
    "\n",
    "#Opening a file for writing (without 'with')\n",
    "file = open('example.txt', 'w')\n",
    "file.write('Hello, World!')  # Writing to the file\n",
    "file.close()  # Manually closing the file"
   ]
  },
  {
   "cell_type": "code",
   "execution_count": 54,
   "id": "19727708-93d5-45b7-b74c-f81adfbb4049",
   "metadata": {},
   "outputs": [
    {
     "name": "stdout",
     "output_type": "stream",
     "text": [
      "Hello, World!\n"
     ]
    }
   ],
   "source": [
    "# WITH with STATEMENT \n",
    "\n",
    "# Opening a file for reading (with 'with')\n",
    "with open('example.txt', 'r') as file:\n",
    "    content = file.read()  # Reading the content\n",
    "    print(content)  # Displaying the content\n",
    "#The file is automatically closed after the block\n",
    "\n",
    "#Opening a file for writing (with 'with')\n",
    "\n",
    "with open('example.txt', 'w') as file:\n",
    "    file.write('Hello, World!')  # Writing to the file\n",
    "#The file is automatically closed after the block\n",
    "\n",
    "\n"
   ]
  }
 ],
 "metadata": {
  "kernelspec": {
   "display_name": "Python 3 (ipykernel)",
   "language": "python",
   "name": "python3"
  },
  "language_info": {
   "codemirror_mode": {
    "name": "ipython",
    "version": 3
   },
   "file_extension": ".py",
   "mimetype": "text/x-python",
   "name": "python",
   "nbconvert_exporter": "python",
   "pygments_lexer": "ipython3",
   "version": "3.12.4"
  }
 },
 "nbformat": 4,
 "nbformat_minor": 5
}
