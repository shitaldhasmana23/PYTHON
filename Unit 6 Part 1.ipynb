{
 "cells": [
  {
   "cell_type": "code",
   "execution_count": 3,
   "id": "138cba2d-9497-46cc-a4b6-c9cdbc7c6b0d",
   "metadata": {},
   "outputs": [
    {
     "name": "stdout",
     "output_type": "stream",
     "text": [
      "Current Working Directory: C:\\Users\\Shubham\n"
     ]
    }
   ],
   "source": [
    "# os module in Python is a standard library module that provides a way of interacting with the operating system. \n",
    "# It enables you to perform tasks such as file and directory management, environment variable handling, process management, and more.\n",
    "\n",
    "# 1. **Get the Current Working Directory**\n",
    "# program to print the current working directory using the `os` module.\n",
    "import os\n",
    "\n",
    "#Get the current working directory\n",
    "cwd = os.getcwd()\n",
    "print(f\"Current Working Directory: {cwd}\")\n",
    "\n",
    "#`os.getcwd()` returns the path of the current working directory.\n",
    "# This function is useful to know where your Python script is being executed.\n",
    "\n"
   ]
  },
  {
   "cell_type": "code",
   "execution_count": 4,
   "id": "8acbf393-1048-4fd3-8363-0990095bd05c",
   "metadata": {},
   "outputs": [
    {
     "name": "stdout",
     "output_type": "stream",
     "text": [
      "Changed Directory: C:\\Users\\Shubham\n"
     ]
    }
   ],
   "source": [
    "#  2. Change the Current Working Directory\n",
    "# program that changes the working directory to another location and confirms the change.\n",
    "\n",
    "import os\n",
    "\n",
    "#Change directory to user's home directory\n",
    "\n",
    "os.chdir(os.path.expanduser('~'))\n",
    "\n",
    "#Verify the change\n",
    "print(f\"Changed Directory: {os.getcwd()}\")\n",
    "\n",
    "#os.chdir(path)` changes the working directory to the given `path`.\n",
    "#`os.path.expanduser('~')` returns the path to the user’s home directory.\n",
    "\n",
    "\n"
   ]
  },
  {
   "cell_type": "code",
   "execution_count": 6,
   "id": "544024f1-f219-467b-9fa6-c40a5adf49d6",
   "metadata": {},
   "outputs": [
    {
     "name": "stdout",
     "output_type": "stream",
     "text": [
      "Directory already exists\n"
     ]
    }
   ],
   "source": [
    "# 3.  Create a New Directory\n",
    "# program that creates a directory named `new_folder` if it doesn't exist.\n",
    "import os\n",
    "\n",
    "#  Check if the directory exists, if not, create it\n",
    "if not os.path.exists('new_folder'): #  os.path.exists(path)` checks if a path exists, which prevents errors when trying to create an existing directory.\n",
    "    os.mkdir('new_folder')  #  os.mkdir(path)` creates a directory with the specified path.\n",
    "    print(\"Directory 'new_folder' created\")\n",
    "else:\n",
    "    print(\"Directory already exists\")\n",
    "\n"
   ]
  },
  {
   "cell_type": "code",
   "execution_count": 7,
   "id": "3f9239f1-4691-4a31-ad1f-9b8dd849dff4",
   "metadata": {},
   "outputs": [
    {
     "name": "stdout",
     "output_type": "stream",
     "text": [
      "Items in current directory: ['.android', '.atom', '.bash_history', '.cache', '.dotnet', '.eclipse', '.emulator_console_auth_token', '.git-for-windows-updater', '.gitconfig', '.gradle', '.idlerc', '.ipynb_checkpoints', '.ipython', '.jdks', '.jupyter', '.m2', '.matplotlib', '.nbi', '.nuget', '.p2', '.templateengine', '.VirtualBox', '.vscode', '.vscode-cli', '11september.ipynb', '20 nov.ipynb', '2309_2024.ipynb', '2sep.ipynb', '2september.py', '3009_2024.ipynb', '3D Objects', '9sept.ipynb', 'alphabets', 'AndroidStudioProjects', 'ansel', 'AppData', 'Application Data', 'asd.java', 'Assigenment2.ipynb', 'BCA', 'BInary serach.java', 'Binarysearch.class', 'Binarysearch.java', 'BinarySearchTree.class', 'BinarySearchTree.java', 'BullseyeCoverageError.txt', 'c++', 'combined_data.xlsx', 'Contacts', 'Cookies', 'CSV_TO_EXCEL.ipynb', 'CSV_TO_EXCEL2.ipynb', 'CSV__TO__EXCEL_WITH COMMENTS.ipynb', 'data.xlsx', 'Desktop', 'Documents', 'Downloads', 'dwhelper', 'eclipse', 'Favorites', 'first.cpp', 'firstnotebook.ipynb', 'heap.java', 'hello.java', 'HHeap.java', 'imppp.txt', 'java folder', 'linearsearch.class', 'Links', 'Local Settings', 'logs', 'management system project.java', 'MaxHeap.class', 'MaxHeap.java', 'MicrosoftEdgeBackups', 'modified_data.xlsx', 'Music', 'My Documents', 'my module2.py', 'mymodule.py', 'NetHood', 'new_folder', 'Node.class', 'ntuser.dat', 'ntuser.dat.log1', 'ntuser.dat.log2', 'ntuser.dat{2d89e87b-18fe-11ef-beda-7066557bf6ba}.TM.blf', 'ntuser.dat{2d89e87b-18fe-11ef-beda-7066557bf6ba}.TMContainer00000000000000000001.regtrans-ms', 'ntuser.dat{2d89e87b-18fe-11ef-beda-7066557bf6ba}.TMContainer00000000000000000002.regtrans-ms', 'NTUSER.DAT{a2332f18-cdbf-11ec-8680-002248483d79}.TM.blf', 'NTUSER.DAT{a2332f18-cdbf-11ec-8680-002248483d79}.TMContainer00000000000000000001.regtrans-ms', 'NTUSER.DAT{a2332f18-cdbf-11ec-8680-002248483d79}.TMContainer00000000000000000002.regtrans-ms', 'ntuser.ini', 'numpy.ipynb', 'OneDrive', 'Oracle', 'Pictures', 'PrintHood', 'PycharmProjects', 'Recent', 'Saved Games', 'Scientific_Calculator .ipynb', 'Scientific_Calculator.ipynb', 'Searches', 'SendTo', 'shital', 'shtak16.txt', 'source', 'Start Menu', 'Templates', 'Tracing', 'umymodule.py', 'Unit 6 Part 1.ipynb', 'Unit 6 Part 6.ipynb', 'Unit4 part1 OOPs.ipynb', 'Unit4 part1.ipynb', 'Unit4 Part2.ipynb', 'Unit4_part1OOPS2.ipynb', 'Untitled Folder', 'Untitled Folder 1', 'Untitled Folder 2', 'Untitled.ipynb', 'untitled.py', 'Untitled1.ipynb', 'untitled1.py', 'Untitled10.ipynb', 'Untitled11.ipynb', 'Untitled12.ipynb', 'Untitled13.ipynb', 'Untitled14.ipynb', 'Untitled15.ipynb', 'Untitled16.ipynb', 'Untitled17.ipynb', 'Untitled18.ipynb', 'Untitled19.ipynb', 'Untitled2.ipynb', 'Untitled20.ipynb', 'Untitled3.ipynb', 'Untitled4.ipynb', 'Untitled5.ipynb', 'Untitled6.ipynb', 'Untitled7.ipynb', 'Untitled8.ipynb', 'Untitled9.ipynb', 'Videos']\n"
     ]
    }
   ],
   "source": [
    "### 4. **List Files in a Directory**\n",
    "#    program to list all files and directories in the current directory.\n",
    "\n",
    "import os\n",
    "\n",
    "# List files and directories\n",
    "items = os.listdir()\n",
    "print(\"Items in current directory:\", items)\n",
    "#   os.listdir(path='.')` returns a list of files and directories in the given directory. If no path is provided, it defaults to the current directory.\n",
    "\n"
   ]
  },
  {
   "cell_type": "code",
   "execution_count": 8,
   "id": "24ca0132-53ed-45bb-a43e-bb6557c650ec",
   "metadata": {},
   "outputs": [
    {
     "name": "stdout",
     "output_type": "stream",
     "text": [
      "Directory renamed to 'renamed_folder'\n"
     ]
    }
   ],
   "source": [
    "# 5. Rename a File or Directory\n",
    "#program that renames `new_folder` to `renamed_folder`.\n",
    "\n",
    "import os\n",
    "\n",
    "# Rename directory\n",
    "if os.path.exists('new_folder'):\n",
    "    os.rename('new_folder', 'renamed_folder')\n",
    "    print(\"Directory renamed to 'renamed_folder'\")\n",
    "else:\n",
    "    print(\"Directory 'new_folder' does not exist\")\n",
    "\n",
    "    # os.rename(src, dst)` renames the file or directory from `src` to `dst`."
   ]
  },
  {
   "cell_type": "code",
   "execution_count": 9,
   "id": "6c3c8b85-36d7-4359-b628-40c7337d9edc",
   "metadata": {},
   "outputs": [
    {
     "name": "stdout",
     "output_type": "stream",
     "text": [
      "Directory 'renamed_folder' removed\n"
     ]
    }
   ],
   "source": [
    "# 6. **Delete a Directory**\n",
    "# program to delete the `renamed_folder`.\n",
    "\n",
    "import os\n",
    "\n",
    "# Remove the directory if it exists\n",
    "if os.path.exists('renamed_folder'):\n",
    "    os.rmdir('renamed_folder')\n",
    "    print(\"Directory 'renamed_folder' removed\")\n",
    "else:\n",
    "    print(\"Directory does not exist\")\n",
    "\n",
    "#  os.rmdir(path)` removes an empty directory."
   ]
  },
  {
   "cell_type": "code",
   "execution_count": 10,
   "id": "4aadfcae-5e02-4c5f-98fd-da85b3d82451",
   "metadata": {},
   "outputs": [
    {
     "name": "stdout",
     "output_type": "stream",
     "text": [
      "Operating System: nt\n",
      "Process ID: 21072\n"
     ]
    }
   ],
   "source": [
    "# 7. **Get Information About the Operating System**\n",
    "# program to print the name of the operating system and the current process ID.\n",
    "\n",
    "import os\n",
    "\n",
    "# Print OS name and process ID\n",
    "print(f\"Operating System: {os.name}\")\n",
    "# os.name` returns the name of the OS ('posix', 'nt', or 'java').\n",
    "print(f\"Process ID: {os.getpid()}\")\n",
    "#os.getpid()` returns the current process ID."
   ]
  },
  {
   "cell_type": "code",
   "execution_count": 12,
   "id": "5367fba9-6df9-4975-916f-ebef2ad67439",
   "metadata": {},
   "outputs": [
    {
     "name": "stdout",
     "output_type": "stream",
     "text": [
      "Environment Variables: environ({'ACSETUPSVCPORT': '23210', 'ACSVCPORT': '17532', 'ALLUSERSPROFILE': 'C:\\\\ProgramData', 'APPDATA': 'C:\\\\Users\\\\Shubham\\\\AppData\\\\Roaming', 'COMMONPROGRAMFILES': 'C:\\\\Program Files\\\\Common Files', 'COMMONPROGRAMFILES(X86)': 'C:\\\\Program Files (x86)\\\\Common Files', 'COMMONPROGRAMW6432': 'C:\\\\Program Files\\\\Common Files', 'COMPUTERNAME': 'LAPTOP-LG7LNSAB', 'COMSPEC': 'C:\\\\WINDOWS\\\\system32\\\\cmd.exe', 'DRIVERDATA': 'C:\\\\Windows\\\\System32\\\\Drivers\\\\DriverData', 'HOMEDRIVE': 'C:', 'HOMEPATH': '\\\\Users\\\\Shubham', 'IPY_INTERRUPT_EVENT': '5168', 'JAVA_HOME': 'C:\\\\Users\\\\Shubham\\\\AppData\\\\Local\\\\Programs\\\\Eclipse Adoptium\\\\jdk-17.0.11.9-hotspot\\\\', 'JPY_INTERRUPT_EVENT': '5168', 'JPY_PARENT_PID': '5456', 'JPY_SESSION_NAME': 'C:\\\\Users\\\\Shubham\\\\Unit 6 Part 1.ipynb', 'LOCALAPPDATA': 'C:\\\\Users\\\\Shubham\\\\AppData\\\\Local', 'LOGONSERVER': '\\\\\\\\LAPTOP-LG7LNSAB', 'NUMBER_OF_PROCESSORS': '12', 'ONEDRIVE': 'C:\\\\Users\\\\Shubham\\\\OneDrive', 'ONEDRIVECONSUMER': 'C:\\\\Users\\\\Shubham\\\\OneDrive', 'OS': 'Windows_NT', 'PATH': 'C:\\\\Program Files\\\\Common Files\\\\Oracle\\\\Java\\\\javapath;C:\\\\MinGW\\\\bin;D:\\\\DBMS\\\\app\\\\oracle\\\\product\\\\11.2.0\\\\server\\\\bin;C:\\\\Windows\\\\system32;C:\\\\Windows;C:\\\\Windows\\\\System32\\\\Wbem;C:\\\\Windows\\\\System32\\\\WindowsPowerShell\\\\v1.0\\\\;C:\\\\Windows\\\\System32\\\\OpenSSH\\\\;C:\\\\Program Files (x86)\\\\NVIDIA Corporation\\\\PhysX\\\\Common;C:\\\\Program Files\\\\NVIDIA Corporation\\\\NVIDIA NvDLISR;C:\\\\WINDOWS\\\\system32;C:\\\\WINDOWS;C:\\\\WINDOWS\\\\System32\\\\Wbem;C:\\\\WINDOWS\\\\System32\\\\WindowsPowerShell\\\\v1.0\\\\;C:\\\\WINDOWS\\\\System32\\\\OpenSSH\\\\;C:\\\\Program Files\\\\dotnet\\\\;C:\\\\Program Files\\\\Java\\\\jdk-19\\\\bin;C:\\\\Program Files\\\\Microsoft SQL Server\\\\150\\\\Tools\\\\Binn\\\\;C:\\\\Program Files\\\\Git\\\\cmd;C:\\\\Program Files\\\\MySQL\\\\MySQL Server 8.0\\\\bin;C:\\\\Program Files\\\\MySQL\\\\MySQL Shell 8.0\\\\bin\\\\;C:\\\\Users\\\\Shubham\\\\AppData\\\\Local\\\\Programs\\\\Python\\\\Python312\\\\Scripts\\\\;C:\\\\Users\\\\Shubham\\\\AppData\\\\Local\\\\Programs\\\\Python\\\\Python312\\\\;C:\\\\Users\\\\Shubham\\\\AppData\\\\Local\\\\Programs\\\\Python\\\\Launcher\\\\;C:\\\\Users\\\\Shubham\\\\AppData\\\\Local\\\\Programs\\\\Eclipse Adoptium\\\\jdk-17.0.11.9-hotspot\\\\bin;C:\\\\Users\\\\Shubham\\\\AppData\\\\Local\\\\Microsoft\\\\WindowsApps;C:\\\\Users\\\\Shubham\\\\AppData\\\\Local\\\\atom\\\\bin;C:\\\\Users\\\\Shubham\\\\AppData\\\\Local\\\\Microsoft\\\\WindowsApps;C:\\\\Users\\\\Shubham\\\\AppData\\\\Local\\\\Programs\\\\Microsoft VS Code\\\\bin;C:\\\\Users\\\\Shubham\\\\AppData\\\\Local\\\\GitHubDesktop\\\\bin;C:\\\\flutter_windows_3.24.4-stable\\\\flutter\\\\bin;', 'PATHEXT': '.COM;.EXE;.BAT;.CMD;.VBS;.VBE;.JS;.JSE;.WSF;.WSH;.MSC;.CPL', 'PROCESSOR_ARCHITECTURE': 'AMD64', 'PROCESSOR_IDENTIFIER': 'AMD64 Family 23 Model 96 Stepping 1, AuthenticAMD', 'PROCESSOR_LEVEL': '23', 'PROCESSOR_REVISION': '6001', 'PROGRAMDATA': 'C:\\\\ProgramData', 'PROGRAMFILES': 'C:\\\\Program Files', 'PROGRAMFILES(X86)': 'C:\\\\Program Files (x86)', 'PROGRAMW6432': 'C:\\\\Program Files', 'PSMODULEPATH': 'C:\\\\Users\\\\Shubham\\\\Documents\\\\WindowsPowerShell\\\\Modules;C:\\\\Program Files\\\\WindowsPowerShell\\\\Modules;C:\\\\WINDOWS\\\\system32\\\\WindowsPowerShell\\\\v1.0\\\\Modules', 'PUBLIC': 'C:\\\\Users\\\\Public', 'RLSSVCPORT': '22112', 'SESSIONNAME': 'Console', 'SYSTEMDRIVE': 'C:', 'SYSTEMROOT': 'C:\\\\WINDOWS', 'TEMP': 'C:\\\\Users\\\\Shubham\\\\AppData\\\\Local\\\\Temp', 'TMP': 'C:\\\\Users\\\\Shubham\\\\AppData\\\\Local\\\\Temp', 'USERDOMAIN': 'LAPTOP-LG7LNSAB', 'USERDOMAIN_ROAMINGPROFILE': 'LAPTOP-LG7LNSAB', 'USERNAME': 'Shubham', 'USERPROFILE': 'C:\\\\Users\\\\Shubham', 'VBOX_MSI_INSTALL_PATH': 'C:\\\\Program Files\\\\Oracle\\\\VirtualBox\\\\', 'WINDIR': 'C:\\\\WINDOWS', 'WSLENV': 'WT_SESSION:WT_PROFILE_ID:', 'WT_PROFILE_ID': '{61c54bbd-c2c6-5271-96e7-009a87ff44bf}', 'WT_SESSION': '52631af9-d023-41a1-a451-a166778c4926', 'PYDEVD_USE_FRAME_EVAL': 'NO', 'TERM': 'xterm-color', 'CLICOLOR': '1', 'FORCE_COLOR': '1', 'CLICOLOR_FORCE': '1', 'PAGER': 'cat', 'GIT_PAGER': 'cat', 'MPLBACKEND': 'module://matplotlib_inline.backend_inline'})\n",
      "PATH: C:\\Program Files\\Common Files\\Oracle\\Java\\javapath;C:\\MinGW\\bin;D:\\DBMS\\app\\oracle\\product\\11.2.0\\server\\bin;C:\\Windows\\system32;C:\\Windows;C:\\Windows\\System32\\Wbem;C:\\Windows\\System32\\WindowsPowerShell\\v1.0\\;C:\\Windows\\System32\\OpenSSH\\;C:\\Program Files (x86)\\NVIDIA Corporation\\PhysX\\Common;C:\\Program Files\\NVIDIA Corporation\\NVIDIA NvDLISR;C:\\WINDOWS\\system32;C:\\WINDOWS;C:\\WINDOWS\\System32\\Wbem;C:\\WINDOWS\\System32\\WindowsPowerShell\\v1.0\\;C:\\WINDOWS\\System32\\OpenSSH\\;C:\\Program Files\\dotnet\\;C:\\Program Files\\Java\\jdk-19\\bin;C:\\Program Files\\Microsoft SQL Server\\150\\Tools\\Binn\\;C:\\Program Files\\Git\\cmd;C:\\Program Files\\MySQL\\MySQL Server 8.0\\bin;C:\\Program Files\\MySQL\\MySQL Shell 8.0\\bin\\;C:\\Users\\Shubham\\AppData\\Local\\Programs\\Python\\Python312\\Scripts\\;C:\\Users\\Shubham\\AppData\\Local\\Programs\\Python\\Python312\\;C:\\Users\\Shubham\\AppData\\Local\\Programs\\Python\\Launcher\\;C:\\Users\\Shubham\\AppData\\Local\\Programs\\Eclipse Adoptium\\jdk-17.0.11.9-hotspot\\bin;C:\\Users\\Shubham\\AppData\\Local\\Microsoft\\WindowsApps;C:\\Users\\Shubham\\AppData\\Local\\atom\\bin;C:\\Users\\Shubham\\AppData\\Local\\Microsoft\\WindowsApps;C:\\Users\\Shubham\\AppData\\Local\\Programs\\Microsoft VS Code\\bin;C:\\Users\\Shubham\\AppData\\Local\\GitHubDesktop\\bin;C:\\flutter_windows_3.24.4-stable\\flutter\\bin;\n"
     ]
    }
   ],
   "source": [
    "# 8. **Working with Environment Variables**\n",
    "# program to print all environment variables and access the `PATH` variable.\n",
    "\n",
    "import os\n",
    "\n",
    "# Print all environment variables\n",
    "env_vars = os.environ   #  os.environ returns a dictionary of environment variables.\n",
    "print(\"Environment Variables:\", env_vars)\n",
    "\n",
    "# Access the PATH variable\n",
    "path_var = os.getenv('PATH')\n",
    "print(f\"PATH: {path_var}\")\n",
    "# os.getenv(varname)` retrieves the value of the environment variable `varname`."
   ]
  },
  {
   "cell_type": "code",
   "execution_count": 13,
   "id": "8014d120-4af2-4206-a559-7a377b1120d7",
   "metadata": {},
   "outputs": [
    {
     "name": "stdout",
     "output_type": "stream",
     "text": [
      "Running on Windows\n"
     ]
    }
   ],
   "source": [
    "# 9. **Check OS Type (Windows vs Others)**\n",
    "# program to check if the OS is Windows.\n",
    "\n",
    "\n",
    "import os\n",
    "\n",
    "# Check if OS is Windows\n",
    "if os.name == 'nt':\n",
    "    print(\"Running on Windows\")\n",
    "else:\n",
    "    print(\"Not running on Windows\")\n",
    "# This check is helpful when writing platform-specific code since `os.name` returns `'nt'` for Windows and `'posix'` for Unix-like systems."
   ]
  },
  {
   "cell_type": "code",
   "execution_count": 14,
   "id": "d39ae097-0045-4bd5-a499-1b44fa9fd728",
   "metadata": {},
   "outputs": [
    {
     "data": {
      "text/plain": [
       "0"
      ]
     },
     "execution_count": 14,
     "metadata": {},
     "output_type": "execute_result"
    }
   ],
   "source": [
    "# 10. **Execute System Commands**\n",
    "# program to execute a system command to list files in the directory.\n",
    "\n",
    "import os\n",
    "\n",
    "# Execute system command\n",
    "os.system('dir' if os.name == 'nt' else 'ls')\n",
    "#os.system(command)` runs a shell command from within a Python script.\n",
    "# The command is chosen based on the operating system: `'dir'` for Windows and `'ls'` for Unix-like systems."
   ]
  },
  {
   "cell_type": "code",
   "execution_count": null,
   "id": "b6a6ac44-d234-4666-85fe-42125c65c5c4",
   "metadata": {},
   "outputs": [],
   "source": []
  }
 ],
 "metadata": {
  "kernelspec": {
   "display_name": "Python 3 (ipykernel)",
   "language": "python",
   "name": "python3"
  },
  "language_info": {
   "codemirror_mode": {
    "name": "ipython",
    "version": 3
   },
   "file_extension": ".py",
   "mimetype": "text/x-python",
   "name": "python",
   "nbconvert_exporter": "python",
   "pygments_lexer": "ipython3",
   "version": "3.12.4"
  }
 },
 "nbformat": 4,
 "nbformat_minor": 5
}
