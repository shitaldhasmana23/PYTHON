{
 "cells": [
  {
   "cell_type": "code",
   "execution_count": 1,
   "id": "5e6be5a4-7655-4246-b153-eff76f93a265",
   "metadata": {},
   "outputs": [
    {
     "data": {
      "text/plain": [
       "True"
      ]
     },
     "execution_count": 1,
     "metadata": {},
     "output_type": "execute_result"
    }
   ],
   "source": [
    "1<2"
   ]
  },
  {
   "cell_type": "code",
   "execution_count": 2,
   "id": "6fef80b9-a7bc-4c27-ba52-493f147ddc33",
   "metadata": {},
   "outputs": [
    {
     "data": {
      "text/plain": [
       "True"
      ]
     },
     "execution_count": 2,
     "metadata": {},
     "output_type": "execute_result"
    }
   ],
   "source": [
    "1==1"
   ]
  },
  {
   "cell_type": "code",
   "execution_count": 3,
   "id": "2c43e6a1-341a-455e-9615-3e3040b27b22",
   "metadata": {},
   "outputs": [
    {
     "data": {
      "text/plain": [
       "False"
      ]
     },
     "execution_count": 3,
     "metadata": {},
     "output_type": "execute_result"
    }
   ],
   "source": [
    "1!=1\n"
   ]
  },
  {
   "cell_type": "code",
   "execution_count": 6,
   "id": "1dd5d07f-8790-4985-8879-6b4f9551d639",
   "metadata": {},
   "outputs": [
    {
     "name": "stdin",
     "output_type": "stream",
     "text": [
      "enter a number 45\n"
     ]
    }
   ],
   "source": [
    "fixedNo=10\n",
    "userinput=input(\"enter a number\")"
   ]
  },
  {
   "cell_type": "code",
   "execution_count": 8,
   "id": "c4736c29-3ae8-4d9f-8408-60b97a9f9d03",
   "metadata": {},
   "outputs": [],
   "source": [
    "a=10\n",
    "b=1"
   ]
  },
  {
   "cell_type": "code",
   "execution_count": 9,
   "id": "f519baa9-e42c-4169-a135-66aa2b5220ef",
   "metadata": {},
   "outputs": [
    {
     "name": "stdout",
     "output_type": "stream",
     "text": [
      "a>b\n",
      "this condition is true\n",
      "a !=b\n",
      "this condition is true\n"
     ]
    }
   ],
   "source": [
    "if a>b:\n",
    "    print(\"a>b\")\n",
    "    print(\"this condition is true\")\n",
    "    if a!=b:\n",
    "        print(\"a !=b\")\n",
    "        print(\"this condition is true\")"
   ]
  },
  {
   "cell_type": "code",
   "execution_count": 22,
   "id": "3fd72595-b9ad-4133-958a-325ba1a675be",
   "metadata": {},
   "outputs": [
    {
     "name": "stdout",
     "output_type": "stream",
     "text": [
      "A is greater 10\n"
     ]
    }
   ],
   "source": [
    "a=10# and or not\n",
    "b=1\n",
    "c=5\n",
    "if (a>b )and(a>c):\n",
    "    print(\"A is greater\",+a)\n",
    "elif b>a and b>c:\n",
    "    print(\"B is greater\",+b)\n",
    "else:\n",
    "    print(\"c is greater\",+c)"
   ]
  },
  {
   "cell_type": "code",
   "execution_count": 2,
   "id": "f54a7461-8a54-4603-bcc6-299e674686d9",
   "metadata": {},
   "outputs": [],
   "source": [
    "a=10# and or not\n",
    "b=1\n",
    "c=5\n",
    "if (a>b )and(a>c):# nested loop\n",
    "    pass\n",
    "elif b>a :\n",
    "    if b>c:\n",
    "          pass\n",
    "else:\n",
    "    print(\"fails\")"
   ]
  },
  {
   "cell_type": "code",
   "execution_count": 4,
   "id": "ebf43d92-c3d4-4863-89d6-30083e3b3fb1",
   "metadata": {},
   "outputs": [
    {
     "name": "stdout",
     "output_type": "stream",
     "text": [
      "values is1\n",
      "ID is1\n",
      "Types is<class 'int'>\n"
     ]
    }
   ],
   "source": [
    "a=1 \n",
    "print(f\"values is{a}\")\n",
    "print(f\"ID is{a}\")\n",
    "print(f\"Types is{type(a)}\")"
   ]
  },
  {
   "cell_type": "code",
   "execution_count": 2,
   "id": "fcf89bda-1727-4397-a9b3-c162a25153e7",
   "metadata": {},
   "outputs": [],
   "source": [
    "def myprint(inputvar):\n",
    "    a=inputvar\n",
    "    print(f\"value is {a}\")\n",
    "    print(f\"ID is{id(a)}\")\n",
    "    print(f\"Types is{type(a)}\")\n",
    "    "
   ]
  },
  {
   "cell_type": "code",
   "execution_count": 3,
   "id": "a6ceaad6-c505-4979-b4bc-91f8079ff9e6",
   "metadata": {},
   "outputs": [
    {
     "name": "stdout",
     "output_type": "stream",
     "text": [
      "value is 1\n",
      "ID is140717995129272\n",
      "Types is<class 'int'>\n"
     ]
    }
   ],
   "source": [
    "myprint(1)"
   ]
  },
  {
   "cell_type": "code",
   "execution_count": null,
   "id": "a5b18561-87d7-4b9e-871b-21ce3f39bd62",
   "metadata": {},
   "outputs": [],
   "source": [
    "a=1\n",
    "b=2\n",
    "c=3\n",
    "myprint(a)\n",
    "myprint(b)\n",
    "myprint(c)"
   ]
  },
  {
   "cell_type": "code",
   "execution_count": null,
   "id": "aa959261-a65e-4e41-97e6-f944a9f938f8",
   "metadata": {},
   "outputs": [],
   "source": [
    "d= float(input(\"enter mob\"))"
   ]
  },
  {
   "cell_type": "code",
   "execution_count": 7,
   "id": "f1e50da0-0724-498e-bac7-76e4f1f47b93",
   "metadata": {},
   "outputs": [
    {
     "name": "stdin",
     "output_type": "stream",
     "text": [
      "enter first name fdd\n",
      "enter last name sd\n"
     ]
    },
    {
     "name": "stdout",
     "output_type": "stream",
     "text": [
      "hi FDD SD\n"
     ]
    }
   ],
   "source": [
    "# write a program tha ttakes first name and last name and greet with his name in capital \n",
    "fname =input(\"enter first name\")\n",
    "lname =input(\"enter last name\")\n",
    "print(f\"hi {fname.upper()} {lname.upper()}\")"
   ]
  },
  {
   "cell_type": "code",
   "execution_count": null,
   "id": "9fa64a82-a7a1-4a82-a570-f8a3213a2ac1",
   "metadata": {},
   "outputs": [],
   "source": [
    "a=1\n",
    "b=2\n",
    "while a<b:\n",
    "    print(\"a is still less than b\")"
   ]
  }
 ],
 "metadata": {
  "kernelspec": {
   "display_name": "Python 3 (ipykernel)",
   "language": "python",
   "name": "python3"
  },
  "language_info": {
   "codemirror_mode": {
    "name": "ipython",
    "version": 3
   },
   "file_extension": ".py",
   "mimetype": "text/x-python",
   "name": "python",
   "nbconvert_exporter": "python",
   "pygments_lexer": "ipython3",
   "version": "3.12.4"
  }
 },
 "nbformat": 4,
 "nbformat_minor": 5
}
