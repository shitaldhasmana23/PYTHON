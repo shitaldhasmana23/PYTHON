{
 "cells": [
  {
   "cell_type": "code",
   "execution_count": 2,
   "id": "8c4ae296-857f-4fe9-b9fc-ea0844fa7c94",
   "metadata": {},
   "outputs": [],
   "source": [
    "# UNIT 2\n",
    "# PASSING ARGUMENTS TO FUNCTIONS IN PYTHON"
   ]
  },
  {
   "cell_type": "code",
   "execution_count": 6,
   "id": "7e63c1f4-e5c7-4bb8-ac36-51008ef4fe13",
   "metadata": {},
   "outputs": [
    {
     "name": "stdout",
     "output_type": "stream",
     "text": [
      "Hello, Shivam! Welcome to the company!\n"
     ]
    }
   ],
   "source": [
    "# 1. POSITIONAL ARGUMENTS\n",
    "\n",
    "def greet(name, message):\n",
    "    return f\"Hello, {name}! {message}\"\n",
    "\n",
    "print(greet(\"Shivam\", \"Welcome to the company!\"))\n",
    "     "
   ]
  },
  {
   "cell_type": "code",
   "execution_count": 10,
   "id": "e28fc7b8-1f06-4db6-9828-f49cfaf957ad",
   "metadata": {},
   "outputs": [
    {
     "name": "stdout",
     "output_type": "stream",
     "text": [
      "Hello, Riya! Welcome!\n",
      "Hello, Saksham! Good to see you!\n"
     ]
    }
   ],
   "source": [
    "# 2. DEFAULT ARGUMENTS\n",
    "\n",
    "def greet(name, message=\"Welcome!\"):\n",
    "    return f\"Hello, {name}! {message}\"\n",
    "\n",
    "print(greet(\"Riya\"))  # Uses default message\n",
    "print(greet(\"Saksham\", \"Good to see you!\"))  # Overrides default\n",
    "     "
   ]
  },
  {
   "cell_type": "code",
   "execution_count": 12,
   "id": "a03819c5-a11f-4569-9a81-28cfcd407885",
   "metadata": {},
   "outputs": [
    {
     "name": "stdout",
     "output_type": "stream",
     "text": [
      "Hello, A!\n",
      "Hello, B!\n",
      "Hello, C!\n"
     ]
    }
   ],
   "source": [
    "# 3. ARBITRARY POSITIONAL ARGUMENTS\n",
    "\n",
    "def greet(*names):\n",
    "    for name in names:\n",
    "        print(f\"Hello, {name}!\")\n",
    "\n",
    "greet(\"A\", \"B\", \"C\")\n",
    "     "
   ]
  },
  {
   "cell_type": "code",
   "execution_count": 14,
   "id": "b867d759-0a3c-4a0c-938f-cd6467b70e81",
   "metadata": {},
   "outputs": [
    {
     "name": "stdout",
     "output_type": "stream",
     "text": [
      "name: Rahu\n",
      "age: 32\n",
      "job: CA\n"
     ]
    }
   ],
   "source": [
    "# 4. ARBITRARY KEYWORD ARGUMENTS\n",
    "\n",
    "def describe_person(**info):\n",
    "    for key, value in info.items():\n",
    "        print(f\"{key}: {value}\")\n",
    "\n",
    "describe_person(name=\"Rahu\", age=32, job=\"CA\")\n",
    "     "
   ]
  },
  {
   "cell_type": "code",
   "execution_count": 18,
   "id": "ec249312-e3f0-4e96-8c42-94d95d26df59",
   "metadata": {},
   "outputs": [
    {
     "name": "stdout",
     "output_type": "stream",
     "text": [
      "9\n"
     ]
    }
   ],
   "source": [
    "# RETURNING VALUES FROM FUNCTIONS\n",
    "\n",
    "def add(a, b):\n",
    "    return a + b\n",
    "\n",
    "result = add(6, 3)\n",
    "print(result) "
   ]
  },
  {
   "cell_type": "code",
   "execution_count": 20,
   "id": "bdbb51b0-ebc4-41aa-9a24-f40b58db9f12",
   "metadata": {},
   "outputs": [
    {
     "name": "stdout",
     "output_type": "stream",
     "text": [
      "2 4\n"
     ]
    }
   ],
   "source": [
    "# SWAP\n",
    "\n",
    "def swap(a, b):\n",
    "    return b, a\n",
    "\n",
    "x, y = swap(4, 2)\n",
    "print(x, y)  "
   ]
  },
  {
   "cell_type": "code",
   "execution_count": 22,
   "id": "1e149696-e701-418b-9634-fe34204b4616",
   "metadata": {},
   "outputs": [
    {
     "name": "stdout",
     "output_type": "stream",
     "text": [
      "5\n"
     ]
    }
   ],
   "source": [
    "# MODIFYING GLOBAL VARIABLES\n",
    "\n",
    "counter = 4\n",
    "\n",
    "def increment():\n",
    "    global counter\n",
    "    counter += 1\n",
    "\n",
    "increment()\n",
    "print(counter) "
   ]
  },
  {
   "cell_type": "code",
   "execution_count": 26,
   "id": "10809d2d-e3a4-46f3-937a-e01bde654cef",
   "metadata": {},
   "outputs": [
    {
     "name": "stdout",
     "output_type": "stream",
     "text": [
      "Inside function: 9\n",
      "Outside function: 8\n"
     ]
    }
   ],
   "source": [
    "# BEHAVIOUR OF IMMUTABLE OBJECTS\n",
    "def modify_immutable(x):\n",
    "    x += 1\n",
    "    print(f\"Inside function: {x}\")\n",
    "\n",
    "a = 8\n",
    "modify_immutable(a)\n",
    "print(f\"Outside function: {a}\") "
   ]
  },
  {
   "cell_type": "code",
   "execution_count": 32,
   "id": "08442861-7783-4f65-a12b-a05c0b47ad31",
   "metadata": {},
   "outputs": [
    {
     "name": "stdout",
     "output_type": "stream",
     "text": [
      "Inside function: [1, 4, 9, 12]\n",
      "Outside function: [1, 4, 9, 12]\n"
     ]
    }
   ],
   "source": [
    "# BEHAVIOUR OF MUTABLE OBJECTS\n",
    "\n",
    "def modify_mutable(list):\n",
    "    list.append(12)\n",
    "    print(f\"Inside function: {list}\")\n",
    "\n",
    "my_list =[1, 4, 9]\n",
    "modify_mutable(my_list)\n",
    "print(f\"Outside function: {my_list}\")  "
   ]
  },
  {
   "cell_type": "code",
   "execution_count": 36,
   "id": "97eccabc-b13b-4541-8377-4d82338709f4",
   "metadata": {},
   "outputs": [
    {
     "name": "stdout",
     "output_type": "stream",
     "text": [
      "Before: 140710012336792\n",
      "After: 140710012336824\n"
     ]
    }
   ],
   "source": [
    "# id FUNCION AND OBJECT IDENTITY BEFORE AND AFTER MODIFICATION OF IMMUTABLE OBJECTS\n",
    "def modify(x):\n",
    "    print(f\"Before: {id(x)}\")\n",
    "    x += 1\n",
    "    print(f\"After: {id(x)}\")\n",
    "\n",
    "a = 8\n",
    "modify(a)  "
   ]
  },
  {
   "cell_type": "code",
   "execution_count": 38,
   "id": "ff25ca84-8500-4c78-b84b-34a66ab11fe8",
   "metadata": {},
   "outputs": [
    {
     "name": "stdout",
     "output_type": "stream",
     "text": [
      "Before: 2034997485312\n",
      "After: 2034997485312\n"
     ]
    }
   ],
   "source": [
    "# id FUNCION AND OBJECT IDENTITY BEFORE AND AFTER MODIFICATION OF IMMUTABLE OBJECTS\n",
    "\n",
    "def modify(lst):\n",
    "    print(f\"Before: {id(lst)}\")\n",
    "    lst.append(4)\n",
    "    print(f\"After: {id(lst)}\")\n",
    "\n",
    "my_list = [1, 2, 3]\n",
    "modify(my_list)"
   ]
  }
 ],
 "metadata": {
  "kernelspec": {
   "display_name": "Python 3 (ipykernel)",
   "language": "python",
   "name": "python3"
  },
  "language_info": {
   "codemirror_mode": {
    "name": "ipython",
    "version": 3
   },
   "file_extension": ".py",
   "mimetype": "text/x-python",
   "name": "python",
   "nbconvert_exporter": "python",
   "pygments_lexer": "ipython3",
   "version": "3.12.4"
  }
 },
 "nbformat": 4,
 "nbformat_minor": 5
}
