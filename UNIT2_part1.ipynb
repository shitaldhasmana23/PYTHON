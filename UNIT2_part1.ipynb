{
 "cells": [
  {
   "cell_type": "code",
   "execution_count": null,
   "id": "903ffc6d-d0b7-4424-bfbe-dbe8f06773fb",
   "metadata": {},
   "outputs": [],
   "source": [
    "#  UNIT  2\n",
    "# NAMING CONVENTIONS IN PYTHON "
   ]
  },
  {
   "cell_type": "code",
   "execution_count": 9,
   "id": "c2043e9a-7002-4865-af22-4b1717303bca",
   "metadata": {},
   "outputs": [
    {
     "name": "stdout",
     "output_type": "stream",
     "text": [
      "75.0\n"
     ]
    }
   ],
   "source": [
    "# 1. SNAKE CASE\n",
    "\n",
    "#snake case is a naming convention where words are separated by underscore(_) and all letters are in lowercase\n",
    "\n",
    "# Variable\n",
    "user_name = \"Akshu\"\n",
    "total_score = 95\n",
    "\n",
    "# Function \n",
    "def calculate_avg(score_list):\n",
    "    total = sum(score_list)\n",
    "    return total / len(score_list)\n",
    "\n",
    "avg = calculate_avg([95, 40, 90])\n",
    "print(avg) \n"
   ]
  },
  {
   "cell_type": "code",
   "execution_count": 11,
   "id": "b5229f1d-4d05-4740-ad57-9ced8f3e964a",
   "metadata": {},
   "outputs": [],
   "source": [
    "# 2. CAMEL CASE\n",
    "\n",
    "#camel case is a naming convention where the first letter of each word is capitalized except for the first word, and there are no spaces or underscores\n",
    "\n",
    "userName = \"Aman\"\n",
    "totalScore = 95"
   ]
  },
  {
   "cell_type": "code",
   "execution_count": 27,
   "id": "8cbd0d4c-03f2-4ee4-81d1-dfd2b01d0fea",
   "metadata": {},
   "outputs": [],
   "source": [
    "# 3. PASCAL CASE \n",
    "\n",
    "# in pascal case every word starts with a capital letter, including the first one \n",
    "\n",
    "# Class name in Pascal case\n",
    "class EmployeeDetails:\n",
    "    def init(name, age):\n",
    "        name=Arun\n",
    "        age= 38"
   ]
  },
  {
   "cell_type": "code",
   "execution_count": 29,
   "id": "60833e14-e593-4d75-b27c-b7741b9eb473",
   "metadata": {},
   "outputs": [
    {
     "name": "stdout",
     "output_type": "stream",
     "text": [
      "31.4159\n"
     ]
    }
   ],
   "source": [
    "# 4. UPPERCASE WITH UNDERSCORES (Screaming Snake Case)\n",
    "\n",
    "# all uppercase letters with words are separated by underscores\n",
    "\n",
    "# Constant names in uppercase with underscores\n",
    "MAX_CONNECTIONS = 100\n",
    "PI = 3.14159\n",
    "\n",
    "def calculate_circumference(radius):\n",
    "    return 2 * PI * radius\n",
    "\n",
    "print(calculate_circumference(5)) "
   ]
  },
  {
   "cell_type": "code",
   "execution_count": 37,
   "id": "1e2d8767-898e-4b9a-a868-8f2f467eb2f3",
   "metadata": {},
   "outputs": [
    {
     "name": "stdout",
     "output_type": "stream",
     "text": [
      "42\n"
     ]
    }
   ],
   "source": [
    "# 5. Single Underscore Prefix (_varname)\n",
    "\n",
    "class MyClass:\n",
    "    def __init__(self):\n",
    "        self._internal_value = 42\n",
    "\n",
    "    def get_value(self):\n",
    "        return self._internal_value\n",
    "\n",
    "obj = MyClass()\n",
    "print(obj.get_value())\n"
   ]
  },
  {
   "cell_type": "code",
   "execution_count": 34,
   "id": "bccf208d-157e-4a0e-beff-c2d1430fe4af",
   "metadata": {},
   "outputs": [
    {
     "name": "stdout",
     "output_type": "stream",
     "text": [
      "99\n"
     ]
    }
   ],
   "source": [
    "# 6. Double Underscore Prefix (_varname)\n",
    "\n",
    "print(obj._MyClass__private_value)  \n"
   ]
  },
  {
   "cell_type": "code",
   "execution_count": 50,
   "id": "14158cd5-2d58-4030-aba0-3c70ec521898",
   "metadata": {},
   "outputs": [],
   "source": [
    "# 7. Double Underscores Before and After Names (Dunder Methods)\n",
    "\n",
    "class MyClass:\n",
    "    def init(self, name):\n",
    "        self.name = name\n",
    "\n",
    "    def str(self):\n",
    "        return f\"MyClass object with name: {self.name}\"\n"
   ]
  }
 ],
 "metadata": {
  "kernelspec": {
   "display_name": "Python 3 (ipykernel)",
   "language": "python",
   "name": "python3"
  },
  "language_info": {
   "codemirror_mode": {
    "name": "ipython",
    "version": 3
   },
   "file_extension": ".py",
   "mimetype": "text/x-python",
   "name": "python",
   "nbconvert_exporter": "python",
   "pygments_lexer": "ipython3",
   "version": "3.12.4"
  }
 },
 "nbformat": 4,
 "nbformat_minor": 5
}
