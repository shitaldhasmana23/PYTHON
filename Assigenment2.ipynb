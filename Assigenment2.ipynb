{
 "cells": [
  {
   "cell_type": "code",
   "execution_count": 1,
   "id": "10bfcdb2-0488-49ea-af91-a82ed5f346a0",
   "metadata": {},
   "outputs": [
    {
     "name": "stdout",
     "output_type": "stream",
     "text": [
      "Hello saloni\n",
      "Good Morning Shital\n"
     ]
    }
   ],
   "source": [
    "# q1  \n",
    "def greet(name, greeting=\"Hello\"):#greet is a function where name is passed and greeting = hello\n",
    "    return f\"{greeting} {name}\" # returns the greeting and name of freet functon\n",
    "\n",
    "\n",
    "print(greet(\"saloni\"))                \n",
    "print(greet(\"Shital\", \"Good Morning\"))  \n"
   ]
  },
  {
   "cell_type": "code",
   "execution_count": 3,
   "id": "ca364af6-1408-4c93-bd90-a9141809f0a6",
   "metadata": {},
   "outputs": [
    {
     "name": "stdout",
     "output_type": "stream",
     "text": [
      " Name: garima, Age: 18, City: Chicago\n",
      " Name: Tanusha, Age: 22, City: Los Angeles\n"
     ]
    }
   ],
   "source": [
    "#  q2  \n",
    "def create_profile(*,name, age=18,city):\n",
    "    return f\" Name: {name}, Age: {age}, City: {city}\"\n",
    "\n",
    "print(create_profile(name=\"garima\", city=\"Chicago\"))  \n",
    "\n",
    "print(create_profile(name=\"Tanusha\", age=22, city=\"Los Angeles\"))  \n"
   ]
  },
  {
   "cell_type": "code",
   "execution_count": 4,
   "id": "e0485adf-a4ee-47ea-999e-a5bd7d27a695",
   "metadata": {},
   "outputs": [
    {
     "name": "stdout",
     "output_type": "stream",
     "text": [
      "(6, {})\n",
      "(3, {'x': 4, 'y': 5})\n"
     ]
    }
   ],
   "source": [
    "# q3\n",
    "def sum_numbers(*args, **kwargs):\n",
    "    total_sum = sum(arg for arg in args if isinstance(arg, (int, float)))\n",
    "    \n",
    "    \n",
    "    return total_sum, kwargs  #kwargs  accept any numbr of argument passed through keyboard\n",
    "\n",
    "\n",
    "print(sum_numbers(1, 2, 3))  \n",
    "\n",
    "print(sum_numbers(1, 2, x=4, y=5))  \n",
    "\n"
   ]
  },
  {
   "cell_type": "code",
   "execution_count": 5,
   "id": "6915b5bf-c431-45d4-b577-d26babf3bbe1",
   "metadata": {},
   "outputs": [
    {
     "name": "stdout",
     "output_type": "stream",
     "text": [
      "[1, 4, 9, 16]\n"
     ]
    }
   ],
   "source": [
    "#q4\n",
    "def square_list(lst): # function which will show square of passed number\n",
    "    return list(map(lambda x: x**2, lst))\n",
    "\n",
    "print(square_list([1, 2, 3, 4]))  \n",
    "\n"
   ]
  },
  {
   "cell_type": "code",
   "execution_count": 7,
   "id": "d454cbe6-50b1-4f74-b6f6-22e236f5099b",
   "metadata": {},
   "outputs": [
    {
     "data": {
      "text/plain": [
       "[2, 4]"
      ]
     },
     "execution_count": 7,
     "metadata": {},
     "output_type": "execute_result"
    }
   ],
   "source": [
    "#q5\n",
    "def filter_odd_numbers(lst):\n",
    "    return list(filter(lambda x:x%2==0,lst))\n",
    "\n",
    "filter_odd_numbers([1, 2, 3, 4, 5])  \n"
   ]
  },
  {
   "cell_type": "code",
   "execution_count": 9,
   "id": "bb1e2164-922d-40af-a68b-b7a18503196e",
   "metadata": {},
   "outputs": [
    {
     "name": "stdin",
     "output_type": "stream",
     "text": [
      "Enter a number: 12\n"
     ]
    },
    {
     "name": "stdout",
     "output_type": "stream",
     "text": [
      "[0, 1, 4, 9, 16, 25, 36, 49, 64, 81, 100, 121]\n"
     ]
    }
   ],
   "source": [
    "#q6\n",
    "n=int(input(\"Enter a number:\"))\n",
    "squares = [x**2 for x in range(n)]\n",
    "\n",
    "print(squares)"
   ]
  },
  {
   "cell_type": "code",
   "execution_count": 11,
   "id": "17fe441a-08e2-4a6c-88ef-abb7b5a36bc3",
   "metadata": {},
   "outputs": [
    {
     "name": "stdout",
     "output_type": "stream",
     "text": [
      "[2, 4, 6, 8, 10, 12, 14, 16, 18, 20]\n"
     ]
    }
   ],
   "source": [
    "#q7\n",
    "Even=[x for x in range(1, 21) if x % 2 == 0]  \n",
    "print(Even)"
   ]
  },
  {
   "cell_type": "code",
   "execution_count": 12,
   "id": "89ec6eca-9481-4d4a-80f4-6927469adab9",
   "metadata": {},
   "outputs": [
    {
     "name": "stdout",
     "output_type": "stream",
     "text": [
      "Directory 'test_folder' created.\n",
      "Directory 'test_folder' deleted.\n"
     ]
    }
   ],
   "source": [
    "#q8\n",
    "\n",
    "import os\n",
    "import time\n",
    "\n",
    "def file_operations():\n",
    "    # Step 1: Create a directory named \"test_folder\"\n",
    "    folder_name = \"test_folder\"\n",
    "    \n",
    "    try:\n",
    "        os.makedirs(folder_name, exist_ok=True)\n",
    "        print(f\"Directory '{folder_name}' created.\")\n",
    "    except Exception as e:\n",
    "        print(f\"Error creating directory: {e}\")\n",
    "    \n",
    "    # Step 2: Pause execution for 3 seconds\n",
    "    time.sleep(3)\n",
    "    \n",
    "    # Step 3: Remove the directory\n",
    "    try:\n",
    "        os.rmdir(folder_name)\n",
    "        print(f\"Directory '{folder_name}' deleted.\")\n",
    "    except Exception as e:\n",
    "        print(f\"Error deleting directory: {e}\")\n",
    "\n",
    "# Example usage:\n",
    "if __name__ == \"__main__\":\n",
    "    file_operations()\n"
   ]
  },
  {
   "cell_type": "code",
   "execution_count": 13,
   "id": "37643c62-cfe4-4a74-b5f3-3c45699024ec",
   "metadata": {},
   "outputs": [
    {
     "name": "stdout",
     "output_type": "stream",
     "text": [
      "Paused execution...\n"
     ]
    }
   ],
   "source": [
    "#q9\n",
    "# Importing sleep from time and renaming it to pause\n",
    "from time import sleep as pause\n",
    "\n",
    "# Pause execution for 2 seconds\n",
    "pause(2)\n",
    "\n",
    "# Print a message after the pause\n",
    "print(\"Paused execution...\")\n"
   ]
  },
  {
   "cell_type": "code",
   "execution_count": 14,
   "id": "adb7da0f-313c-4315-81ef-22fdae5b0dbd",
   "metadata": {},
   "outputs": [
    {
     "name": "stdout",
     "output_type": "stream",
     "text": [
      "[1, 2, 3, 4, 5, 6]\n",
      "[1, 2, 3, 4, 5]\n"
     ]
    }
   ],
   "source": [
    "# q10\n",
    "def flatten_list(nested_list, *args, **kwargs):\n",
    "    flat_list = []\n",
    "    \n",
    "    # Loop through each item in the nested list\n",
    "    for item in nested_list:\n",
    "        # If the item is a list, recursively flatten it\n",
    "        if isinstance(item, list):\n",
    "            flat_list.extend(flatten_list(item))\n",
    "        # If the item is not a list, add it to the flat list\n",
    "        else:\n",
    "            flat_list.append(item)\n",
    "    \n",
    "    return flat_list\n",
    "\n",
    "# Example usage:\n",
    "print(flatten_list([1, [2, 3], [[4, 5], 6]]))  # Output: [1, 2, 3, 4, 5, 6]\n",
    "print(flatten_list([[1, 2], [3, [4, [5]]]]))   # Output: [1, 2, 3, 4, 5]\n"
   ]
  },
  {
   "cell_type": "code",
   "execution_count": null,
   "id": "ef920cb3-5ab7-4615-908f-e09b08c32086",
   "metadata": {},
   "outputs": [],
   "source": []
  }
 ],
 "metadata": {
  "kernelspec": {
   "display_name": "Python 3 (ipykernel)",
   "language": "python",
   "name": "python3"
  },
  "language_info": {
   "codemirror_mode": {
    "name": "ipython",
    "version": 3
   },
   "file_extension": ".py",
   "mimetype": "text/x-python",
   "name": "python",
   "nbconvert_exporter": "python",
   "pygments_lexer": "ipython3",
   "version": "3.12.4"
  }
 },
 "nbformat": 4,
 "nbformat_minor": 5
}
