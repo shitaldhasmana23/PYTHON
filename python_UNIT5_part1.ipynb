{
 "cells": [
  {
   "cell_type": "code",
   "execution_count": 15,
   "id": "53859f16-3832-489f-8ff7-c2a5198e3f3c",
   "metadata": {},
   "outputs": [
    {
     "name": "stdin",
     "output_type": "stream",
     "text": [
      "Enter the directory path to organize:  c\n"
     ]
    },
    {
     "name": "stdout",
     "output_type": "stream",
     "text": [
      "Invalid directory path!\n"
     ]
    }
   ],
   "source": [
    "import os\n",
    "import shutil\n",
    "\n",
    "def organize_files(directory):\n",
    "    # Define file categories and corresponding file extensions\n",
    "    file_types = {\n",
    "        'Videos': ['.mp4', '.mkv', '.avi', '.mov'],\n",
    "        'Audios': ['.mp3', '.wav', '.aac', '.flac'],\n",
    "        'Images': ['.jpg', '.jpeg', '.png', '.gif', '.bmp'],\n",
    "        'Documents': ['.pdf', '.doc', '.docx', '.xls', '.xlsx', '.ppt', '.pptx', '.txt'],\n",
    "        'Misc': []  # Misc will act as a catch-all\n",
    "    }\n",
    "\n",
    "    # Iterate over the files in the directory\n",
    "    for file_name in os.listdir(directory):\n",
    "        file_path = os.path.join(directory, file_name)\n",
    "\n",
    "        # Skip directories\n",
    "        if os.path.isdir(file_path):\n",
    "            continue\n",
    "\n",
    "        # Determine the file extension\n",
    "        file_extension = os.path.splitext(file_name)[1].lower()\n",
    "\n",
    "        # Find the appropriate category for the file\n",
    "        destination_folder = 'Misc'  # Default to Misc\n",
    "        for folder, extensions in file_types.items():\n",
    "            if file_extension in extensions:\n",
    "                destination_folder = folder\n",
    "                break\n",
    "\n",
    "        # Create the folder if it doesn't exist\n",
    "        folder_path = os.path.join(directory, destination_folder)\n",
    "        os.makedirs(folder_path, exist_ok=True)\n",
    "\n",
    "        # Move the file to the appropriate folder\n",
    "        destination_path = os.path.join(folder_path, file_name)\n",
    "        if not os.path.exists(destination_path):\n",
    "            shutil.move(file_path, destination_path)\n",
    "        else:\n",
    "            print(f\"File already exists at destination: {destination_path}\")\n",
    "\n",
    "    print(\"Files have been organized!\")\n",
    "\n",
    "if __name__ == \"__main__\":\n",
    "    user_input = input(\"Enter the directory path to organize: \")\n",
    "    if os.path.exists(user_input) and os.path.isdir(user_input):\n",
    "        organize_files(user_input)\n",
    "    else:\n",
    "        print(\"Invalid directory path!\")\n"
   ]
  },
  {
   "cell_type": "code",
   "execution_count": null,
   "id": "7d0bfab8-d4e9-4e19-a854-a784c2a2ce75",
   "metadata": {},
   "outputs": [],
   "source": [
    "import tkinter as tk\n",
    "\n",
    "# Create the main window\n",
    "root = tk.Tk()\n",
    "root.title(\"Simple Input and Button GUI\")\n",
    "root.geometry(\"300x200\")  # Set the window size\n",
    "\n",
    "# Function to be called when the button is clicked\n",
    "def show_input():\n",
    "    user_input = entry.get()  # Get text from the entry box\n",
    "    if user_input.strip():  # Check for non-empty input\n",
    "        feedback_label.config(text=f\"You entered: {user_input}\", fg=\"green\")\n",
    "    else:\n",
    "        feedback_label.config(text=\"Please enter something!\", fg=\"red\")\n",
    "\n",
    "# Label for the entry\n",
    "label = tk.Label(root, text=\"Enter something:\")\n",
    "label.pack(pady=10)  # Add padding around the label\n",
    "\n",
    "# Entry (input block) where the user can type text\n",
    "entry = tk.Entry(root, width=30)\n",
    "entry.pack(pady=5)\n",
    "\n",
    "# Button to trigger the function show_input\n",
    "button = tk.Button(root, text=\"Submit\", command=show_input)\n",
    "button.pack(pady=10)\n",
    "\n",
    "# Feedback label to display output\n",
    "feedback_label = tk.Label(root, text=\"\", fg=\"blue\")\n",
    "feedback_label.pack(pady=5)\n",
    "\n",
    "# Start the GUI event loop\n",
    "root.mainloop()\n"
   ]
  },
  {
   "cell_type": "code",
   "execution_count": null,
   "id": "6a01cf38-d3c6-4c00-945e-59bc501a6f74",
   "metadata": {},
   "outputs": [],
   "source": [
    "import tkinter as tk\n",
    "\n",
    "#Create the root window\n",
    "\n",
    "\n",
    "\n",
    "root = tk.Tk()\n",
    "root.title(\"My Custom Window\")  # Set window title\n",
    "\n",
    "#Customizing a Label\n",
    "\n",
    "\n",
    "\n",
    "label = tk.Label(root, \n",
    "                 text=\"Hello, Tkinter!\",  # Text displayed on the label\n",
    "                 font=(\"Helvetica\", 16),  # Set font family and size\n",
    "                 fg=\"blue\",  # Text color\n",
    "                 bg=\"yellow\",  # Background color\n",
    "                 padx=10,  # Padding in the x direction\n",
    "                 pady=10)  # Padding in the y direction\n",
    "\n",
    "#Attaching the label to the root window using pack\n",
    "\n",
    "\n",
    "\n",
    "label.pack()  # You can use pack(), grid(), or place() for layout\n",
    "\n",
    "#Customizing a Button\n",
    "\n",
    "\n",
    "\n",
    "def on_button_click():\n",
    "    label.config(text=\"Button Clicked!\")  # Change label text when button is clicked\n",
    "\n",
    "button = tk.Button(root, \n",
    "                   text=\"Click Me\",  # Text displayed on the button\n",
    "                   font=(\"Arial\", 14),  # Font for button text\n",
    "                   fg=\"white\",  # Button text color\n",
    "                   bg=\"green\",  # Button background color\n",
    "                   activebackground=\"lightgreen\",  # Background when pressed\n",
    "                   command=on_button_click)  # Function to call when clicked\n",
    "\n",
    "#Attaching the button to the root window\n",
    "\n",
    "\n",
    "\n",
    "button.pack(pady=20)  # Adds some space between the button and the label\n",
    "\n",
    "#Start the main event loop"
   ]
  },
  {
   "cell_type": "code",
   "execution_count": null,
   "id": "4a592860-f9f5-4f59-9035-90dda6510f65",
   "metadata": {},
   "outputs": [],
   "source": []
  },
  {
   "cell_type": "code",
   "execution_count": null,
   "id": "164e5303-5b41-4195-a8c3-877e010f7ff7",
   "metadata": {},
   "outputs": [],
   "source": []
  },
  {
   "cell_type": "code",
   "execution_count": null,
   "id": "5b3c35b4-e92c-49ba-a568-8a3fba53cfc1",
   "metadata": {},
   "outputs": [],
   "source": []
  },
  {
   "cell_type": "code",
   "execution_count": null,
   "id": "fcdc4669-4533-4494-8d5b-c1cb119f1065",
   "metadata": {},
   "outputs": [],
   "source": []
  },
  {
   "cell_type": "code",
   "execution_count": null,
   "id": "27256af0-2027-4e6f-9e43-80cef14c2859",
   "metadata": {},
   "outputs": [],
   "source": []
  },
  {
   "cell_type": "code",
   "execution_count": null,
   "id": "18592189-b3e1-4bc0-8276-4f390f292aa8",
   "metadata": {},
   "outputs": [],
   "source": [
    "# 1. labels \n",
    "\n",
    "label = tk.Label(root, text=\"This is a label\", font=(\"Arial\", 14))\n",
    "label.pack(pady=10)\n"
   ]
  },
  {
   "cell_type": "code",
   "execution_count": null,
   "id": "d0df57d8-b86c-4acb-a2b0-5eae3829cf07",
   "metadata": {},
   "outputs": [],
   "source": [
    "# 2.  buttons\n",
    "button = tk.Button(root, text=\"Click me\", command=my_function, bg=\"blue\", fg=\"white\")\n",
    "button.pack(pady=10)\n"
   ]
  },
  {
   "cell_type": "code",
   "execution_count": null,
   "id": "d2637ba0-74e7-42ae-8648-06a55403f92d",
   "metadata": {},
   "outputs": [],
   "source": [
    "# 3. entry\n",
    "\n",
    "entry = tk.Entry(root, show=\"*\")\n",
    "entry.pack(pady=5)\n"
   ]
  },
  {
   "cell_type": "code",
   "execution_count": null,
   "id": "3c367d39-7ac7-420c-bfb1-412829d4184f",
   "metadata": {},
   "outputs": [],
   "source": [
    "# 4. textbox\n",
    "\n",
    "text_box = tk.Text(root, height=5, width=40)\n",
    "text_box.pack(pady=10)"
   ]
  },
  {
   "cell_type": "code",
   "execution_count": null,
   "id": "bc0a11b1-7378-4a51-b707-f570d39c25e9",
   "metadata": {},
   "outputs": [],
   "source": [
    "# 5. checkbutton\n",
    "\n",
    "var = tk.IntVar()  # To store the checkbox state\n",
    "check = tk.Checkbutton(root, text=\"I agree\", variable=var)\n",
    "check.pack(pady=5)\n"
   ]
  },
  {
   "cell_type": "code",
   "execution_count": null,
   "id": "6dd1800f-9337-4a6f-998c-46ef2c06ad5c",
   "metadata": {},
   "outputs": [],
   "source": [
    "# 6. radiobutton\n",
    "var = tk.IntVar()\n",
    "radio1 = tk.Radiobutton(root, text=\"Option 1\", variable=var, value=1)\n",
    "radio2 = tk.Radiobutton(root, text=\"Option 2\", variable=var, value=2)\n",
    "radio1.pack(pady=5)\n",
    "radio2.pack(pady=5)\n"
   ]
  },
  {
   "cell_type": "code",
   "execution_count": null,
   "id": "44ab2221-6164-4aa0-8a79-e36b882e6569",
   "metadata": {},
   "outputs": [],
   "source": [
    "# 7. listbox\n",
    "\n",
    "listbox = tk.Listbox(root, selectmode=tk.SINGLE)  # Or use selectmode=tk.MULTIPLE\n",
    "listbox.insert(1, \"Item 1\")\n",
    "listbox.insert(2, \"Item 2\")\n",
    "listbox.pack(pady=10)\n"
   ]
  },
  {
   "cell_type": "code",
   "execution_count": null,
   "id": "eceff67b-304d-464b-a539-21e9a7d29d40",
   "metadata": {},
   "outputs": [],
   "source": [
    "# 8. scale\n",
    "\n",
    "scale = tk.Scale(root, from_=0, to=100, orient=tk.HORIZONTAL)\n",
    "scale.pack(pady=10)\n"
   ]
  },
  {
   "cell_type": "code",
   "execution_count": null,
   "id": "287d4173-26c7-4cfa-afda-ca0f46284528",
   "metadata": {},
   "outputs": [],
   "source": [
    "# 9. message box\n",
    "\n",
    "from tkinter import messagebox\n",
    "\n",
    "def show_message():\n",
    "    messagebox.showinfo(\"Information\", \"This is a message\")\n",
    "\n",
    "button = tk.Button(root, text=\"Show Message\", command=show_message)\n",
    "button.pack(pady=10)\n"
   ]
  },
  {
   "cell_type": "code",
   "execution_count": null,
   "id": "961f1553-2e8f-4657-8865-99424281bd1b",
   "metadata": {},
   "outputs": [],
   "source": [
    "# 10. Canvas\n",
    "\n",
    "canvas = tk.Canvas(root, width=300, height=200)\n",
    "canvas.create_line(0, 0, 300, 200, fill=\"blue\")\n",
    "canvas.create_oval(50, 50, 150, 150, fill=\"red\")\n",
    "canvas.pack(pady=10)\n"
   ]
  },
  {
   "cell_type": "code",
   "execution_count": null,
   "id": "c313999e-8e7b-481d-9aaf-085989fe9ac7",
   "metadata": {},
   "outputs": [],
   "source": [
    "# 11. combobox\n",
    "\n",
    "from tkinter import ttk\n",
    "\n",
    "combo = ttk.Combobox(root, values=[\"Option 1\", \"Option 2\", \"Option 3\"])\n",
    "combo.current(0)  # Set default option\n",
    "combo.pack(pady=10)\n"
   ]
  },
  {
   "cell_type": "code",
   "execution_count": null,
   "id": "14bbbda7-8681-43a3-87ee-b335e7aa266b",
   "metadata": {},
   "outputs": [],
   "source": [
    "# 12. frame\n",
    "\n",
    "frame = tk.Frame(root, borderwidth=2, relief=\"sunken\")\n",
    "frame.pack(pady=10)\n",
    "label_in_frame = tk.Label(frame, text=\"Label inside frame\")\n",
    "label_in_frame.pack()\n"
   ]
  },
  {
   "cell_type": "code",
   "execution_count": null,
   "id": "5f29f45b-5fab-4a6a-97ed-f3b5141b45ce",
   "metadata": {},
   "outputs": [],
   "source": [
    "# 13. menu\n",
    "\n",
    "menu_bar = tk.Menu(root)\n",
    "\n",
    "#Create a file menu\n",
    "\n",
    "file_menu = tk.Menu(menu_bar, tearoff=0)\n",
    "file_menu.add_command(label=\"New\")\n",
    "file_menu.add_command(label=\"Open\")\n",
    "file_menu.add_command(label=\"Save\")\n",
    "file_menu.add_separator()\n",
    "file_menu.add_command(label=\"Exit\", command=root.quit)\n",
    "\n",
    "menu_bar.add_cascade(label=\"File\", menu=file_menu)\n",
    "root.config(menu=menu_bar)"
   ]
  },
  {
   "cell_type": "code",
   "execution_count": null,
   "id": "6379f811-3b0c-49d7-a4f1-4b97f4788455",
   "metadata": {},
   "outputs": [],
   "source": [
    "# 14. grid layout\n",
    "\n",
    "label1 = tk.Label(root, text=\"Row 0, Column 0\")\n",
    "label1.grid(row=0, column=0)\n",
    "\n",
    "label2 = tk.Label(root, text=\"Row 0, Column 1\")\n",
    "label2.grid(row=0, column=1)\n",
    "\n",
    "button = tk.Button(root, text=\"Button in row 1\")\n",
    "button.grid(row=1, column=0, columnspan=2)  # Span across two columns\n"
   ]
  },
  {
   "cell_type": "code",
   "execution_count": null,
   "id": "24bea02f-9290-4f68-900c-7d6187c65741",
   "metadata": {},
   "outputs": [],
   "source": []
  }
 ],
 "metadata": {
  "kernelspec": {
   "display_name": "Python 3 (ipykernel)",
   "language": "python",
   "name": "python3"
  },
  "language_info": {
   "codemirror_mode": {
    "name": "ipython",
    "version": 3
   },
   "file_extension": ".py",
   "mimetype": "text/x-python",
   "name": "python",
   "nbconvert_exporter": "python",
   "pygments_lexer": "ipython3",
   "version": "3.12.4"
  }
 },
 "nbformat": 4,
 "nbformat_minor": 5
}
