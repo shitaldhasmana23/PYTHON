{
 "cells": [
  {
   "cell_type": "code",
   "execution_count": 4,
   "id": "0b7997da-d1a3-49ab-98b4-ed36d212ce18",
   "metadata": {},
   "outputs": [
    {
     "name": "stdout",
     "output_type": "stream",
     "text": [
      "His name is Avinash and he is 28 years old.\n"
     ]
    }
   ],
   "source": [
    "# 9. Format method\n",
    "\n",
    "name=\"Avinash\"\n",
    "age=28\n",
    "code=\"His name is {} and he is {} years old.\".format(name, age)            #format method\n",
    "print(code)                                                                #printing using format method"
   ]
  },
  {
   "cell_type": "code",
   "execution_count": 104,
   "id": "512d44e7-973c-42a7-bbdd-0d66f29f6a3e",
   "metadata": {},
   "outputs": [
    {
     "name": "stdout",
     "output_type": "stream",
     "text": [
      "20\n",
      "-47\n",
      "23957353893000276208466290910\n",
      "4.131085\n",
      "-9.3\n",
      "2.0\n",
      "(2+3j)\n",
      "(4+0j)\n",
      "(-0-2.3j)\n",
      "True\n",
      "False\n",
      "4\n",
      "8.0\n",
      "(7+0j)\n",
      "False\n",
      "True\n",
      "25\n",
      "15\n",
      "100\n",
      "4.0\n",
      "4\n",
      "0\n",
      "3200000\n",
      "True\n",
      "False\n",
      "(6+8j)\n",
      "48.6254\n",
      "2.874\n",
      "8000\n",
      "81\n",
      "2\n"
     ]
    }
   ],
   "source": [
    "# 10. Numeric data types\n",
    "\n",
    "a =20     \n",
    "b = -47\n",
    "c = 23957353893000276208466290910                           # a, b, c are integers \n",
    "\n",
    "d = 4.131085       \n",
    "e = -9.3\n",
    "f = 2.0                                                     # d, e, f are floating point number\n",
    "\n",
    "g = 2+3j  \n",
    "h = 4+0j\n",
    "i = -2.3j                                                   # g, h, i are complex number\n",
    "\n",
    "\n",
    "j=True\n",
    "k=False                                                    # j, k are boolean \n",
    "\n",
    "# TYPE CONVERSIONS\n",
    "\n",
    "l=int(4.5)                                                 #conversion from float to int\n",
    "m=float(8)                                                 #conversion from int to float\n",
    "n=complex(7)                                               #conversion from int to complex\n",
    "o=bool(0)                                                  #conversion to False\n",
    "p=bool(2)                                                  #conversion to True\n",
    "\n",
    "print(a)\n",
    "print(b)\n",
    "print(c)\n",
    "print(d)\n",
    "print(e)\n",
    "print(f)\n",
    "print(g)\n",
    "print(h)\n",
    "print(i)\n",
    "print(j)\n",
    "print(k)\n",
    "print(l)\n",
    "print(m)\n",
    "print(n)\n",
    "print(o)\n",
    "print(p)\n",
    "\n",
    "\n",
    "#OPERATIONS ON NUMERIC TYPES\n",
    "\n",
    "opr1= 20+5       #Addition\n",
    "opr2= 20-5       #Subtraction\n",
    "opr3= 20*5       #Multiplication\n",
    "opr4= 20/5       #Division\n",
    "opr5= 20//5      #Floor division\n",
    "opr6= 20%5       #Modulus \n",
    "opr7= 20**5      #Exponential\n",
    "\n",
    "print(opr1)\n",
    "print(opr2)\n",
    "print(opr3)\n",
    "print(opr4)\n",
    "print(opr5)\n",
    "print(opr6)\n",
    "print(opr7)\n",
    "\n",
    "\n",
    "#COMPARISION\n",
    "\n",
    "is_equal = (1 == 1)\n",
    "is_greater = (5 < 2)\n",
    "\n",
    "print(is_equal)\n",
    "print(is_greater)\n",
    "\n",
    "\n",
    "#COMPLEX NUMBERS\n",
    "\n",
    "complex_a= 4+6j\n",
    "complex_b= 2+2j\n",
    "\n",
    "result=complex_a + complex_b\n",
    "print(result)\n",
    "\n",
    "\n",
    "#NUMERIC FUNCTIONS\n",
    "\n",
    "z1 = abs(48.6254)\n",
    "z2 = round(2.87352917, 3)\n",
    "z3 = pow(20, 3)\n",
    "z4 = max(2, 5, 12, 5, 81, 3)\n",
    "z5 = min(2, 5, 12, 5, 81, 3)\n",
    "\n",
    "print(z1)\n",
    "print(z2)\n",
    "print(z3)\n",
    "print(z4)\n",
    "print(z5)"
   ]
  },
  {
   "cell_type": "code",
   "execution_count": 106,
   "id": "dab77858-9543-4713-bf03-6dccd7d2e08e",
   "metadata": {},
   "outputs": [
    {
     "name": "stdin",
     "output_type": "stream",
     "text": [
      "Enter your name:  Radhika\n"
     ]
    },
    {
     "name": "stdout",
     "output_type": "stream",
     "text": [
      "hello, Radhika!\n"
     ]
    }
   ],
   "source": [
    "# 11. Input and Output functions\n",
    "\n",
    "name=input(\"Enter your name: \")\n",
    "print(\"hello, \" + name + \"!\" )"
   ]
  },
  {
   "cell_type": "code",
   "execution_count": 112,
   "id": "7d111c95-735a-4da3-901b-9325d13f59df",
   "metadata": {},
   "outputs": [
    {
     "name": "stdout",
     "output_type": "stream",
     "text": [
      "size of x: 28 bytes\n",
      "type of x: <class 'int'> \n",
      "memory location of x:1963655517936\n"
     ]
    }
   ],
   "source": [
    "# The   size, type, memory location and id   of a variable using    built-in funcyions..\n",
    "\n",
    "import sys\n",
    "x=542\n",
    "size = sys.getsizeof(x)\n",
    "print(f\"size of x: {size} bytes\")\n",
    "\n",
    "variable_type = type(x)\n",
    "print(f\"type of x: {variable_type} \")\n",
    "\n",
    "memory_location = id(x)\n",
    "print(f\"memory location of x:{memory_location}\")"
   ]
  },
  {
   "cell_type": "code",
   "execution_count": null,
   "id": "ba2b664a-c70f-4d29-adf1-1f56b90f6efe",
   "metadata": {},
   "outputs": [],
   "source": []
  }
 ],
 "metadata": {
  "kernelspec": {
   "display_name": "Python 3 (ipykernel)",
   "language": "python",
   "name": "python3"
  },
  "language_info": {
   "codemirror_mode": {
    "name": "ipython",
    "version": 3
   },
   "file_extension": ".py",
   "mimetype": "text/x-python",
   "name": "python",
   "nbconvert_exporter": "python",
   "pygments_lexer": "ipython3",
   "version": "3.12.4"
  }
 },
 "nbformat": 4,
 "nbformat_minor": 5
}
