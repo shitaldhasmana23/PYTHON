{
 "cells": [
  {
   "cell_type": "code",
   "execution_count": null,
   "id": "f6b4831a-2f85-4bb5-9520-f3f852aa3ea7",
   "metadata": {},
   "outputs": [],
   "source": [
    "#UNIT 2\n",
    "#COPY AND DEEP COPY PYTHON LISTS"
   ]
  },
  {
   "cell_type": "code",
   "execution_count": 1,
   "id": "95351232-4d71-4892-af42-f1ba512a857c",
   "metadata": {},
   "outputs": [],
   "source": [
    "\n",
    "def showDetails(*args):\n",
    "    for i in range(len(args)):\n",
    "        variable = args[i]\n",
    "        print(f\"The Value of { i+1 } variable is \\t{variable }\\t its id is \\t {id(variable)}\")\n",
    "    \n",
    "    print(\"\\n\\n\")"
   ]
  },
  {
   "cell_type": "code",
   "execution_count": 3,
   "id": "b10a73db-a7f7-4956-bc80-e158e34f47c4",
   "metadata": {},
   "outputs": [
    {
     "name": "stdout",
     "output_type": "stream",
     "text": [
      "The Value of 1 variable is \t[2, 4, 6, [1, 3]]\t its id is \t 2496005798784\n",
      "The Value of 2 variable is \t[2, 4, 6, [1, 3]]\t its id is \t 2496005798784\n",
      "\n",
      "\n",
      "\n",
      "The Value of 1 variable is \t[2, 44, 6, [1, 3]]\t its id is \t 2496005798784\n",
      "The Value of 2 variable is \t[2, 44, 6, [1, 3]]\t its id is \t 2496005798784\n",
      "\n",
      "\n",
      "\n",
      "The Value of 1 variable is \t[2, 44, 6, [1, 10]]\t its id is \t 2496005798784\n",
      "The Value of 2 variable is \t[2, 44, 6, [1, 10]]\t its id is \t 2496005798784\n",
      "\n",
      "\n",
      "\n"
     ]
    }
   ],
   "source": [
    "#Changes to one list will be reflected in the other\n",
    "\n",
    "listA = [2, 4, 6, [1, 3]]\n",
    "listB = listA\n",
    "showDetails(listA,listB)\n",
    "listB[1] = 44\n",
    "\n",
    "showDetails(listA,listB)\n",
    "listB[3][1] = 10\n",
    "\n",
    "\n",
    "showDetails(listA,listB)"
   ]
  },
  {
   "cell_type": "code",
   "execution_count": 7,
   "id": "5c129c94-0afd-464d-8a44-19e827ac448d",
   "metadata": {},
   "outputs": [
    {
     "name": "stdout",
     "output_type": "stream",
     "text": [
      "The Value of 1 variable is \t[2, 4, 6, [1, 3]]\t its id is \t 2496005624960\n",
      "The Value of 2 variable is \t[2, 4, 6, [1, 3]]\t its id is \t 2496005806272\n",
      "\n",
      "\n",
      "\n",
      "The Value of 1 variable is \t[2, 4, 6, [55, 3]]\t its id is \t 2496005624960\n",
      "The Value of 2 variable is \t[2, 44, 6, [55, 3]]\t its id is \t 2496005806272\n",
      "\n",
      "\n",
      "\n"
     ]
    }
   ],
   "source": [
    "#Shallow copy using the list() constructor\n",
    "\n",
    "listA = [2, 4, 6, [1, 3]]\n",
    "listB = list(listA)\n",
    "showDetails(listA,listB)\n",
    "\n",
    "listB[1] = 44\n",
    "listB[3][0] = 55\n",
    "\n",
    "showDetails(listA,listB)"
   ]
  },
  {
   "cell_type": "code",
   "execution_count": 9,
   "id": "431a4d44-5573-4815-8392-e8b565c4efdc",
   "metadata": {},
   "outputs": [
    {
     "name": "stdout",
     "output_type": "stream",
     "text": [
      "The Value of 1 variable is \t[2, 4, 6, [1, 3]]\t its id is \t 2496005815104\n",
      "The Value of 2 variable is \t[2, 4, 6, [1, 3]]\t its id is \t 2496005801344\n",
      "\n",
      "\n",
      "\n",
      "The Value of 1 variable is \t[2, 4, 6, [55, 3]]\t its id is \t 2496005815104\n",
      "The Value of 2 variable is \t[2, 44, 6, [55, 3]]\t its id is \t 2496005801344\n",
      "\n",
      "\n",
      "\n"
     ]
    }
   ],
   "source": [
    "#other way to make a shallow copy \n",
    "\n",
    "listA = [2, 4, 6, [1, 3]]\n",
    "listB = [x for x in listA]\n",
    "showDetails(listA,listB)\n",
    "\n",
    "listB[1] = 44\n",
    "listB[3][0] = 55\n",
    "showDetails(listA,listB)"
   ]
  },
  {
   "cell_type": "code",
   "execution_count": 11,
   "id": "3391f3bf-163c-42af-99d9-1ba16ea5983e",
   "metadata": {},
   "outputs": [
    {
     "name": "stdout",
     "output_type": "stream",
     "text": [
      "The Value of 1 variable is \t[2, 4, 6, [1, 3]]\t its id is \t 2496005625792\n",
      "The Value of 2 variable is \t[2, 4, 6, [1, 3]]\t its id is \t 2496005704384\n",
      "\n",
      "\n",
      "\n",
      "The Value of 1 variable is \t[2, 4, 6, [55, 3]]\t its id is \t 2496005625792\n",
      "The Value of 2 variable is \t[2, 44, 6, [55, 3]]\t its id is \t 2496005704384\n",
      "\n",
      "\n",
      "\n"
     ]
    }
   ],
   "source": [
    "listA = [2, 4, 6, [1, 3]]\n",
    "listB = [x for x in listA]\n",
    "showDetails(listA,listB)\n",
    "\n",
    "listB[1] = 44\n",
    "listB[3][0] = 55\n",
    "showDetails(listA,listB)"
   ]
  },
  {
   "cell_type": "code",
   "execution_count": 13,
   "id": "1c177a3c-fb0c-47fb-8a3a-55c32a514efe",
   "metadata": {},
   "outputs": [
    {
     "name": "stdout",
     "output_type": "stream",
     "text": [
      "The Value of 1 variable is \t[2, 4, 6, [1, 3]]\t its id is \t 2496005808448\n",
      "The Value of 2 variable is \t[2, 4, 6, [1, 3]]\t its id is \t 2496005801472\n",
      "\n",
      "\n",
      "\n",
      "The Value of 1 variable is \t[2, 4, 6, [1, 3]]\t its id is \t 2496005808448\n",
      "The Value of 2 variable is \t[2, 44, 6, [55, 3]]\t its id is \t 2496005801472\n",
      "\n",
      "\n",
      "\n"
     ]
    }
   ],
   "source": [
    "import copy\n",
    "listA = [2, 4, 6, [1, 3]]\n",
    "listB = copy.deepcopy(listA)\n",
    "showDetails(listA,listB)\n",
    "listB[1] = 44\n",
    "listB[3][0] = 55\n",
    "showDetails(listA,listB)"
   ]
  },
  {
   "cell_type": "code",
   "execution_count": 15,
   "id": "08727893-88d1-434c-887c-f5749bcd80ab",
   "metadata": {},
   "outputs": [
    {
     "name": "stdout",
     "output_type": "stream",
     "text": [
      "The Value of 1 variable is \t<__main__.Pony object at 0x000002454477FB00>\t its id is \t 2496524712704\n",
      "The Value of 2 variable is \t<__main__.Pony object at 0x0000024544444BC0>\t its id is \t 2496521325504\n",
      "\n",
      "\n",
      "\n",
      "2496524712704 2496521325504\n",
      "2496524712704 2496524712704\n",
      "2496524712704 2496531692864\n"
     ]
    }
   ],
   "source": [
    "class Pony():\n",
    "    def __init__(self, n):\n",
    "        self.name = n\n",
    "        \n",
    "# copy.copy on an object gives you 2 unique objects (with same attributes)\n",
    "pony1 = Pony('Pinto')\n",
    "pony2 = copy.copy(pony1)\n",
    "showDetails(pony1,pony2)\n",
    "\n",
    "print(id(pony1), id(pony2))\n",
    "\n",
    "# copy.copy on a list of objects gives you 2 unique lists containing the exact same objects    \n",
    "# (ie. new list is a shallow copy)\n",
    "m = [pony1, pony2]\n",
    "n = copy.copy (m)\n",
    "print(id(m[0]), id(n[0]))\n",
    "\n",
    "# use copy.deepcopy to deep copy a list of objects\n",
    "n = copy.deepcopy (m)\n",
    "print(id(m[0]), id(n[0]))"
   ]
  },
  {
   "cell_type": "code",
   "execution_count": null,
   "id": "3b61da4e-f34d-4eb2-8d4d-59f94a47125a",
   "metadata": {},
   "outputs": [],
   "source": []
  }
 ],
 "metadata": {
  "kernelspec": {
   "display_name": "Python 3 (ipykernel)",
   "language": "python",
   "name": "python3"
  },
  "language_info": {
   "codemirror_mode": {
    "name": "ipython",
    "version": 3
   },
   "file_extension": ".py",
   "mimetype": "text/x-python",
   "name": "python",
   "nbconvert_exporter": "python",
   "pygments_lexer": "ipython3",
   "version": "3.12.4"
  }
 },
 "nbformat": 4,
 "nbformat_minor": 5
}
