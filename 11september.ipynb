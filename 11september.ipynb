{
 "cells": [
  {
   "cell_type": "code",
   "execution_count": 3,
   "id": "d3c00a93-8d8e-4242-9247-9fb93cead265",
   "metadata": {},
   "outputs": [
    {
     "name": "stdin",
     "output_type": "stream",
     "text": [
      "Enter a list of SAP IDs (separated by commas):  17893243\n"
     ]
    },
    {
     "name": "stdout",
     "output_type": "stream",
     "text": [
      "Email addresses:\n",
      "17893243@stu.upes.ac.in\n"
     ]
    }
   ],
   "source": [
    "#without using map filter and lists\n",
    "\n",
    "def sap_ids_to_email_addresses():\n",
    "    sap_ids = input(\"Enter a list of SAP IDs (separated by commas): \")\n",
    "    sap_ids = [sap_id.strip() for sap_id in sap_ids.split(\",\")]\n",
    "    email_addresses = []\n",
    "    for sap_id in sap_ids:\n",
    "        email_address = f\"{sap_id}@stu.upes.ac.in\"\n",
    "        email_addresses.append(email_address)\n",
    "    print(\"Email addresses:\")\n",
    "    for email_address in email_addresses:\n",
    "        print(email_address)\n",
    "\n",
    "# Call the function\n",
    "sap_ids_to_email_addresses()"
   ]
  },
  {
   "cell_type": "code",
   "execution_count": 4,
   "id": "5bc43953-c03b-4aef-b20d-cae70057e4e4",
   "metadata": {},
   "outputs": [
    {
     "name": "stdin",
     "output_type": "stream",
     "text": [
      "Enter a list of SAP IDs (separated by commas):  17893243\n"
     ]
    },
    {
     "name": "stdout",
     "output_type": "stream",
     "text": [
      "Email addresses:\n",
      "17893243@stu.upes.ac.in\n"
     ]
    }
   ],
   "source": [
    "#with using map, filter lambda and without list comprehension \n",
    "\n",
    "def sap_ids_to_email_addresses():\n",
    "    sap_ids = input(\"Enter a list of SAP IDs (separated by commas): \")\n",
    "    sap_ids = list(filter(None, map(str.strip, sap_ids.split(\",\"))))\n",
    "    email_addresses = list(map(lambda sap_id: f\"{sap_id}@stu.upes.ac.in\", sap_ids))\n",
    "    print(\"Email addresses:\")\n",
    "    for email_address in email_addresses:\n",
    "        print(email_address)\n",
    "\n",
    "# Call the function\n",
    "sap_ids_to_email_addresses()"
   ]
  },
  {
   "cell_type": "code",
   "execution_count": 6,
   "id": "8876c949-2b8d-42c9-bef4-0244c4d74a17",
   "metadata": {},
   "outputs": [
    {
     "name": "stdin",
     "output_type": "stream",
     "text": [
      "Enter a list of SAP IDs separated by space:  17893243\n",
      "Enter the domain name:  upes.ac.in\n"
     ]
    },
    {
     "name": "stdout",
     "output_type": "stream",
     "text": [
      "['17893243@upes.ac.in']\n"
     ]
    }
   ],
   "source": [
    "#using list comprehension\n",
    "\n",
    "#  list of SAP IDs from the user\n",
    "sap_ids = input(\"Enter a list of SAP IDs separated by space: \").split()\n",
    "\n",
    "# Get the domain name from the user\n",
    "domain_name = input(\"Enter the domain name: \")\n",
    "\n",
    "# Use list comprehension to create a list of email addresses\n",
    "email_addresses = [f\"{sap_id}@{domain_name}\" for sap_id in sap_ids]\n",
    "\n",
    "# Print the list of email addresses\n",
    "print(email_addresses)"
   ]
  },
  {
   "cell_type": "code",
   "execution_count": null,
   "id": "ecedb3a8-312b-49f7-b4ce-203c78e04182",
   "metadata": {},
   "outputs": [],
   "source": []
  }
 ],
 "metadata": {
  "kernelspec": {
   "display_name": "Python 3 (ipykernel)",
   "language": "python",
   "name": "python3"
  },
  "language_info": {
   "codemirror_mode": {
    "name": "ipython",
    "version": 3
   },
   "file_extension": ".py",
   "mimetype": "text/x-python",
   "name": "python",
   "nbconvert_exporter": "python",
   "pygments_lexer": "ipython3",
   "version": "3.12.4"
  }
 },
 "nbformat": 4,
 "nbformat_minor": 5
}
