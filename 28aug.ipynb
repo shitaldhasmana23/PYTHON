{
 "cells": [
  {
   "cell_type": "code",
   "execution_count": 3,
   "id": "b15ccfd1-4c40-4bbc-bb45-63b73dcf4ea3",
   "metadata": {},
   "outputs": [
    {
     "name": "stdout",
     "output_type": "stream",
     "text": [
      "0b110\n"
     ]
    }
   ],
   "source": [
    "a=6\n",
    "bina= bin(a)\n",
    "print(bina)"
   ]
  },
  {
   "cell_type": "code",
   "execution_count": 28,
   "id": "637e4165-bdfc-43b5-8799-6dc9d6c27a07",
   "metadata": {},
   "outputs": [
    {
     "name": "stdout",
     "output_type": "stream",
     "text": [
      "-0b111\n"
     ]
    }
   ],
   "source": [
    "a=6\n",
    "~a\n",
    "binnta=bin(~a)\n",
    "print(binnta)"
   ]
  },
  {
   "cell_type": "code",
   "execution_count": 7,
   "id": "0602bc18-9253-4d37-9e2a-374e145a56e4",
   "metadata": {},
   "outputs": [
    {
     "data": {
      "text/plain": [
       "(7, 7)"
      ]
     },
     "execution_count": 7,
     "metadata": {},
     "output_type": "execute_result"
    }
   ],
   "source": [
    "a=6#110\n",
    "b=1 #001\n",
    "c=a|b  #111\n",
    "d = a^b #xor\n",
    "c,d"
   ]
  },
  {
   "cell_type": "code",
   "execution_count": 12,
   "id": "083530b9-6b42-41f9-9304-63a96f3cad86",
   "metadata": {},
   "outputs": [
    {
     "data": {
      "text/plain": [
       "32"
      ]
     },
     "execution_count": 12,
     "metadata": {},
     "output_type": "execute_result"
    }
   ],
   "source": [
    "#dec #bin\n",
    "#<!-- 1 1\n",
    "#2 10\n",
    "#4 100\n",
    "\n",
    "a= 128\n",
    "lshifta =a>>2 #right shift\n",
    "lshifta\n",
    "lshift=a<<2\n",
    "lshifta"
   ]
  },
  {
   "cell_type": "code",
   "execution_count": 15,
   "id": "4bdbea0b-084c-4a2b-8660-e3484a0ba915",
   "metadata": {},
   "outputs": [
    {
     "name": "stdout",
     "output_type": "stream",
     "text": [
      "512 0b1000000000\n",
      "decimal value is 512 and its binary value is0b1000000000\n"
     ]
    }
   ],
   "source": [
    "lshift=a<<2\n",
    "lshifta\n",
    "print (lshift,bin(lshift))\n",
    "print(f\"decimal value is { lshift} and its binary value is {bin(lshift)}\")"
   ]
  },
  {
   "cell_type": "code",
   "execution_count": 17,
   "id": "c21934d0-28ce-4e44-9191-22e40d3d18d6",
   "metadata": {},
   "outputs": [
    {
     "data": {
      "text/plain": [
       "'0'"
      ]
     },
     "execution_count": 17,
     "metadata": {},
     "output_type": "execute_result"
    }
   ],
   "source": [
    "a=\"0 1 2 3 4 5 6 7 8 9\"\n",
    "a[0]"
   ]
  },
  {
   "cell_type": "code",
   "execution_count": 18,
   "id": "3e3867f4-1b15-4b76-b392-30cdf7bacb8a",
   "metadata": {},
   "outputs": [
    {
     "data": {
      "text/plain": [
       "'a'"
      ]
     },
     "execution_count": 18,
     "metadata": {},
     "output_type": "execute_result"
    }
   ],
   "source": [
    "b=\"abcdefghi\"\n",
    "b[0]"
   ]
  },
  {
   "cell_type": "code",
   "execution_count": 19,
   "id": "e0a62911-2691-411f-af52-e13aed8eaf50",
   "metadata": {},
   "outputs": [
    {
     "data": {
      "text/plain": [
       "'b'"
      ]
     },
     "execution_count": 19,
     "metadata": {},
     "output_type": "execute_result"
    }
   ],
   "source": [
    "b[1]"
   ]
  },
  {
   "cell_type": "code",
   "execution_count": 20,
   "id": "38a523ee-b002-49d7-878d-e999cc409b73",
   "metadata": {},
   "outputs": [
    {
     "data": {
      "text/plain": [
       "'abcde'"
      ]
     },
     "execution_count": 20,
     "metadata": {},
     "output_type": "execute_result"
    }
   ],
   "source": [
    "b[0:5]"
   ]
  },
  {
   "cell_type": "code",
   "execution_count": 21,
   "id": "beaf9756-36a8-40d1-a3f0-15f80c20f904",
   "metadata": {},
   "outputs": [
    {
     "data": {
      "text/plain": [
       "9"
      ]
     },
     "execution_count": 21,
     "metadata": {},
     "output_type": "execute_result"
    }
   ],
   "source": [
    "len(b)\n"
   ]
  },
  {
   "cell_type": "code",
   "execution_count": 24,
   "id": "73ab49a7-1be3-4640-9a87-69951dac62fe",
   "metadata": {},
   "outputs": [
    {
     "data": {
      "text/plain": [
       "'abcdefghi'"
      ]
     },
     "execution_count": 24,
     "metadata": {},
     "output_type": "execute_result"
    }
   ],
   "source": [
    "b[0 : len(b)]  # hard coded"
   ]
  },
  {
   "cell_type": "code",
   "execution_count": null,
   "id": "bd0176f1-1ff2-440f-9810-69373fdf6bee",
   "metadata": {},
   "outputs": [],
   "source": [
    "#while loop\n",
    "a=1\n",
    "b= int(input(\"enter a number \"))\n",
    "print(type (b))\n",
    "      while a <= 100;\n",
    "      print (a)\n",
    "        if a> 5;\n",
    "         continue# break or continue command "
   ]
  },
  {
   "cell_type": "code",
   "execution_count": null,
   "id": "4fc10556-8414-4f16-8f58-13a67adef7ac",
   "metadata": {},
   "outputs": [],
   "source": []
  }
 ],
 "metadata": {
  "kernelspec": {
   "display_name": "Python 3 (ipykernel)",
   "language": "python",
   "name": "python3"
  },
  "language_info": {
   "codemirror_mode": {
    "name": "ipython",
    "version": 3
   },
   "file_extension": ".py",
   "mimetype": "text/x-python",
   "name": "python",
   "nbconvert_exporter": "python",
   "pygments_lexer": "ipython3",
   "version": "3.12.4"
  }
 },
 "nbformat": 4,
 "nbformat_minor": 5
}
