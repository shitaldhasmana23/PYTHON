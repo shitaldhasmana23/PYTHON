{
 "cells": [
  {
   "cell_type": "code",
   "execution_count": 1,
   "id": "f5bfc410-a944-4954-9445-e3d294e7c7d6",
   "metadata": {},
   "outputs": [
    {
     "name": "stdout",
     "output_type": "stream",
     "text": [
      "False\n",
      "True\n"
     ]
    }
   ],
   "source": [
    "# FUNCTIONS ON PYTHON \n",
    "#  1.  is  OPERATOR\n",
    "\n",
    "a = [1, 2, 3]\n",
    "b = [1, 2, 3]\n",
    "c = a\n",
    "\n",
    "print(a is b)  \n",
    "print(a is c)  "
   ]
  },
  {
   "cell_type": "code",
   "execution_count": 5,
   "id": "ebd098fd-e48e-4af3-b71d-55c4da18392f",
   "metadata": {},
   "outputs": [
    {
     "name": "stdout",
     "output_type": "stream",
     "text": [
      "True\n",
      "True\n",
      "True\n",
      "False\n"
     ]
    }
   ],
   "source": [
    "#  2.  isinstance()\n",
    "\n",
    "x = 2\n",
    "y = [1, 2, 3]\n",
    "z = \"hello\"\n",
    "\n",
    "print(isinstance(x, int))    #True (x is an integer)\n",
    "print(isinstance(y, list))   #True (y is a list)\n",
    "print(isinstance(z, str))    #True (z is a string)\n",
    "print(isinstance(x, str))    #False (x is not a string)"
   ]
  },
  {
   "cell_type": "code",
   "execution_count": 7,
   "id": "6b78a581-bf69-402a-a0e8-3a4b8f25b6e5",
   "metadata": {},
   "outputs": [
    {
     "name": "stdout",
     "output_type": "stream",
     "text": [
      "4\n",
      "5\n"
     ]
    }
   ],
   "source": [
    "#  3.  len()\n",
    "\n",
    "my_list = [1, 2, 3, 4]\n",
    "my_string = \"hello\"\n",
    "\n",
    "print(len(my_list))   # Output: 4 (the list has 4 elements)\n",
    "print(len(my_string)) # Output: 5 (the string has 5 characters)\n"
   ]
  },
  {
   "cell_type": "code",
   "execution_count": 9,
   "id": "f12db165-15e8-4d71-9bad-9fac26152cca",
   "metadata": {},
   "outputs": [
    {
     "name": "stdout",
     "output_type": "stream",
     "text": [
      "3\n",
      "2\n"
     ]
    }
   ],
   "source": [
    "#  4.  count()\n",
    "\n",
    "my_list = [1, 2, 3, 2, 4, 2]\n",
    "my_string = \"hello world\"\n",
    "\n",
    "print(my_list.count(2))      #3 (2 occurs 3 times in the list)\n",
    "print(my_string.count(\"o\"))  #2 (the letter 'o' appears 2 times)\n"
   ]
  },
  {
   "cell_type": "code",
   "execution_count": 11,
   "id": "55bb5971-59ce-4e82-b036-27df82ab63a9",
   "metadata": {},
   "outputs": [
    {
     "name": "stdout",
     "output_type": "stream",
     "text": [
      "['__add__', '__class__', '__class_getitem__', '__contains__', '__delattr__', '__delitem__', '__dir__', '__doc__', '__eq__', '__format__', '__ge__', '__getattribute__', '__getitem__', '__getstate__', '__gt__', '__hash__', '__iadd__', '__imul__', '__init__', '__init_subclass__', '__iter__', '__le__', '__len__', '__lt__', '__mul__', '__ne__', '__new__', '__reduce__', '__reduce_ex__', '__repr__', '__reversed__', '__rmul__', '__setattr__', '__setitem__', '__sizeof__', '__str__', '__subclasshook__', 'append', 'clear', 'copy', 'count', 'extend', 'index', 'insert', 'pop', 'remove', 'reverse', 'sort']\n"
     ]
    }
   ],
   "source": [
    "#  5.  dir()\n",
    "\n",
    "x = [1, 2, 3]\n",
    "print(dir(x)) "
   ]
  },
  {
   "cell_type": "code",
   "execution_count": 13,
   "id": "c81ccf3a-f12c-4fe2-9f85-af9e04bbfb3d",
   "metadata": {},
   "outputs": [
    {
     "name": "stdout",
     "output_type": "stream",
     "text": [
      "<class 'int'>\n",
      "<class 'str'>\n",
      "<class 'list'>\n"
     ]
    }
   ],
   "source": [
    "#  6.  type()\n",
    "\n",
    "x = 5\n",
    "y = \"hello\"\n",
    "z = [1, 2, 3]\n",
    "\n",
    "print(type(x))  \n",
    "print(type(y))  \n",
    "print(type(z))  "
   ]
  },
  {
   "cell_type": "code",
   "execution_count": 15,
   "id": "ee3483d5-3df1-4059-a342-7710fd4db30c",
   "metadata": {},
   "outputs": [
    {
     "name": "stdout",
     "output_type": "stream",
     "text": [
      "2392107982848\n",
      "2392107982848\n"
     ]
    }
   ],
   "source": [
    "#  7.  id()\n",
    "\n",
    "a = [1, 2, 3]\n",
    "b = a\n",
    "\n",
    "print(id(a))  #Memory address of 'a'\n",
    "print(id(b))  #Same as 'a', because 'b' references the same object\n"
   ]
  },
  {
   "cell_type": "code",
   "execution_count": 17,
   "id": "89752538-f736-41be-8174-2bc32247efb9",
   "metadata": {},
   "outputs": [
    {
     "name": "stdout",
     "output_type": "stream",
     "text": [
      "10\n"
     ]
    }
   ],
   "source": [
    "#  8.  sum()\n",
    "\n",
    "numbers = [1, 2, 3, 4]\n",
    "print(sum(numbers))  # 10 (sum of the numbers in the list)"
   ]
  },
  {
   "cell_type": "code",
   "execution_count": 19,
   "id": "30d56f6e-359c-4575-912d-d86d75f6c919",
   "metadata": {},
   "outputs": [
    {
     "name": "stdout",
     "output_type": "stream",
     "text": [
      "10\n",
      "1\n"
     ]
    }
   ],
   "source": [
    "#  9.  max()   and    min()\n",
    "\n",
    "numbers = [10, 3, 5, 1]\n",
    "\n",
    "print(max(numbers))  #  10 (largest number in the list)\n",
    "print(min(numbers))  #  1 (smallest number in the list)\n"
   ]
  },
  {
   "cell_type": "code",
   "execution_count": 21,
   "id": "bfd714f5-0a7a-4703-b662-190e8f7bb943",
   "metadata": {},
   "outputs": [
    {
     "name": "stdout",
     "output_type": "stream",
     "text": [
      "[1, 2, 3, 4]\n",
      "[3, 1, 4, 2]\n"
     ]
    }
   ],
   "source": [
    "#  10.  sorted()\n",
    "\n",
    "my_list = [3, 1, 4, 2]\n",
    "sorted_list = sorted(my_list)\n",
    "\n",
    "print(sorted_list)  \n",
    "print(my_list)     \n"
   ]
  },
  {
   "cell_type": "code",
   "execution_count": 23,
   "id": "f11d9a2a-a0db-4d65-a87f-12a12c892e56",
   "metadata": {},
   "outputs": [
    {
     "name": "stdout",
     "output_type": "stream",
     "text": [
      "[4, 3, 2, 1]\n"
     ]
    }
   ],
   "source": [
    "#  11.  reversed()  \n",
    "\n",
    "my_list = [1, 2, 3, 4]\n",
    "reversed_list = list(reversed(my_list))\n",
    "\n",
    "print(reversed_list) "
   ]
  },
  {
   "cell_type": "code",
   "execution_count": 27,
   "id": "a0f2a4f7-29ce-4ed8-9690-e2d3a6066d7f",
   "metadata": {},
   "outputs": [
    {
     "name": "stdout",
     "output_type": "stream",
     "text": [
      "0 a\n",
      "1 b\n",
      "2 c\n"
     ]
    }
   ],
   "source": [
    "#   12.  enumerate()\n",
    "\n",
    "my_list = [\"a\", \"b\", \"c\"]\n",
    "for index, value in enumerate(my_list):\n",
    "    print(index, value)"
   ]
  },
  {
   "cell_type": "code",
   "execution_count": 29,
   "id": "cffac9b9-644f-4885-98d5-760d56381a4b",
   "metadata": {},
   "outputs": [
    {
     "name": "stdout",
     "output_type": "stream",
     "text": [
      "True\n",
      "True\n",
      "True\n",
      "False\n"
     ]
    }
   ],
   "source": [
    "#  13.  all()   and   any()\n",
    "\n",
    "numbers = [1, 2, 3, 4]\n",
    "empty = []\n",
    "\n",
    "print(all(numbers))  \n",
    "print(all(empty))  \n",
    "print(any(numbers))  \n",
    "print(any(empty))    \n"
   ]
  },
  {
   "cell_type": "code",
   "execution_count": null,
   "id": "8ad1cd27-686d-4848-9ea6-322ba411ec05",
   "metadata": {},
   "outputs": [],
   "source": []
  }
 ],
 "metadata": {
  "kernelspec": {
   "display_name": "Python 3 (ipykernel)",
   "language": "python",
   "name": "python3"
  },
  "language_info": {
   "codemirror_mode": {
    "name": "ipython",
    "version": 3
   },
   "file_extension": ".py",
   "mimetype": "text/x-python",
   "name": "python",
   "nbconvert_exporter": "python",
   "pygments_lexer": "ipython3",
   "version": "3.12.4"
  }
 },
 "nbformat": 4,
 "nbformat_minor": 5
}
