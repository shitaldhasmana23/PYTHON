{
 "cells": [
  {
   "cell_type": "code",
   "execution_count": 1,
   "id": "84decdf8-d14f-4b64-a124-29da299aba5e",
   "metadata": {},
   "outputs": [],
   "source": [
    "# UNIT 2\n",
    "# FUNCTIONS IN PYTHON"
   ]
  },
  {
   "cell_type": "code",
   "execution_count": 5,
   "id": "2fcf08e2-736b-4a26-a3ee-6ed5a8f1a7d8",
   "metadata": {},
   "outputs": [
    {
     "name": "stdout",
     "output_type": "stream",
     "text": [
      "Hello, Amisha!\n"
     ]
    }
   ],
   "source": [
    "# 1. DEFINING YOUR OWN FUNCTIONS\n",
    "\n",
    "def greet(name):\n",
    "    return f\"Hello, {name}!\"\n",
    "\n",
    "#Calling the function\n",
    "\n",
    "message = greet(\"Amisha\")\n",
    "print(message)\n",
    "\n"
   ]
  },
  {
   "cell_type": "code",
   "execution_count": 7,
   "id": "00850b05-ca2c-4d27-bc4c-5b7a2e19d337",
   "metadata": {},
   "outputs": [
    {
     "name": "stdout",
     "output_type": "stream",
     "text": [
      "8\n"
     ]
    }
   ],
   "source": [
    "# 2. PARAMETERS\n",
    "\n",
    "def add(a, b):\n",
    "    \"\"\"Returns the sum of two numbers.\"\"\"\n",
    "    return a + b\n",
    "\n",
    "#Calling the function with arguments\n",
    "\n",
    "result = add(5, 3)\n",
    "print(result) "
   ]
  },
  {
   "cell_type": "code",
   "execution_count": 11,
   "id": "34f6c7e5-d605-45f7-aef4-0b28d008f803",
   "metadata": {},
   "outputs": [
    {
     "name": "stdout",
     "output_type": "stream",
     "text": [
      "\n",
      "    Multiplies two numbers and returns the result.\n",
      "    \n",
      "    Parameters:\n",
      "    a (int, float): The first number.\n",
      "    b (int, float): The second number.\n",
      "    \n",
      "    Returns:\n",
      "    int, float: The product of a and b.\n",
      "    \n"
     ]
    }
   ],
   "source": [
    "# 3. FUNCTION DOCUMENTATION\n",
    "\n",
    "def multiply(a, b):\n",
    "    \"\"\"\n",
    "    Multiplies two numbers and returns the result.\n",
    "    \n",
    "    Parameters:\n",
    "    a (int, float): The first number.\n",
    "    b (int, float): The second number.\n",
    "    \n",
    "    Returns:\n",
    "    int, float: The product of a and b.\n",
    "    \"\"\"\n",
    "    return a * b\n",
    "\n",
    "print(multiply.__doc__)\n",
    "\n"
   ]
  },
  {
   "cell_type": "code",
   "execution_count": 15,
   "id": "8510475b-24f9-4199-9882-b5fca2bfdbf0",
   "metadata": {},
   "outputs": [
    {
     "name": "stdout",
     "output_type": "stream",
     "text": [
      "My name is Roy, and I am 25 years old.\n",
      "My name is Ayushi, and I am 30 years old.\n"
     ]
    }
   ],
   "source": [
    "# 4. KEYWORD AND OPTIONAL PARAMETERS\n",
    "\n",
    "def introduce(name, age=25):\n",
    "    \"\"\"Introduces a person with their name and age.\"\"\"\n",
    "    return f\"My name is {name}, and I am {age} years old.\"\n",
    "\n",
    "#Calling with positional arguments\n",
    "\n",
    "print(introduce(\"Roy\"))  \n",
    "\n",
    "#Calling with keyword arguments\n",
    "\n",
    "print(introduce(name=\"Ayushi\", age=30)) "
   ]
  },
  {
   "cell_type": "code",
   "execution_count": 22,
   "id": "eb1969cf-34c3-4685-801d-131ac07d437f",
   "metadata": {},
   "outputs": [
    {
     "name": "stdout",
     "output_type": "stream",
     "text": [
      "21\n",
      "80\n"
     ]
    }
   ],
   "source": [
    "# 5. PASSING COLLECTIONS TO A FUNCTION\n",
    "\n",
    "def sum_numbers(numbers):\n",
    "    \"\"\"Sums all the numbers in a collection.\"\"\"\n",
    "    return sum(numbers)\n",
    "\n",
    "#Passing a list to the function\n",
    "\n",
    "result = sum_numbers([1, 1, 3, 7, 9])\n",
    "print(result)  \n",
    "\n",
    "#Passing a tuple to the function\n",
    "\n",
    "result = sum_numbers((15, 26, 39))\n",
    "print(result) \n"
   ]
  },
  {
   "cell_type": "code",
   "execution_count": 24,
   "id": "11870092-88c6-4df2-b33a-6391e344f699",
   "metadata": {},
   "outputs": [
    {
     "name": "stdout",
     "output_type": "stream",
     "text": [
      "1\n",
      "2\n",
      "3\n",
      "4\n",
      "name: Shina\n",
      "age: 20\n"
     ]
    }
   ],
   "source": [
    "# 6. VARIABLE NUMBER OF ARGUMENTS\n",
    "\n",
    "def print_numbers(*args):\n",
    "    \"\"\"Prints each number passed as an argument.\"\"\"\n",
    "    for number in args:\n",
    "        print(number)\n",
    "\n",
    "#Calling with multiple arguments\n",
    "\n",
    "print_numbers(1, 2, 3, 4)\n",
    "\n",
    "def print_key_value(**kwargs):\n",
    "    \"\"\"Prints each key-value pair passed as keyword arguments.\"\"\"\n",
    "    for key, value in kwargs.items():\n",
    "        print(f\"{key}: {value}\")\n",
    "\n",
    "#Calling with keyword arguments\n",
    "\n",
    "print_key_value(name=\"Shina\", age=20)"
   ]
  },
  {
   "cell_type": "code",
   "execution_count": 28,
   "id": "370764d7-03eb-4300-adef-c1ad883463a2",
   "metadata": {},
   "outputs": [
    {
     "name": "stdout",
     "output_type": "stream",
     "text": [
      "10\n",
      "85\n",
      "40\n"
     ]
    }
   ],
   "source": [
    "# 7. SCOPE\n",
    "\n",
    "x = 40  # Global variable\n",
    "\n",
    "def outer_function():\n",
    "    x = 85  # Enclosing variable\n",
    "\n",
    "    def inner_function():\n",
    "        x = 10  # Local variable\n",
    "        print(x)  \n",
    "\n",
    "    inner_function()\n",
    "    print(x) \n",
    "\n",
    "outer_function()\n",
    "print(x) \n"
   ]
  }
 ],
 "metadata": {
  "kernelspec": {
   "display_name": "Python 3 (ipykernel)",
   "language": "python",
   "name": "python3"
  },
  "language_info": {
   "codemirror_mode": {
    "name": "ipython",
    "version": 3
   },
   "file_extension": ".py",
   "mimetype": "text/x-python",
   "name": "python",
   "nbconvert_exporter": "python",
   "pygments_lexer": "ipython3",
   "version": "3.12.4"
  }
 },
 "nbformat": 4,
 "nbformat_minor": 5
}
