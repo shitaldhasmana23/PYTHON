{
 "cells": [
  {
   "cell_type": "code",
   "execution_count": 2,
   "id": "cb3766a4-91ee-40a9-a06a-3cb3f8e5ae59",
   "metadata": {},
   "outputs": [
    {
     "name": "stdout",
     "output_type": "stream",
     "text": [
      "apple\n",
      "['apple', 'banana', 'cherry', 'orange']\n",
      "['apple', 'cherry', 'orange']\n"
     ]
    }
   ],
   "source": [
    "# Creating a list of fruits\n",
    "\n",
    "fruits = [\"apple\", \"banana\", \"cherry\"]#Accessing elements by index\n",
    "\n",
    "\n",
    "print(fruits[0])  # Output: appleAdding an element to the list\n",
    "\n",
    "\n",
    "fruits.append(\"orange\")\n",
    "print(fruits)  # Output: ['apple', 'banana', 'cherry', 'orange']Removing an element from the list\n",
    "\n",
    "\n",
    "fruits.remove(\"banana\")\n",
    "print(fruits)  # Output: ['apple', 'cherry', 'orange']Modifying an element in the list\n",
    "\n",
    "\n"
   ]
  },
  {
   "cell_type": "code",
   "execution_count": 3,
   "id": "bb6d14d5-14a2-4552-9ae8-75ba84265618",
   "metadata": {},
   "outputs": [
    {
     "name": "stdout",
     "output_type": "stream",
     "text": [
      "['apple', 'kiwi', 'orange']\n"
     ]
    }
   ],
   "source": [
    "fruits[1] = \"kiwi\"\n",
    "print(fruits)  # Output: ['apple', 'kiwi', 'orange']\n"
   ]
  },
  {
   "cell_type": "code",
   "execution_count": 4,
   "id": "ddab6bd5-2896-4e19-9027-8e1d8cdb65ef",
   "metadata": {},
   "outputs": [
    {
     "data": {
      "text/plain": [
       "([1, 2, 3, 4], 2035392629824, list)"
      ]
     },
     "execution_count": 4,
     "metadata": {},
     "output_type": "execute_result"
    }
   ],
   "source": [
    "list1 =[1,2,3,4]\n",
    "list1, id(list1),type(list1)"
   ]
  },
  {
   "cell_type": "code",
   "execution_count": 5,
   "id": "9fe558b5-4187-4dfd-a88f-56b6f817872e",
   "metadata": {},
   "outputs": [
    {
     "data": {
      "text/plain": [
       "([1, 2, 3, 4, 10], 2035392629824, list)"
      ]
     },
     "execution_count": 5,
     "metadata": {},
     "output_type": "execute_result"
    }
   ],
   "source": [
    "list1.append(10)\n",
    "list1, id(list1),type(list1)"
   ]
  },
  {
   "cell_type": "code",
   "execution_count": 6,
   "id": "2c5cbd33-ad96-4624-9d70-2e4968592d54",
   "metadata": {},
   "outputs": [
    {
     "data": {
      "text/plain": [
       "([2, 3, 4, 10], 2035392629824, list)"
      ]
     },
     "execution_count": 6,
     "metadata": {},
     "output_type": "execute_result"
    }
   ],
   "source": [
    "list1.remove(1)\n",
    "list1, id(list1),type(list1)\n"
   ]
  },
  {
   "cell_type": "code",
   "execution_count": 7,
   "id": "49b974d6-de06-401f-9b78-3f038ae0bb12",
   "metadata": {},
   "outputs": [
    {
     "data": {
      "text/plain": [
       "((1, 2, 3), 2035392709248)"
      ]
     },
     "execution_count": 7,
     "metadata": {},
     "output_type": "execute_result"
    }
   ],
   "source": [
    "#help(tuple)\n",
    "tuple1 =(1,2,3)\n",
    "tuple1,id(tuple1)"
   ]
  },
  {
   "cell_type": "code",
   "execution_count": 8,
   "id": "dc90daa3-f398-44a8-969f-add90e0b6c50",
   "metadata": {},
   "outputs": [
    {
     "data": {
      "text/plain": [
       "2"
      ]
     },
     "execution_count": 8,
     "metadata": {},
     "output_type": "execute_result"
    }
   ],
   "source": [
    "tuple1[1]"
   ]
  },
  {
   "cell_type": "code",
   "execution_count": 14,
   "id": "07ca3bab-d4ac-4bba-8ebe-0da9e3866fdb",
   "metadata": {},
   "outputs": [
    {
     "name": "stdout",
     "output_type": "stream",
     "text": [
      "h\n",
      "i\n",
      " \n",
      "p\n",
      "y\n",
      "t\n",
      "h\n",
      "o\n",
      "n\n"
     ]
    }
   ],
   "source": [
    "string1=\"hi python\"\n",
    "string1[0:1]\n",
    "lenstr = len(string1)\n",
    "#print(lenstr)\n",
    "#string1:[0:9]\n",
    "for i in range(0,len(string1)):\n",
    "    print(string1[i])"
   ]
  },
  {
   "cell_type": "code",
   "execution_count": 1,
   "id": "49ba1811-1f91-4e23-b34f-cc730c56a4a1",
   "metadata": {},
   "outputs": [
    {
     "ename": "SyntaxError",
     "evalue": "invalid syntax. Perhaps you forgot a comma? (3467022965.py, line 3)",
     "output_type": "error",
     "traceback": [
      "\u001b[1;36m  Cell \u001b[1;32mIn[1], line 3\u001b[1;36m\u001b[0m\n\u001b[1;33m    print(Dict1 {\"Name\"})\u001b[0m\n\u001b[1;37m          ^\u001b[0m\n\u001b[1;31mSyntaxError\u001b[0m\u001b[1;31m:\u001b[0m invalid syntax. Perhaps you forgot a comma?\n"
     ]
    }
   ],
   "source": [
    "# dictionary\n",
    "Dict1={\"Name\":\"Raj\",\"key1\":\"val1\",\"key2\":\"val2\",\"key3\":\"val3\",\"key4\":\"val4\"}\n",
    "print(Dict1 {\"Name\"})"
   ]
  },
  {
   "cell_type": "code",
   "execution_count": 23,
   "id": "d4a20ec8-1ef1-473b-80a8-38f246559904",
   "metadata": {},
   "outputs": [
    {
     "name": "stdout",
     "output_type": "stream",
     "text": [
      "key is namevalue is Raj\n",
      "key is key1value is val1\n",
      "key is key2value is val2\n",
      "key is key3value is val3\n",
      "key is key4value is val4\n"
     ]
    }
   ],
   "source": [
    "for key,val in Dict1.items():\n",
    "   # print(f\"key is{key} val is{val}\") # Fstring or format_method\n",
    "    print(\"key is \"+ key + \"value is \"+ val)"
   ]
  },
  {
   "cell_type": "code",
   "execution_count": 25,
   "id": "3040f931-3274-429c-b2fd-e8bacce0e15e",
   "metadata": {},
   "outputs": [
    {
     "name": "stdout",
     "output_type": "stream",
     "text": [
      "key is {name} value is\n"
     ]
    },
    {
     "ename": "KeyError",
     "evalue": "'name'",
     "output_type": "error",
     "traceback": [
      "\u001b[1;31m---------------------------------------------------------------------------\u001b[0m",
      "\u001b[1;31mKeyError\u001b[0m                                  Traceback (most recent call last)",
      "Cell \u001b[1;32mIn[25], line 4\u001b[0m\n\u001b[0;32m      2\u001b[0m \u001b[38;5;66;03m#help(fstr)\u001b[39;00m\n\u001b[0;32m      3\u001b[0m \u001b[38;5;28mprint\u001b[39m(fstr)\n\u001b[1;32m----> 4\u001b[0m \u001b[38;5;28mprint\u001b[39m(\u001b[43mfstr\u001b[49m\u001b[38;5;241;43m.\u001b[39;49m\u001b[43mformat\u001b[49m\u001b[43m(\u001b[49m\u001b[43mkey\u001b[49m\u001b[43m,\u001b[49m\u001b[43mval\u001b[49m\u001b[43m)\u001b[49m)\n",
      "\u001b[1;31mKeyError\u001b[0m: 'name'"
     ]
    }
   ],
   "source": [
    "#fstr=\"key is {name} value is\" \n",
    "#help(fstr)\n",
    "#print(fstr)\n",
    "#print(fstr.format(key,val))                    # ----next class-----"
   ]
  },
  {
   "cell_type": "code",
   "execution_count": 28,
   "id": "23b65373-0615-484e-9a32-83ec21ea6d1c",
   "metadata": {},
   "outputs": [
    {
     "name": "stdout",
     "output_type": "stream",
     "text": [
      "key is { } value is\n",
      "key is key4 value is val4\n"
     ]
    }
   ],
   "source": [
    "fstr=\"key is { } value is\" \n",
    "#help(fstr)\n",
    "print(fstr)\n",
    "fstr2=f\"key is {key} value is {val}\" \n",
    "print(fstr2)\n",
    "#print(fstr.format(key,val)) "
   ]
  },
  {
   "cell_type": "code",
   "execution_count": null,
   "id": "ad9cb8fe-147b-4d0c-9990-b51bb4127d6f",
   "metadata": {},
   "outputs": [],
   "source": [
    "# create a list of 5 elements using assignment cre"
   ]
  },
  {
   "cell_type": "code",
   "execution_count": 29,
   "id": "5d644956-9b39-4e11-a322-013be82126fc",
   "metadata": {},
   "outputs": [
    {
     "data": {
      "text/plain": [
       "([[1, 2], [3, 4]], 2)"
      ]
     },
     "execution_count": 29,
     "metadata": {},
     "output_type": "execute_result"
    }
   ],
   "source": [
    "Row1= [1,2]\n",
    "Row2= [3,4]\n",
    "matrix= [Row1,Row2]\n",
    "matrix,len(matrix)"
   ]
  },
  {
   "cell_type": "code",
   "execution_count": 31,
   "id": "4af810f1-e0a4-48f7-b2e9-83999bb17b58",
   "metadata": {},
   "outputs": [],
   "source": [
    "matrix[0][0]\n",
    "matrix[0]=10"
   ]
  },
  {
   "cell_type": "code",
   "execution_count": 32,
   "id": "6f9469de-24ab-4893-a352-d4e07bb11102",
   "metadata": {},
   "outputs": [
    {
     "data": {
      "text/plain": [
       "[10, [3, 4]]"
      ]
     },
     "execution_count": 32,
     "metadata": {},
     "output_type": "execute_result"
    }
   ],
   "source": [
    "matrix"
   ]
  },
  {
   "cell_type": "code",
   "execution_count": 36,
   "id": "8aef1f48-3101-45f7-a3f9-373e1675f393",
   "metadata": {},
   "outputs": [
    {
     "name": "stdout",
     "output_type": "stream",
     "text": [
      "[1, 2, 3, 4, 11, 2, 3, 4, 0, [3, 4]]\n",
      "2035398604864\n",
      "<class 'list'>\n",
      "[0, 2, 3, 4, 11, 2, 3, 4, 0, [3, 4, 100]]\n",
      "2035398674688\n",
      "<class 'list'>\n",
      "[0, 2, 3, 4, 11, 2, 3, 4, 0, [3, 4, 100]]\n"
     ]
    }
   ],
   "source": [
    "listA=[1,2,3,4,11,2,3,4,0, [3, 4]]\n",
    "\n",
    "print(listA)\n",
    "print(id(listB))\n",
    "print(type(listB))\n",
    "listB= listA\n",
    "listB[0]=0\n",
    "listB[len(listB)-1].append(100)\n",
    "print(listB)\n",
    "print(id(listB))\n",
    "print(type(listB))\n",
    "print(listA)"
   ]
  },
  {
   "cell_type": "code",
   "execution_count": null,
   "id": "d1673ed4-90e9-4293-b2ec-cb3ec601cf32",
   "metadata": {},
   "outputs": [],
   "source": []
  }
 ],
 "metadata": {
  "kernelspec": {
   "display_name": "Python 3 (ipykernel)",
   "language": "python",
   "name": "python3"
  },
  "language_info": {
   "codemirror_mode": {
    "name": "ipython",
    "version": 3
   },
   "file_extension": ".py",
   "mimetype": "text/x-python",
   "name": "python",
   "nbconvert_exporter": "python",
   "pygments_lexer": "ipython3",
   "version": "3.12.4"
  }
 },
 "nbformat": 4,
 "nbformat_minor": 5
}
