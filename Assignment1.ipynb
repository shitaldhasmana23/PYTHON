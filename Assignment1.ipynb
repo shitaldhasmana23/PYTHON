{
 "cells": [
  {
   "cell_type": "code",
   "execution_count": 2,
   "id": "85839edc-5d52-48d9-8c49-c1264c770bed",
   "metadata": {},
   "outputs": [
    {
     "name": "stdin",
     "output_type": "stream",
     "text": [
      "Enter the first name:-   Shital\n",
      "Enter the last name:-   Dhasmana\n"
     ]
    },
    {
     "name": "stdout",
     "output_type": "stream",
     "text": [
      "Dhasmana Shital\n"
     ]
    }
   ],
   "source": [
    "# PART 2 :-  BASIC PYTHON SYNTAX.\n",
    "# 1. STRING OPERATION\n",
    "\n",
    "# Write a Python program that takes a user's first and last name as input and print them in reverse order with a space between them.\n",
    "first_name = input(\"Enter the first name:-  \")\n",
    "last_name = input(\"Enter the last name:-  \")\n",
    "\n",
    "reversed_name = last_name + \" \" + first_name\n",
    "print(reversed_name)\n"
   ]
  },
  {
   "cell_type": "code",
   "execution_count": 3,
   "id": "5320568c-7544-4144-8593-a18794dd6f54",
   "metadata": {},
   "outputs": [
    {
     "name": "stdin",
     "output_type": "stream",
     "text": [
      "Enter the string:-   dfvkdsfvkd\n"
     ]
    },
    {
     "name": "stdout",
     "output_type": "stream",
     "text": [
      "Dfvkdsfvkd\n",
      "Hello, World!\n"
     ]
    }
   ],
   "source": [
    "# Use at least two string methods and explain their purpose in the comments.\n",
    "'''\n",
    ".capitalize() --->  This method in Python is used to capitalize the first character of a string and convert \n",
    "                    all other characters to lowercase. '''\n",
    "\n",
    "text = input(\"Enter the string:-  \")\n",
    "print(text.capitalize())\n",
    "\n",
    "'''\n",
    ".strip() --->  This method in Python is used to remove any leading and trailing whitespace (spaces, tabs, newlines) from a string.\n",
    "               If no arguments are passed, it removes all types of leading and trailing whitespace. You can also specify characters \n",
    "               to remove by passing them as an argument. '''\n",
    "\n",
    "text1 = \"   Hello, World!   \"\n",
    "stripped_text = text1.strip()\n",
    "print(stripped_text)\n"
   ]
  },
  {
   "cell_type": "code",
   "execution_count": 4,
   "id": "6579606d-fd6b-43ad-9e50-5c3e71274913",
   "metadata": {},
   "outputs": [
    {
     "name": "stdin",
     "output_type": "stream",
     "text": [
      "Enter the number:-  24\n"
     ]
    },
    {
     "name": "stdout",
     "output_type": "stream",
     "text": [
      "<class 'int'>\n",
      "<class 'float'>\n",
      "<class 'complex'>\n"
     ]
    }
   ],
   "source": [
    "# 2. Numeric DataTypes and Conversion Functions\n",
    "\n",
    "# Write a python program that take input from user, convert it to different numeric datatype(integer, float, complex) \n",
    "# and displays the converted value.\n",
    "\n",
    "user_input = input(\"Enter the number:- \")\n",
    "\n",
    "# Convert input it into integer.\n",
    "int_value = int(user_input)         # int = It convert the user input into integer value.\n",
    "print(type(int_value))\n",
    "\n",
    "# Convert input into float.\n",
    "float_value = float(user_input)    # float = It convert the user input into floating value.\n",
    "print(type(float_value))\n",
    "\n",
    "# Convert input into complex.\n",
    "complex_value = complex(user_input)      # complex = It convert the user input into complex value.\n",
    "print(type(complex_value))\n"
   ]
  },
  {
   "cell_type": "code",
   "execution_count": 5,
   "id": "5790109b-ff76-4754-8e23-153b2ad93d9a",
   "metadata": {},
   "outputs": [
    {
     "name": "stdin",
     "output_type": "stream",
     "text": [
      "Enter the length of the rectangle:-  40\n",
      "Enter the width of the rectangle:-  15\n"
     ]
    },
    {
     "name": "stdout",
     "output_type": "stream",
     "text": [
      "Area of rectangle is  600.0\n"
     ]
    }
   ],
   "source": [
    "# 3. Simple Input and Output\n",
    "length = float(input(\"Enter the length of the rectangle:- \"))\n",
    "width = float(input(\"Enter the width of the rectangle:- \"))\n",
    "\n",
    "area = length * width\n",
    "print(\"Area of rectangle is \", area)\n"
   ]
  },
  {
   "cell_type": "code",
   "execution_count": 6,
   "id": "22d257e9-28b0-4c03-a4cc-94c3c7da3def",
   "metadata": {},
   "outputs": [
    {
     "name": "stdout",
     "output_type": "stream",
     "text": [
      "Area of rectangle is 600.00\n"
     ]
    }
   ],
   "source": [
    "\n",
    "# 4. Using fromat() function.\n",
    "print(\"Area of rectangle is {:.2f}\".format(area))\n"
   ]
  },
  {
   "cell_type": "code",
   "execution_count": 7,
   "id": "e2593d6c-21c5-432e-a7b2-01a8d8f1970e",
   "metadata": {},
   "outputs": [
    {
     "name": "stdin",
     "output_type": "stream",
     "text": [
      "Enter the first value 13\n",
      "Enter the second value 45\n",
      "Enter the third value  44\n"
     ]
    },
    {
     "name": "stdout",
     "output_type": "stream",
     "text": [
      "The average of the three numbers is: 34.000000\n"
     ]
    }
   ],
   "source": [
    "\n",
    "# 5. The % Method and Print function\n",
    "\n",
    "# Write a Python Script that take three number as input and prints their average using the % method for string formatting.\n",
    "num1=float(input(\"Enter the first value\"))\n",
    "num2=float(input(\"Enter the second value\"))\n",
    "num3=float(input(\"Enter the third value \"))\n",
    "\n",
    "average = (num1+num2+num3)/3\n",
    "\n",
    "# Also, use the print function to display a message that states , \"The average of the number is: [calculated average]\".\n",
    "print(\"The average of the three numbers is: %2f\" % average)\n"
   ]
  },
  {
   "cell_type": "code",
   "execution_count": 1,
   "id": "c3c8f767-e2a7-4a91-a4a1-8579658387d7",
   "metadata": {},
   "outputs": [
    {
     "name": "stdin",
     "output_type": "stream",
     "text": [
      "Enter the number:-  56\n"
     ]
    },
    {
     "name": "stdout",
     "output_type": "stream",
     "text": [
      "Positive\n"
     ]
    }
   ],
   "source": [
    "# PART 3 :-  LANGUAGE COMPONENT\n",
    "# 1. Control Flow (if Statements and Loops)\n",
    "\n",
    "# Write a python program that asks the user for a number and determines wether it is positive, negative and zero.\n",
    "\n",
    "num = int(input(\"Enter the number:- \"))\n",
    "\n",
    "if(num > 0):\n",
    "    print(\"Positive\")\n",
    "elif( num < 0):\n",
    "    print(\"Negative\")\n",
    "else:\n",
    "    print(\"Zero\")"
   ]
  },
  {
   "cell_type": "code",
   "execution_count": 4,
   "id": "b3262254-889e-4f54-9785-0408bbbbd270",
   "metadata": {},
   "outputs": [
    {
     "name": "stdin",
     "output_type": "stream",
     "text": [
      "Enter the number\n",
      " 45\n",
      "Enter the number\n",
      " exit\n"
     ]
    },
    {
     "name": "stdout",
     "output_type": "stream",
     "text": [
      "quit....\n"
     ]
    }
   ],
   "source": [
    "# Implement a loop that continues to ask the user for a number until they enter 'exit'.\n",
    "while True:\n",
    "    user = input(\"Enter the number\\n\")\n",
    "    \n",
    "    if user == 'exit':\n",
    "        print(\"quit....\")\n",
    "        break"
   ]
  },
  {
   "cell_type": "code",
   "execution_count": 6,
   "id": "d36902b5-1228-4a3e-bfe6-116d30c1f3eb",
   "metadata": {},
   "outputs": [
    {
     "name": "stdin",
     "output_type": "stream",
     "text": [
      "Enter the number\n",
      " 34\n"
     ]
    },
    {
     "name": "stdout",
     "output_type": "stream",
     "text": [
      "Number is  34\n"
     ]
    },
    {
     "name": "stdin",
     "output_type": "stream",
     "text": [
      "Enter the number\n",
      " exit\n"
     ]
    },
    {
     "name": "stdout",
     "output_type": "stream",
     "text": [
      "exit..!\n"
     ]
    }
   ],
   "source": [
    "# Use break to exit the loop and continue to prompt for a new number if the input is not 'exit'.\n",
    "while True:\n",
    "    user_prompt = input(\"Enter the number\\n\")\n",
    "    \n",
    "    if user_prompt == 'exit':\n",
    "        print(\"exit..!\")\n",
    "        break\n",
    "    \n",
    "    try:\n",
    "        number = int(user_prompt)\n",
    "        print(\"Number is \", number)\n",
    "        \n",
    "    except ValueError:\n",
    "        print(\"Number is not valid! Try again\")\n",
    "        continue\n",
    "    "
   ]
  },
  {
   "cell_type": "code",
   "execution_count": 7,
   "id": "5ab84075-e926-47a5-b431-11a8cf75e788",
   "metadata": {},
   "outputs": [
    {
     "name": "stdin",
     "output_type": "stream",
     "text": [
      "Enter the first number:  67\n",
      "Enter the second number:  45\n"
     ]
    },
    {
     "name": "stdout",
     "output_type": "stream",
     "text": [
      "Both numbers are odd.\n"
     ]
    }
   ],
   "source": [
    "# 2. Reational and Logical Operators\n",
    "\n",
    "# Create a python script that takes two members as input and print wether both members are even, odd or one of \n",
    "# each using relational and logocal operator.\n",
    "num1 = int(input(\"Enter the first number: \"))\n",
    "num2 = int(input(\"Enter the second number: \"))\n",
    "\n",
    "if num1 % 2 == 0 and num2 % 2 == 0:\n",
    "    print(\"Both numbers are even.\")\n",
    "    \n",
    "elif num1 % 2 != 0 and num2 % 2 != 0:\n",
    "    print(\"Both numbers are odd.\")\n",
    "\n",
    "else:\n",
    "    print(\"One number is even and the other is odd.\")"
   ]
  },
  {
   "cell_type": "code",
   "execution_count": 8,
   "id": "3813d4e9-79fd-4dbe-be6a-31e464467959",
   "metadata": {},
   "outputs": [
    {
     "name": "stdin",
     "output_type": "stream",
     "text": [
      "Enter an integer:  45\n"
     ]
    },
    {
     "name": "stdout",
     "output_type": "stream",
     "text": [
      "Binary: 101101\n",
      "Octal: 55\n",
      "Hexadecimal: 2D\n"
     ]
    }
   ],
   "source": [
    "# 3. For Loop and Bitwise Operator\n",
    "\n",
    "# Write a python program that takes an integer input and prints its binary, octal and hexadecimal equivalents \n",
    "# using a for loop and bitwise operator.\n",
    "\n",
    "num = int(input(\"Enter an integer: \"))\n",
    "\n",
    "# Define a dictionary to store the number bases and their respective formats\n",
    "formats = {\n",
    "    'Binary': 2,\n",
    "    'Octal': 8,\n",
    "    'Hexadecimal': 16\n",
    "}\n",
    "for base_name, base in formats.items():\n",
    "    if base == 2:\n",
    "        # Convert to binary using bitwise shift and mask\n",
    "        binary = \"\"\n",
    "        for i in range(num.bit_length() - 1, -1, -1):\n",
    "            binary += str((num >> i) & 1)\n",
    "        print(f\"{base_name}: {binary}\")\n",
    "    elif base == 8:\n",
    "        # Convert to octal using format function\n",
    "        octal = format(num, 'o')\n",
    "        print(f\"{base_name}: {octal}\")\n",
    "    elif base == 16:\n",
    "        # Convert to hexadecimal using format function\n",
    "        hexadecimal = format(num, 'x').upper()\n",
    "        print(f\"{base_name}: {hexadecimal}\")"
   ]
  },
  {
   "cell_type": "code",
   "execution_count": null,
   "id": "09c74f1d-bc79-4254-bf42-366cedfbc8ba",
   "metadata": {},
   "outputs": [],
   "source": []
  }
 ],
 "metadata": {
  "kernelspec": {
   "display_name": "Python 3 (ipykernel)",
   "language": "python",
   "name": "python3"
  },
  "language_info": {
   "codemirror_mode": {
    "name": "ipython",
    "version": 3
   },
   "file_extension": ".py",
   "mimetype": "text/x-python",
   "name": "python",
   "nbconvert_exporter": "python",
   "pygments_lexer": "ipython3",
   "version": "3.12.4"
  }
 },
 "nbformat": 4,
 "nbformat_minor": 5
}
