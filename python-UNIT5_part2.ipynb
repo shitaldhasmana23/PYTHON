{
 "cells": [
  {
   "cell_type": "code",
   "execution_count": null,
   "id": "c59aafcf-a971-4a7b-b802-a7c7dbc36857",
   "metadata": {},
   "outputs": [],
   "source": [
    "#LIST COMPREHENSION "
   ]
  },
  {
   "cell_type": "code",
   "execution_count": 3,
   "id": "6514c65f-b280-483a-bd0d-bc3c8dc825d6",
   "metadata": {},
   "outputs": [
    {
     "name": "stdout",
     "output_type": "stream",
     "text": [
      "[0, 1, 4, 9, 16, 25, 36, 49, 64, 81]\n"
     ]
    }
   ],
   "source": [
    "#CREATING A LIST OF SQUARES\n",
    "\n",
    "squares = [x**2 for x in range(10)]\n",
    "print(squares)"
   ]
  },
  {
   "cell_type": "code",
   "execution_count": 5,
   "id": "05a673b4-2b84-4262-bfe2-63ca634601d6",
   "metadata": {},
   "outputs": [
    {
     "name": "stdout",
     "output_type": "stream",
     "text": [
      "[0, 2, 4, 6, 8, 10, 12, 14, 16, 18]\n"
     ]
    }
   ],
   "source": [
    "# FILTERING EVEN NUMBERS\n",
    "\n",
    "evens = [x for x in range(20) if x % 2 == 0]\n",
    "print(evens)"
   ]
  },
  {
   "cell_type": "code",
   "execution_count": 7,
   "id": "abf122e2-18e1-41d6-9e1f-a9f1c5270d2a",
   "metadata": {},
   "outputs": [
    {
     "name": "stdout",
     "output_type": "stream",
     "text": [
      "[5, 5, 9]\n"
     ]
    }
   ],
   "source": [
    "# APPLYING FUNCTIONS TO LIST ELEMENTS\n",
    "\n",
    "fruits = ['apple', 'mango', 'pineapple']\n",
    "fruit_lengths = [len(fruit) for fruit in fruits]\n",
    "print(fruit_lengths)"
   ]
  },
  {
   "cell_type": "code",
   "execution_count": 9,
   "id": "d96f65c8-71b9-4dc7-bf23-a7631e4ac23a",
   "metadata": {},
   "outputs": [
    {
     "name": "stdout",
     "output_type": "stream",
     "text": [
      "[1, 2, 3, 4, 5, 6, 7, 8, 9]\n"
     ]
    }
   ],
   "source": [
    "#NESTED LIST COMPREHENSION\n",
    "\n",
    "matrix = [[1, 2, 3], [4, 5, 6], [7, 8, 9]]\n",
    "flattened = [num for row in matrix for num in row]\n",
    "print(flattened)"
   ]
  },
  {
   "cell_type": "code",
   "execution_count": null,
   "id": "7eb4a348-8ef3-4ca8-9a3f-9f3fe39276ba",
   "metadata": {},
   "outputs": [],
   "source": [
    "# DICTIONARY COMPREHENSION"
   ]
  },
  {
   "cell_type": "code",
   "execution_count": 11,
   "id": "ec790ca8-b7e6-4bcd-b6f2-c5b42e9ee33e",
   "metadata": {},
   "outputs": [
    {
     "name": "stdout",
     "output_type": "stream",
     "text": [
      "{0: 0, 1: 1, 2: 4, 3: 9, 4: 16}\n"
     ]
    }
   ],
   "source": [
    "# CREATING A DICTIONARY OF SQUARES\n",
    "\n",
    "squares_dict = {x: x**2 for x in range(5)}\n",
    "print(squares_dict)"
   ]
  },
  {
   "cell_type": "code",
   "execution_count": 13,
   "id": "72004d6d-4ff2-4cd3-bdb0-65a86127ec11",
   "metadata": {},
   "outputs": [
    {
     "name": "stdout",
     "output_type": "stream",
     "text": [
      "{'apple': 5, 'mango': 5, 'grapes': 6}\n"
     ]
    }
   ],
   "source": [
    "# FILTERING ITEMS IN A DICTIONARY\n",
    "\n",
    "fruits = ['apple', 'mango', 'grapes']\n",
    "fruit_dict = {fruit: len(fruit) for fruit in fruits}\n",
    "print(fruit_dict)"
   ]
  },
  {
   "cell_type": "code",
   "execution_count": 15,
   "id": "0047b91f-8614-4165-968b-198cd243e664",
   "metadata": {},
   "outputs": [
    {
     "name": "stdout",
     "output_type": "stream",
     "text": [
      "{1: 'a', 2: 'b', 3: 'c'}\n"
     ]
    }
   ],
   "source": [
    "# INVERTING A DICTIONARY \n",
    "\n",
    "original_dict = {'a': 1, 'b': 2, 'c': 3}\n",
    "inverted_dict = {value: key for key, value in original_dict.items()}\n",
    "print(inverted_dict)"
   ]
  },
  {
   "cell_type": "code",
   "execution_count": 17,
   "id": "16da5cf9-c48b-456b-9e10-15ed9b852030",
   "metadata": {},
   "outputs": [
    {
     "name": "stdout",
     "output_type": "stream",
     "text": [
      "{0: {0: 1, 1: 2, 2: 3}, 1: {0: 4, 1: 5, 2: 6}}\n"
     ]
    }
   ],
   "source": [
    "# NESTED DICTIONARY COMPREHENSION\n",
    "\n",
    "matrix = [[1, 2, 3], [4, 5, 6]]\n",
    "dict_matrix = {i: {j: value for j, value in enumerate(row)} for i, row in enumerate(matrix)}\n",
    "print(dict_matrix)"
   ]
  },
  {
   "cell_type": "code",
   "execution_count": 19,
   "id": "4b399c8d-8e9a-42aa-accf-292d3ceacd74",
   "metadata": {},
   "outputs": [
    {
     "name": "stdout",
     "output_type": "stream",
     "text": [
      "[0, 1, 8, 27, 64, 125, 216, 343, 512, 729]\n"
     ]
    }
   ],
   "source": [
    "# LIST OF THE FIRST 10 CUBE NUMBERS \n",
    "\n",
    "cubes = [x**3 for x in range(10)]\n",
    "print(cubes)"
   ]
  },
  {
   "cell_type": "code",
   "execution_count": 21,
   "id": "2e774ade-9f6b-42d2-a32d-14424a0df5f2",
   "metadata": {},
   "outputs": [
    {
     "name": "stdout",
     "output_type": "stream",
     "text": [
      "{1: 1, 2: 2, 3: 6, 4: 24, 5: 120}\n"
     ]
    }
   ],
   "source": [
    "# DICTIONARY THAT MAPS EACH NUMBER FROM 1 TO 5 TO ITS FACTORIAL\n",
    "\n",
    "import math\n",
    "factorials = {x: math.factorial(x) for x in range(1, 6)}\n",
    "print(factorials)"
   ]
  }
 ],
 "metadata": {
  "kernelspec": {
   "display_name": "Python 3 (ipykernel)",
   "language": "python",
   "name": "python3"
  },
  "language_info": {
   "codemirror_mode": {
    "name": "ipython",
    "version": 3
   },
   "file_extension": ".py",
   "mimetype": "text/x-python",
   "name": "python",
   "nbconvert_exporter": "python",
   "pygments_lexer": "ipython3",
   "version": "3.12.4"
  }
 },
 "nbformat": 4,
 "nbformat_minor": 5
}
