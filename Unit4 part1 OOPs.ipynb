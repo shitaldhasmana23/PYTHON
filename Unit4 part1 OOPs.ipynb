{
 "cells": [
  {
   "cell_type": "code",
   "execution_count": 1,
   "id": "d1f6502a-cdf8-44d4-abd5-6622f521a4ac",
   "metadata": {},
   "outputs": [
    {
     "name": "stdout",
     "output_type": "stream",
     "text": [
      "Buddy says woof!\n",
      "Charlie is 5 years old.\n",
      "Canis familiaris\n"
     ]
    }
   ],
   "source": [
    "# 2 Creating classes \n",
    "# we can create a class using keyword \"class\" and methods can be defined within it .\n",
    "class Dog:\n",
    "    # Class attribute (shared by all instances)\n",
    "    species = \"Canis familiaris\"\n",
    "    \n",
    "    # Constructor (initializer)\n",
    "    def __init__(self, name, age):\n",
    "        # Instance attributes (unique to each instance)\n",
    "        self.name = name\n",
    "        self.age = age\n",
    "    \n",
    "    # Instance method\n",
    "    def bark(self):\n",
    "        return f\"{self.name} says woof!\"\n",
    "    \n",
    "    # Another instance method\n",
    "    def get_age(self):\n",
    "        return f\"{self.name} is {self.age} years old.\"\n",
    "\n",
    "\n",
    "# Creating instances (objects) of the Dog class\n",
    "dog1 = Dog(\"Buddy\", 3)\n",
    "dog2 = Dog(\"Charlie\", 5)\n",
    "\n",
    "# Accessing attributes and methods\n",
    "print(dog1.bark())         # Buddy says woof!\n",
    "print(dog2.get_age())      # Charlie is 5 years old.\n",
    "print(dog1.species)        # Canis familiaris\n",
    "\n",
    "\n",
    "    \n",
    "\n"
   ]
  },
  {
   "cell_type": "code",
   "execution_count": 9,
   "id": "3a549e8e-b4b1-46f9-b8b5-b00a68e0aa7f",
   "metadata": {},
   "outputs": [],
   "source": [
    "#3 Instance Methods \n",
    "# These are function defined inside a class and can acess the attributes and other methods of the attributes \n",
    "#and other methods of the object using self.\n",
    "def bark(self):\n",
    "    return f\"{self.name} says woof!\"\n",
    "# instance method syntax object.method().\n",
    "    \n",
    "# 4 file organizer \n",
    "    from dog import Dog"
   ]
  },
  {
   "cell_type": "code",
   "execution_count": 11,
   "id": "d0fc27ea-5005-429d-ad6f-d622328ba0e8",
   "metadata": {},
   "outputs": [
    {
     "name": "stdout",
     "output_type": "stream",
     "text": [
      "Buddy is 3 years old.\n"
     ]
    }
   ],
   "source": [
    "#Special Methods(Dunder Methods)\n",
    "#allows object to behave in specific situations.\n",
    "class Dog:\n",
    "    #Python requires the constructor method to be named __init__ to initialize the object .\n",
    "    def __init__(self, name, age):  # constructor method\n",
    "        self.name = name\n",
    "        self.age = age\n",
    "    \n",
    "    #  string representation\n",
    "    __str__(self):\n",
    "\n",
    "#Defines string representation of an object when print() or str() is called on it. This is useful for creating user-friendly output of your objects.\n",
    "    def __str__(self):  #string representation method\n",
    "        return f\"{self.name} is {self.age} years old.\" #Defines behavior of len() function when called on an object.used for classes representing collections or sequences.\n",
    "\n",
    "\n",
    "dog = Dog(\"Buddy\", 3)\n",
    "print(dog)  # Output: Buddy is 3 years old.\n",
    "\n"
   ]
  },
  {
   "cell_type": "code",
   "execution_count": 15,
   "id": "4fb05da8-437a-46d1-83d8-604c75ba945c",
   "metadata": {},
   "outputs": [
    {
     "name": "stdout",
     "output_type": "stream",
     "text": [
      "Canis familiaris\n",
      "Canis familiaris\n"
     ]
    }
   ],
   "source": [
    "# 6- class variables \n",
    "#class variables are shared across all the instance of a class.\n",
    "#they are defined within class but outside any instance method\n",
    "class Dog:\n",
    "    # Class variable shared by all instances\n",
    "    species = \"Canis familiaris\"\n",
    "    \n",
    "    def __init__(self, name, age):  # Fixed the typo here\n",
    "        self.name = name\n",
    "        self.age = age\n",
    "\n",
    "dog1 = Dog(\"Buddy\", 3)\n",
    "dog2 = Dog(\"Charlie\", 5)\n",
    "\n",
    "print(dog1.species)  # Output: Canis familiaris\n",
    "print(dog2.species)  # Output: Canis familiaris\n"
   ]
  },
  {
   "cell_type": "code",
   "execution_count": 18,
   "id": "6c129e33-be25-42be-9e83-80cc9211cd8e",
   "metadata": {},
   "outputs": [
    {
     "name": "stdout",
     "output_type": "stream",
     "text": [
      "Buddy says woof!\n",
      "Whiskers says meow!\n"
     ]
    }
   ],
   "source": [
    "# 7 - INHERITANCE\n",
    "# it allows to create a new class based on a existing class .\n",
    "# new class(child class) inherits attributes and methods  of a base class (parent class)\n",
    "class Animal:\n",
    "    def __init__(self, name):\n",
    "        self.name = name\n",
    "    \n",
    "    def speak(self):\n",
    "        raise NotImplementedError(\"Subclass must implement abstract method\")\n",
    "\n",
    "class Dog(Animal):\n",
    "    def speak(self):\n",
    "        return f\"{self.name} says woof!\"\n",
    "\n",
    "class Cat(Animal):\n",
    "    def speak(self):\n",
    "        return f\"{self.name} says meow!\"\n",
    "dog = Dog(\"Buddy\")\n",
    "cat = Cat(\"Whiskers\")\n",
    "\n",
    "print(dog.speak())  # Output: Buddy says woof!\n",
    "print(cat.speak())  # Output: Whiskers says meow!\n",
    "\n",
    "#in above code Dog and Cat class inherits methods form above class i.e Animal\n",
    "# and override the speak method"
   ]
  },
  {
   "cell_type": "code",
   "execution_count": 19,
   "id": "c4d44dce-8302-4c79-8f78-97b301b53dd2",
   "metadata": {},
   "outputs": [
    {
     "name": "stdout",
     "output_type": "stream",
     "text": [
      "Buddy says woof!\n",
      "Whiskers says meow!\n"
     ]
    }
   ],
   "source": [
    "# 8 - Polymorphism\n",
    "# polymorphism allows to have same name of a method in a class but with different parameters\n",
    "def animal_speak(animal):\n",
    "    print(animal.speak())\n",
    "\n",
    "dog = Dog(\"Buddy\")\n",
    "cat = Cat(\"Whiskers\")\n",
    "\n",
    "animal_speak(dog)  # Output: Buddy says woof!\n",
    "animal_speak(cat)  # Output: Whiskers says meow!\n"
   ]
  },
  {
   "cell_type": "code",
   "execution_count": 20,
   "id": "7c503b41-934c-4f94-b8e2-c6d70a53b597",
   "metadata": {},
   "outputs": [
    {
     "name": "stdout",
     "output_type": "stream",
     "text": [
      "<class '__main__.Dog'>\n",
      "True\n",
      "True\n"
     ]
    }
   ],
   "source": [
    "# 9- type identification \n",
    "# int this pyhton identifes the type of an object using type() or isinstance() function\n",
    "print(type(dog))  # Output: main.Dog'>\n",
    "print(isinstance(dog, Dog))  # Output: True\n",
    "print(isinstance(dog, Animal))  # Output: True\n"
   ]
  },
  {
   "cell_type": "code",
   "execution_count": 21,
   "id": "f4eafc43-1326-441b-b05a-4ebc870e2a9f",
   "metadata": {},
   "outputs": [
    {
     "name": "stdout",
     "output_type": "stream",
     "text": [
      "Value cannot be negative!\n"
     ]
    }
   ],
   "source": [
    "# 10- custom Exception class\n",
    "#  we can create custom exception by inheiting form the base Exception class\n",
    "class CustomError(Exception):\n",
    "    def __init__(self, message):\n",
    "        self.message = message\n",
    "\n",
    "#Raising the custom exception\n",
    "def check_value(x):\n",
    "    if x < 0:\n",
    "        raise CustomError(\"Value cannot be negative!\")\n",
    "\n",
    "try:\n",
    "    check_value(-1)\n",
    "except CustomError as e:\n",
    "    print(e.message)  # Output: Value cannot be negative!\n",
    "\n",
    "\n",
    "\n",
    "\n"
   ]
  },
  {
   "cell_type": "code",
   "execution_count": null,
   "id": "5000b242-6ae8-4596-bd27-60ae4433be37",
   "metadata": {},
   "outputs": [],
   "source": []
  }
 ],
 "metadata": {
  "kernelspec": {
   "display_name": "Python 3 (ipykernel)",
   "language": "python",
   "name": "python3"
  },
  "language_info": {
   "codemirror_mode": {
    "name": "ipython",
    "version": 3
   },
   "file_extension": ".py",
   "mimetype": "text/x-python",
   "name": "python",
   "nbconvert_exporter": "python",
   "pygments_lexer": "ipython3",
   "version": "3.12.4"
  }
 },
 "nbformat": 4,
 "nbformat_minor": 5
}
