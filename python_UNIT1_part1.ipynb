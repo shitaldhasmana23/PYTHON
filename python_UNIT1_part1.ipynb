{
 "cells": [
  {
   "cell_type": "code",
   "execution_count": 1,
   "id": "bf4d9947-71d8-42aa-9b70-3b190f6fcfbb",
   "metadata": {},
   "outputs": [],
   "source": [
    "# PYTHON   UNIT   1           \n",
    "# part 1 "
   ]
  },
  {
   "cell_type": "code",
   "execution_count": 3,
   "id": "cc4a40e7-9d59-45ae-afdb-fc05dc8e4dc9",
   "metadata": {},
   "outputs": [
    {
     "name": "stdout",
     "output_type": "stream",
     "text": [
      "Hello world\n"
     ]
    }
   ],
   "source": [
    "# 1. Hello world program \n",
    "\n",
    "print(\"Hello world\")"
   ]
  },
  {
   "cell_type": "code",
   "execution_count": 17,
   "id": "a0479b4a-74ff-4725-9b8b-b122b909ade0",
   "metadata": {},
   "outputs": [
    {
     "data": {
      "text/plain": [
       "int"
      ]
     },
     "execution_count": 17,
     "metadata": {},
     "output_type": "execute_result"
    }
   ],
   "source": [
    "# 2. variable types (python is a dynamic language)\n",
    "\n",
    "x=5\n",
    "type(x)"
   ]
  },
  {
   "cell_type": "code",
   "execution_count": 25,
   "id": "5c4a31c7-4697-47ff-bb66-ea9a628df3b2",
   "metadata": {},
   "outputs": [
    {
     "data": {
      "text/plain": [
       "float"
      ]
     },
     "execution_count": 25,
     "metadata": {},
     "output_type": "execute_result"
    }
   ],
   "source": [
    "y=5.4\n",
    "type(y)"
   ]
  },
  {
   "cell_type": "code",
   "execution_count": 23,
   "id": "ea7be32f-0430-4c29-b5bc-8d7400bf4259",
   "metadata": {},
   "outputs": [
    {
     "data": {
      "text/plain": [
       "str"
      ]
     },
     "execution_count": 23,
     "metadata": {},
     "output_type": "execute_result"
    }
   ],
   "source": [
    "z=\"unit 2\"\n",
    "type(z)"
   ]
  },
  {
   "cell_type": "code",
   "execution_count": 37,
   "id": "b3f3af91-b66f-46af-97ea-853cf46019ef",
   "metadata": {},
   "outputs": [
    {
     "name": "stdout",
     "output_type": "stream",
     "text": [
      "140729808927448\n",
      "140729808927480\n",
      "1735424161520\n",
      "1735954067120\n"
     ]
    }
   ],
   "source": [
    "# 3. Immutable objects\n",
    "\n",
    "#objects like          integers      floating point numbers       strings       tuple       frozensets        bytes   are immutable objects.... \n",
    "\n",
    "a=10\n",
    "print(id(x))         #address of a\n",
    "a=10+1\n",
    "print(id(a))         #new address of a\n",
    "\n",
    "b=4.5\n",
    "print(id(b))         #address of b \n",
    "b=4.5+100\n",
    "print(id(b))         #new address of b"
   ]
  },
  {
   "cell_type": "code",
   "execution_count": 45,
   "id": "01fe1b60-c177-49d4-8499-d4500aa28642",
   "metadata": {},
   "outputs": [
    {
     "name": "stdout",
     "output_type": "stream",
     "text": [
      "1735972552640\n",
      "1735972552640\n",
      "[1, 2, 3, 4, 5, 6]\n"
     ]
    }
   ],
   "source": [
    "# 4. Mutable objects\n",
    "\n",
    "#objects like        lists        dictionaries         sets        byte arrays   are mutable objects....\n",
    "\n",
    "list=[1, 2, 3, 4, 5]\n",
    "print(id(list))                     #address of list\n",
    "list.append(6)                \n",
    "print(id(list))                     #address of list after append \n",
    "print(list)"
   ]
  },
  {
   "cell_type": "code",
   "execution_count": 53,
   "id": "7149770b-d5e6-4a64-add7-112ea988611f",
   "metadata": {},
   "outputs": [
    {
     "name": "stdout",
     "output_type": "stream",
     "text": [
      "n is greater\n"
     ]
    }
   ],
   "source": [
    "# 5. Indentation            (crucial in python)\n",
    "\n",
    "m=10\n",
    "n=12\n",
    "if m > n:\n",
    "    print(\"m is greater than n\")                                    \n",
    "else:\n",
    "    print(\"n is greater\")"
   ]
  },
  {
   "cell_type": "code",
   "execution_count": null,
   "id": "f7692740-fc47-4385-80c7-fdb46627dec5",
   "metadata": {},
   "outputs": [
    {
     "name": "stdout",
     "output_type": "stream",
     "text": [
      "comments are non executable\n"
     ]
    }
   ],
   "source": [
    "# 5. comments \n",
    "\n",
    "print(\"comments are non executable\")                     # printing about comments  created using #"
   ]
  },
  {
   "cell_type": "code",
   "execution_count": null,
   "id": "38caf2d8-408d-46bb-bf3f-cf3717a711d9",
   "metadata": {},
   "outputs": [
    {
     "name": "stdout",
     "output_type": "stream",
     "text": [
      "this is a string in single quotes\n",
      "this is a new string in double quotes\n"
     ]
    }
   ],
   "source": [
    "# 6.  String values \n",
    "\n",
    "my_string='this is a string in single quotes' # using single or double quotes we can print a string\n",
    "my_newstring=\"this is a new string in double quotes\" \n",
    "print(my_string)\n",
    "print(my_newstring)"
   ]
  },
  {
   "cell_type": "code",
   "execution_count": 1,
   "id": "88fa58d6-2dc0-44e5-93c1-03da92181a14",
   "metadata": {},
   "outputs": [
    {
     "name": "stdout",
     "output_type": "stream",
     "text": [
      "    string methods   \n",
      "    STRING METHODS   \n",
      "    string methods   \n",
      "    methods methods   \n",
      "2\n",
      "['string', 'methods']\n",
      "string methods\n"
     ]
    }
   ],
   "source": [
    "# 7. String methods\n",
    "\n",
    "#python provide many builtin methods for string manipulation\n",
    "\n",
    "g = \"    string methods   \"\n",
    "\n",
    "print(g.lower())  # Converts the string to lowercase\n",
    "# Output: \"    string methods   \"\n",
    "\n",
    "print(g.upper())  # Converts the string to uppercase\n",
    "# Output: \"    STRING METHODS   \"\n",
    "\n",
    "print(g.capitalize())  # Capitalizes the first character of the string and lowercases the rest\n",
    "# Output: \"    string methods   \"\n",
    "\n",
    "print(g.replace(\"string\", \"methods\"))  # Replaces the substring \"string\" with \"methods\"\n",
    "# Output: \"    methods methods   \"\n",
    "\n",
    "print(g.count(\"s\"))  # Counts the occurrences of the character \"s\" in the string\n",
    "# Output: 2\n",
    "\n",
    "print(g.split())  # Splits the string into a list of words (by whitespace by default)\n",
    "# Output: ['string', 'methods']\n",
    "\n",
    "print(g.strip())  # Removes leading and trailing whitespace from the string\n",
    "# Output: \"string methods\"\n"
   ]
  },
  {
   "cell_type": "code",
   "execution_count": null,
   "id": "567a269c-155d-4e8f-9ddc-ca0c42f7876c",
   "metadata": {},
   "outputs": [
    {
     "name": "stdout",
     "output_type": "stream",
     "text": [
      "MCA Batch B5   \n",
      "MCA Batch B5   MCA Batch B5   MCA Batch B5   MCA Batch B5   \n",
      "False\n",
      "True\n",
      "A\n",
      "at\n",
      "5\n",
      "False\n",
      "True\n",
      "False\n",
      " python is a \n",
      " programming language\n",
      "object oriented\n",
      "Romy is 24 years old and he is an artist\n",
      "Romy is 24 years old and he is an artist\n",
      "6\n"
     ]
    }
   ],
   "source": [
    "# Define three string variables\n",
    "a = \"MCA\"\n",
    "b = \"Batch\"\n",
    "c = \"B5\"\n",
    "\n",
    "# Concatenation operator: combines strings with spaces\n",
    "my_string = a + \" \" + b + \" \" + c + \" \"\n",
    "print(my_string)  # Output: \"MCA Batch B5 \"\n",
    "\n",
    "# Repetition operator: repeats the string 4 times\n",
    "result = my_string * 4\n",
    "print(result)  # Output: \"MCA Batch B5 MCA Batch B5 MCA Batch B5 MCA Batch B5 \"\n",
    "\n",
    "# Membership operator: checks if 'd' is in string 'a'\n",
    "print(\"d\" in a)  # Output: False\n",
    "\n",
    "# Membership operator: checks if 'x' is not in string 'b'\n",
    "print(\"x\" not in b)  # Output: True\n",
    "\n",
    "# Slice operator: accessing a specific character by index\n",
    "print(a[2])  # Output: \"A\" (3rd character of 'a')\n",
    "\n",
    "# Slice operator: accessing a substring from index 1 to 2 (inclusive)\n",
    "print(b[1:3])  # Output: \"at\" (substring of 'b')\n",
    "\n",
    "# Slice operator: accessing the last character using negative index\n",
    "print(c[-1])  # Output: \"5\"\n",
    "\n",
    "# String comparison operators\n",
    "print(a == b)  # Output: False (checks if 'a' is equal to 'b')\n",
    "print(a > b)   # Output: True (compares lexicographical order of 'a' and 'b')\n",
    "print(a < c)   # Output: False (compares lexicographical order of 'a' and 'c')\n",
    "\n",
    "# Demonstrating escape characters\n",
    "d = \" python is a \\\\n programming language\"\n",
    "print(d)  # (\\\\n creates a new line)\n",
    "\n",
    "# Raw string: treats backslashes as literal characters\n",
    "e = r\"object oriented\"\n",
    "print(e)  # Output: \"object oriented\"\n",
    "\n",
    "# String formatting using the % operator\n",
    "u = 'Romy'\n",
    "v = 24\n",
    "w = 'artist'\n",
    "print(\"%s is %d years old and he is an %s\" % (u, v, w))  # Output: \"Romy is 24 years old and he is an artist\"\n",
    "\n",
    "# String formatting using the .format() method\n",
    "print(\"{} is {} years old and he is an {}\".format(u, v, w))  # Output: \"Romy is 24 years old and he is an artist\"\n",
    "\n",
    "# Length operator: returns the length of the string 'w'\n",
    "print(len(w))  # Output: 6\n"
   ]
  }
 ],
 "metadata": {
  "kernelspec": {
   "display_name": "Python 3",
   "language": "python",
   "name": "python3"
  },
  "language_info": {
   "codemirror_mode": {
    "name": "ipython",
    "version": 3
   },
   "file_extension": ".py",
   "mimetype": "text/x-python",
   "name": "python",
   "nbconvert_exporter": "python",
   "pygments_lexer": "ipython3",
   "version": "3.12.4"
  }
 },
 "nbformat": 4,
 "nbformat_minor": 5
}
