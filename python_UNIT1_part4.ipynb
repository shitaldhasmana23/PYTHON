{
 "cells": [
  {
   "cell_type": "code",
   "execution_count": 23,
   "id": "16825fcb-2440-4c9e-a2f8-781c4bd2c646",
   "metadata": {},
   "outputs": [
    {
     "name": "stdout",
     "output_type": "stream",
     "text": [
      "0\n",
      "1\n",
      "2\n"
     ]
    }
   ],
   "source": [
    "# 6. break\n",
    "\n",
    "a=0                      \n",
    "while a<6:\n",
    "    if a == 3:\n",
    "     break\n",
    "    print(a)                \n",
    "    a += 1 "
   ]
  },
  {
   "cell_type": "code",
   "execution_count": 2,
   "id": "4a7ec690-29a6-4392-8b61-3fbeccc154eb",
   "metadata": {},
   "outputs": [
    {
     "name": "stdout",
     "output_type": "stream",
     "text": [
      "1\n",
      "2\n",
      "4\n",
      "5\n",
      "6\n"
     ]
    }
   ],
   "source": [
    "# 6.continue\n",
    "\n",
    "a=0                      \n",
    "while a<6:\n",
    "    a += 1\n",
    "    if a == 3:\n",
    "     continue\n",
    "    print(a)    "
   ]
  },
  {
   "cell_type": "code",
   "execution_count": 4,
   "id": "157befbb-c54b-44ce-b326-cc613083b61e",
   "metadata": {},
   "outputs": [
    {
     "name": "stdout",
     "output_type": "stream",
     "text": [
      "0\n",
      "1\n",
      "2\n",
      "3\n",
      "4\n",
      "5\n",
      "6\n",
      "7\n",
      "8\n",
      "9\n"
     ]
    }
   ],
   "source": [
    "# 7. For loop\n",
    "\n",
    "for i in  range (10):\n",
    "    print(i)"
   ]
  }
 ],
 "metadata": {
  "kernelspec": {
   "display_name": "Python 3 (ipykernel)",
   "language": "python",
   "name": "python3"
  },
  "language_info": {
   "codemirror_mode": {
    "name": "ipython",
    "version": 3
   },
   "file_extension": ".py",
   "mimetype": "text/x-python",
   "name": "python",
   "nbconvert_exporter": "python",
   "pygments_lexer": "ipython3",
   "version": "3.12.4"
  }
 },
 "nbformat": 4,
 "nbformat_minor": 5
}
