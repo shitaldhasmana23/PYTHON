{
 "cells": [
  {
   "cell_type": "code",
   "execution_count": 8,
   "id": "c9b6f9f3-65ae-472f-8f16-042075c5c103",
   "metadata": {},
   "outputs": [
    {
     "name": "stdout",
     "output_type": "stream",
     "text": [
      "This is written inside if block\n",
      "This is written outside if block\n"
     ]
    }
   ],
   "source": [
    "# 1. Indenting requirements\n",
    "\n",
    "if(True):\n",
    "    print(\"This is written inside if block\")\n",
    "print('This is written outside if block')"
   ]
  },
  {
   "cell_type": "code",
   "execution_count": 10,
   "id": "2329cc1e-b320-4d34-b94a-0ecff6c052ea",
   "metadata": {},
   "outputs": [
    {
     "name": "stdout",
     "output_type": "stream",
     "text": [
      " x is greater than 10\n"
     ]
    }
   ],
   "source": [
    "# 2. If statement \n",
    "\n",
    "x=20\n",
    "if(x>10):\n",
    "    print(\" x is greater than 10\")\n",
    "else:\n",
    "    print(\"x is smaller than 10\")"
   ]
  },
  {
   "cell_type": "code",
   "execution_count": 12,
   "id": "4a97cd16-dbab-4b67-bd3a-cfcaa232cb89",
   "metadata": {},
   "outputs": [
    {
     "name": "stdout",
     "output_type": "stream",
     "text": [
      "FALSE\n",
      "y is greater than or equal to z\n"
     ]
    }
   ],
   "source": [
    "# 3. Relational and Logical opertors\n",
    "\n",
    "\n",
    "#    ==   EQUAL TO \n",
    "#    !=   NOT EQUAL TO\n",
    "#    >    GREATER THAN\n",
    "#    <    LESS THAN\n",
    "#    >=   GREATER THAN EQUAL TO\n",
    "#    <=   LESS THAN EQUAL TO\n",
    "\n",
    "# EXAMPLE:-\n",
    "\n",
    "a=12\n",
    "b=29\n",
    "if(a>=b):\n",
    "    print(\"a is greater than or equal to b\")\n",
    "else:\n",
    "    print(\"FALSE\")\n",
    "\n",
    "#     and   TRUE IF BOTH CONDITIONS ARE TRUE \n",
    "#     or    TRUE IF AT LEAST ONE CONDITION IS TRUE\n",
    "#     not   TRUE IF CONDITION IS FALSE\n",
    "\n",
    "# EXAMPLE:-\n",
    "\n",
    "y=12\n",
    "z=10\n",
    "if(x>y and x>=y):\n",
    "    print(\"y is greater than or equal to z\")\n",
    "else:\n",
    "    print(\"y is greater\")"
   ]
  },
  {
   "cell_type": "code",
   "execution_count": 14,
   "id": "fab04061-c3cd-4f7c-876d-d32e8b71c91d",
   "metadata": {},
   "outputs": [
    {
     "name": "stdout",
     "output_type": "stream",
     "text": [
      "2\n",
      "58\n",
      "56\n",
      "-51\n",
      "0\n",
      "11258999068426240\n"
     ]
    }
   ],
   "source": [
    "# 4. Bitwise operators\n",
    "\n",
    "#    &           AND \n",
    "#    |           OR\n",
    "#    ^           XOR\n",
    "#    ~           NOT\n",
    "#    >>          LEFT SHIFT\n",
    "#    <<          RIGHT SHIFT\n",
    "\n",
    "#    Example:-\n",
    "\n",
    "a=10\n",
    "b=50\n",
    "print(a & b)\n",
    "print(a | b)\n",
    "print(a ^ b)\n",
    "print(~b )\n",
    "print(a >> b )\n",
    "print(a << b)\n"
   ]
  },
  {
   "cell_type": "code",
   "execution_count": 16,
   "id": "f7b29de2-2d34-4e62-b8cc-0c5aeefa4d52",
   "metadata": {},
   "outputs": [
    {
     "name": "stdout",
     "output_type": "stream",
     "text": [
      "0\n",
      "1\n",
      "2\n",
      "3\n",
      "4\n",
      "5\n"
     ]
    }
   ],
   "source": [
    "# 5. While loop\n",
    " #        (repeatedly executs a block of code as long as the condition is true. )\n",
    "\n",
    "a=0                        # initialization\n",
    "while a<6:                 # while loop\n",
    "    print(a)               # printing a loop of 1 to 5 \n",
    "    a += 1                 # increment"
   ]
  }
 ],
 "metadata": {
  "kernelspec": {
   "display_name": "Python 3 (ipykernel)",
   "language": "python",
   "name": "python3"
  },
  "language_info": {
   "codemirror_mode": {
    "name": "ipython",
    "version": 3
   },
   "file_extension": ".py",
   "mimetype": "text/x-python",
   "name": "python",
   "nbconvert_exporter": "python",
   "pygments_lexer": "ipython3",
   "version": "3.12.4"
  }
 },
 "nbformat": 4,
 "nbformat_minor": 5
}
