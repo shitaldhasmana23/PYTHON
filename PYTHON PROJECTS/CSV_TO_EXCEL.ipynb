{
 "cells": [
  {
   "cell_type": "code",
   "execution_count": 3,
   "id": "edfe2915-10f8-4a70-bf3c-6d54b4914f73",
   "metadata": {},
   "outputs": [
    {
     "name": "stdout",
     "output_type": "stream",
     "text": [
      "Welcome to the CSV to Excel Converter!\n",
      "Follow the instructions to convert your CSV file to Excel format.\n"
     ]
    },
    {
     "name": "stdin",
     "output_type": "stream",
     "text": [
      "Enter the full path of the CSV file you want to convert:  C:\\\\Users\\\\Shubham\\\\Downloads\\\\class-AVLTree.csv\n",
      "Enter the desired Excel file path (Press Enter to save as 'C:\\\\Users\\\\Shubham\\\\Downloads\\\\class-AVLTree.xlsx'):  \n"
     ]
    },
    {
     "name": "stdout",
     "output_type": "stream",
     "text": [
      "\n",
      "⏳ Converting your CSV to Excel...\n",
      "✅ Success! Your Excel file has been saved at: C:\\\\Users\\\\Shubham\\\\Downloads\\\\class-AVLTree.xlsx\n",
      "\n",
      "Thank you for using the CSV to Excel Converter! Have a great day!\n"
     ]
    }
   ],
   "source": [
    "import pandas as pd\n",
    "import os\n",
    "\n",
    "def csv_to_excel():\n",
    "    print(\"Welcome to the CSV to Excel Converter!\")\n",
    "    print(\"Follow the instructions to convert your CSV file to Excel format.\")\n",
    "    \n",
    "    # Prompt user for CSV file path\n",
    "    csv_file_path = input(\"Enter the full path of the CSV file you want to convert: \").strip()\n",
    "    \n",
    "    # Check if the CSV file exists\n",
    "    if not os.path.exists(csv_file_path) or not csv_file_path.endswith('.csv'):\n",
    "        print(\"❌ Error: The file does not exist or is not a CSV file. Please try again.\")\n",
    "        return\n",
    "    \n",
    "    # Prompt user for the output Excel file path\n",
    "    default_excel_path = os.path.splitext(csv_file_path)[0] + \".xlsx\"\n",
    "    excel_file_path = input(f\"Enter the desired Excel file path (Press Enter to save as '{default_excel_path}'): \").strip()\n",
    "    \n",
    "    # Use default path if none provided\n",
    "    if not excel_file_path:\n",
    "        excel_file_path = default_excel_path\n",
    "    \n",
    "    # Convert CSV to Excel\n",
    "    try:\n",
    "        print(\"\\n⏳ Converting your CSV to Excel...\")\n",
    "        data = pd.read_csv(csv_file_path)\n",
    "        data.to_excel(excel_file_path, index=False)\n",
    "        print(f\"✅ Success! Your Excel file has been saved at: {excel_file_path}\")\n",
    "    except Exception as e:\n",
    "        print(f\"❌ An error occurred during the conversion: {e}\")\n",
    "\n",
    "    print(\"\\nThank you for using the CSV to Excel Converter! Have a great day!\")\n",
    "\n",
    "# Run the converter\n",
    "csv_to_excel()\n"
   ]
  },
  {
   "cell_type": "code",
   "execution_count": null,
   "id": "127a224d-4a78-474c-a2cd-7cbb8f4fdb46",
   "metadata": {},
   "outputs": [],
   "source": []
  }
 ],
 "metadata": {
  "kernelspec": {
   "display_name": "Python 3 (ipykernel)",
   "language": "python",
   "name": "python3"
  },
  "language_info": {
   "codemirror_mode": {
    "name": "ipython",
    "version": 3
   },
   "file_extension": ".py",
   "mimetype": "text/x-python",
   "name": "python",
   "nbconvert_exporter": "python",
   "pygments_lexer": "ipython3",
   "version": "3.12.4"
  }
 },
 "nbformat": 4,
 "nbformat_minor": 5
}
