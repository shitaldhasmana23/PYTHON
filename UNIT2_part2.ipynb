{
 "cells": [
  {
   "cell_type": "code",
   "execution_count": 1,
   "id": "a143b745-7905-42d1-bf0b-da6b2ddff07b",
   "metadata": {},
   "outputs": [],
   "source": [
    "# UNIT 2 \n",
    "# COLLECTIONS"
   ]
  },
  {
   "cell_type": "code",
   "execution_count": 9,
   "id": "637631d4-4fc9-4d95-97d8-fc759c21a7f5",
   "metadata": {},
   "outputs": [
    {
     "name": "stdout",
     "output_type": "stream",
     "text": [
      "apple\n",
      "['apple', 'banana', 'cherry', 'orange']\n",
      "['apple', 'cherry', 'orange']\n",
      "['apple', 'kiwi', 'orange']\n"
     ]
    }
   ],
   "source": [
    "# 1. LISTS\n",
    "\n",
    "# Creating a list of fruits\n",
    "fruits = [\"apple\", \"banana\", \"cherry\"]\n",
    "\n",
    "#Accessing elements by index\n",
    "\n",
    "print(fruits[0])  # Output: apple\n",
    "\n",
    "#Adding an element to the list\n",
    "\n",
    "fruits.append(\"orange\")\n",
    "print(fruits)  # Output: ['apple', 'banana', 'cherry', 'orange']\n",
    "\n",
    "#Removing an element from the list\n",
    "\n",
    "fruits.remove(\"banana\")\n",
    "print(fruits)  # Output: ['apple', 'cherry', 'orange']\n",
    "\n",
    "#Modifying an element in the list\n",
    "\n",
    "fruits[1] = \"kiwi\"\n",
    "print(fruits)  # Output: ['apple', 'kiwi', 'orange']\n",
    "\n",
    "\n"
   ]
  },
  {
   "cell_type": "code",
   "execution_count": 13,
   "id": "c875e674-b7de-4311-bd3f-5acc72e206e0",
   "metadata": {},
   "outputs": [
    {
     "name": "stdout",
     "output_type": "stream",
     "text": [
      "10.0\n",
      "Width: 1920, Height: 1080\n"
     ]
    }
   ],
   "source": [
    "# 2. TUPLES\n",
    "\n",
    "# Creating a tuple of coordinates\n",
    "coordinates = (10.0, 20.0)\n",
    "\n",
    "#Accessing elements by index\n",
    "\n",
    "print(coordinates[0])  # Output: 10.0\n",
    "\n",
    "#Attempting to modify a tuple will raise an error\n",
    "\n",
    "#Tuples can be used to return multiple values from a function\n",
    "\n",
    "def get_dimensions():\n",
    "    return 1920, 1080\n",
    "\n",
    "width, height = get_dimensions()\n",
    "print(f\"Width: {width}, Height: {height}\")  # Output: Width: 1920, Height: 1080\n"
   ]
  },
  {
   "cell_type": "code",
   "execution_count": 15,
   "id": "508fea82-2c32-47d9-a72f-7eac32e41f25",
   "metadata": {},
   "outputs": [
    {
     "name": "stdout",
     "output_type": "stream",
     "text": [
      "{1, 2, 3, 4, 5}\n",
      "{1, 2, 3, 4, 5, 6}\n",
      "{1, 2, 4, 5, 6}\n",
      "{4, 5, 6}\n"
     ]
    }
   ],
   "source": [
    "# 3. SETS\n",
    "\n",
    "# Creating a set of unique numbers\n",
    "unique_numbers = {1, 2, 3, 4, 4, 5}\n",
    "\n",
    "#Duplicate values are automatically removed\n",
    "\n",
    "print(unique_numbers)  # Output: {1, 2, 3, 4, 5}\n",
    "\n",
    "#Adding an element to the set\n",
    "\n",
    "unique_numbers.add(6)\n",
    "print(unique_numbers)  # Output: {1, 2, 3, 4, 5, 6}\n",
    "\n",
    "#Removing an element from the set\n",
    "\n",
    "unique_numbers.remove(3)\n",
    "print(unique_numbers)  # Output: {1, 2, 4, 5, 6}\n",
    "\n",
    "#Performing a set intersection\n",
    "\n",
    "other_set = {4, 5, 6, 7}\n",
    "intersection = unique_numbers & other_set\n",
    "print(intersection)  # Output: {4, 5, 6}"
   ]
  },
  {
   "cell_type": "code",
   "execution_count": 17,
   "id": "2628c151-bcec-428f-8b7c-d1f7228e16b0",
   "metadata": {},
   "outputs": [
    {
     "name": "stdout",
     "output_type": "stream",
     "text": [
      "John\n",
      "{'name': 'John', 'age': 31, 'city': 'New York'}\n",
      "{'name': 'John', 'age': 31}\n",
      "name: John\n",
      "age: 31\n"
     ]
    }
   ],
   "source": [
    "# 4. DICTIONARIES\n",
    "\n",
    "# Creating a dictionary of personal information\n",
    "person = {\n",
    "    \"name\": \"John\",\n",
    "    \"age\": 30,\n",
    "    \"city\": \"New York\"\n",
    "}\n",
    "#Accessing values by keys\n",
    "\n",
    "print(person[\"name\"])  # Output: John\n",
    "\n",
    "#Adding or modifying a key-value pair\n",
    "\n",
    "person[\"age\"] = 31\n",
    "print(person)  # Output: {'name': 'John', 'age': 31, 'city': 'New York'}\n",
    "\n",
    "#Removing a key-value pair\n",
    "\n",
    "del person[\"city\"]\n",
    "print(person)  # Output: {'name': 'John', 'age': 31}\n",
    "\n",
    "#Iterating over a dictionary\n",
    "\n",
    "for key, value in person.items():\n",
    "    print(f\"{key}: {value}\")\n"
   ]
  },
  {
   "cell_type": "code",
   "execution_count": 19,
   "id": "90cbfcbc-ce85-4054-ad12-1f39975449f8",
   "metadata": {},
   "outputs": [
    {
     "name": "stdout",
     "output_type": "stream",
     "text": [
      "{'Alice': 10, 'Bob': 15, 'Charlie': 7}\n",
      "{'Bob': 15, 'Alice': 10, 'Charlie': 7}\n"
     ]
    }
   ],
   "source": [
    "# 5. SORTING DICTIONARIES\n",
    "\n",
    "# Sorting a dictionary by keys\n",
    "scores = {\"Alice\": 10, \"Bob\": 15, \"Charlie\": 7}\n",
    "sorted_scores_by_key = dict(sorted(scores.items()))\n",
    "print(sorted_scores_by_key)  # Output: {'Alice': 10, 'Bob': 15, 'Charlie': 7}\n",
    "\n",
    "#Sorting a dictionary by values\n",
    "\n",
    "sorted_scores_by_value = dict(sorted(scores.items(), key=lambda item: item[1], reverse=True))\n",
    "print(sorted_scores_by_value)  # Output: {'Bob': 15, 'Alice': 10, 'Charlie': 7}\n"
   ]
  },
  {
   "cell_type": "code",
   "execution_count": 21,
   "id": "01f493ed-4955-4dd6-b22b-1b2931f97999",
   "metadata": {},
   "outputs": [
    {
     "name": "stdout",
     "output_type": "stream",
     "text": [
      "[1, 2, [3, 4]]\n",
      "[100, 2, [3, 4]]\n",
      "[1, 2, [3, 4]]\n",
      "[1, 2, [3, 4]]\n",
      "[1, 2, [3, 4]]\n"
     ]
    }
   ],
   "source": [
    "# 6. COPYING COLLECTIONS\n",
    "\n",
    "import copy\n",
    "\n",
    "#Shallow copy of a list\n",
    "\n",
    "original_list = [1, 2, [3, 4]]\n",
    "shallow_copy = original_list.copy()\n",
    "\n",
    "#Modifying the shallow copy doesn't affect the original list\n",
    "\n",
    "shallow_copy[0] = 100\n",
    "print(original_list)  # Output: [1, 2, [3, 4]]\n",
    "print(shallow_copy)   # Output: [100, 2, [3, 4]]\n",
    "\n",
    "#modifying nested elements affects both\n",
    "\n",
    "shallow_copy2 = 300\n",
    "print(original_list)  # Output: [1, 2, [300, 4]]\n",
    "\n",
    "#Deep copy of a list\n",
    "\n",
    "deep_copy = copy.deepcopy(original_list)\n",
    "deep_copy2 = 500\n",
    "print(original_list)\n",
    "print(deep_copy)      \n",
    "\n"
   ]
  }
 ],
 "metadata": {
  "kernelspec": {
   "display_name": "Python 3 (ipykernel)",
   "language": "python",
   "name": "python3"
  },
  "language_info": {
   "codemirror_mode": {
    "name": "ipython",
    "version": 3
   },
   "file_extension": ".py",
   "mimetype": "text/x-python",
   "name": "python",
   "nbconvert_exporter": "python",
   "pygments_lexer": "ipython3",
   "version": "3.12.4"
  }
 },
 "nbformat": 4,
 "nbformat_minor": 5
}
