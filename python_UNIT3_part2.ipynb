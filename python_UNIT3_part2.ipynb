{
 "cells": [
  {
   "cell_type": "code",
   "execution_count": 1,
   "id": "16a10f9e-f4f6-4e09-9832-a1c029b0e3a4",
   "metadata": {},
   "outputs": [],
   "source": [
    "#UNIT 3\n",
    "#PICKLE MODULES AND PILES"
   ]
  },
  {
   "cell_type": "code",
   "execution_count": 7,
   "id": "3403f767-cdda-4c95-af85-193bed500c4e",
   "metadata": {},
   "outputs": [
    {
     "name": "stdout",
     "output_type": "stream",
     "text": [
      "Data has been serialized and saved to data.pickle\n"
     ]
    }
   ],
   "source": [
    "# PICKLING \n",
    "import pickle\n",
    "\n",
    "#A Python object (dictionary in this case)\n",
    "data = {\"name\": \"Roman\", \"age\": 24, \"occupation\": \"Engineer\"}\n",
    "\n",
    "#Open a file in binary write mode\n",
    "with open(\"data.pickle\", \"wb\") as file:\n",
    "    # Pickle the Python object and save it to file\n",
    "    pickle.dump(data, file)\n",
    "\n",
    "print(\"Data has been serialized and saved to data.pickle\")"
   ]
  },
  {
   "cell_type": "code",
   "execution_count": 9,
   "id": "b9821b8a-b5b9-4b14-a51c-724149d07468",
   "metadata": {},
   "outputs": [
    {
     "name": "stdout",
     "output_type": "stream",
     "text": [
      "Deserialized data: {'name': 'Roman', 'age': 24, 'occupation': 'Engineer'}\n"
     ]
    }
   ],
   "source": [
    "# UNPICKLING\n",
    "\n",
    "import pickle\n",
    "\n",
    "#Open the file in binary read mode\n",
    "with open(\"data.pickle\", \"rb\") as file:\n",
    "    # Unpickle the Python object from the file\n",
    "    loaded_data = pickle.load(file)\n",
    "\n",
    "print(\"Deserialized data:\", loaded_data)"
   ]
  },
  {
   "cell_type": "code",
   "execution_count": 13,
   "id": "d2b69369-7f33-43ba-b4aa-b80e29069c2c",
   "metadata": {},
   "outputs": [
    {
     "name": "stdout",
     "output_type": "stream",
     "text": [
      "[{'id': 1, 'name': 'Sam'}, {'id': 2, 'name': 'Saurab'}]\n"
     ]
    }
   ],
   "source": [
    "# INTERNAL WORKING OF PICKLE\n",
    "\n",
    "import pickle\n",
    "\n",
    "data = [{\"id\": 1, \"name\": \"Sam\"}, {\"id\": 2, \"name\": \"Saurab\"}]\n",
    "with open(\"data_list.pickle\", \"wb\") as file:\n",
    "    pickle.dump(data, file)\n",
    "\n",
    "#Now unpickle it\n",
    "\n",
    "with open(\"data_list.pickle\", \"rb\") as file:\n",
    "    loaded_data = pickle.load(file)\n",
    "\n",
    "print(loaded_data)"
   ]
  },
  {
   "cell_type": "code",
   "execution_count": 17,
   "id": "004f6f77-cfc5-49b5-8404-07e73b9d3eb8",
   "metadata": {},
   "outputs": [
    {
     "name": "stdout",
     "output_type": "stream",
     "text": [
      "{'name': 'Shekhar', 'age': 24}\n"
     ]
    }
   ],
   "source": [
    "# THE shelve MODULE \n",
    "\n",
    "import shelve\n",
    "\n",
    "#Store data in a shelve\n",
    "\n",
    "with shelve.open('mydata') as db:\n",
    "    db['key'] = {'name': 'Shekhar', 'age': 24}\n",
    "\n",
    "#Retrieve data from shelve\n",
    "\n",
    "with shelve.open('mydata') as db:\n",
    "    print(db['key']) \n"
   ]
  },
  {
   "cell_type": "code",
   "execution_count": 27,
   "id": "23904836-cea4-42b5-aa84-8ff4235952da",
   "metadata": {},
   "outputs": [
    {
     "name": "stdout",
     "output_type": "stream",
     "text": [
      "Person(name=Shreya, age=25)\n"
     ]
    }
   ],
   "source": [
    "# PICKLING CUSTOM PYTHON CLASSES \n",
    "\n",
    "import pickle\n",
    "\n",
    "class Person:  # Capitalized class name\n",
    "    def __init__(self, name, age):  # Fixed __init__ method\n",
    "        self.name = name\n",
    "        self.age = age\n",
    "\n",
    "    def __repr__(self):  # Fixed __repr__ method\n",
    "        return f\"Person(name={self.name}, age={self.age})\"\n",
    "\n",
    "# Serialize an instance of Person\n",
    "person = Person(\"Shreya\", 25)  # Use the corrected class name\n",
    "with open(\"person.pickle\", \"wb\") as file:\n",
    "    pickle.dump(person, file)\n",
    "\n",
    "# Deserialize it\n",
    "with open(\"person.pickle\", \"rb\") as file:\n",
    "    loaded_person = pickle.load(file)\n",
    "\n",
    "# Print the deserialized object\n",
    "print(loaded_person)\n"
   ]
  }
 ],
 "metadata": {
  "kernelspec": {
   "display_name": "Python 3 (ipykernel)",
   "language": "python",
   "name": "python3"
  },
  "language_info": {
   "codemirror_mode": {
    "name": "ipython",
    "version": 3
   },
   "file_extension": ".py",
   "mimetype": "text/x-python",
   "name": "python",
   "nbconvert_exporter": "python",
   "pygments_lexer": "ipython3",
   "version": "3.12.4"
  }
 },
 "nbformat": 4,
 "nbformat_minor": 5
}
